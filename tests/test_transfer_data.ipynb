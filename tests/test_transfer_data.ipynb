{
 "cells": [
  {
   "cell_type": "code",
   "execution_count": 14,
   "outputs": [
    {
     "data": {
      "text/plain": "'/Users/johann/Documents/Uni/real-time-uncertainty-text-classification/tests'"
     },
     "execution_count": 14,
     "metadata": {},
     "output_type": "execute_result"
    }
   ],
   "source": [
    "import os\n",
    "os.getcwd()"
   ],
   "metadata": {
    "collapsed": false,
    "ExecuteTime": {
     "end_time": "2024-01-30T16:07:36.227308Z",
     "start_time": "2024-01-30T16:07:36.215709Z"
    }
   },
   "id": "78394450db71f1d6"
  },
  {
   "cell_type": "code",
   "execution_count": 15,
   "id": "initial_id",
   "metadata": {
    "collapsed": true,
    "ExecuteTime": {
     "end_time": "2024-01-30T16:07:36.692819Z",
     "start_time": "2024-01-30T16:07:36.687130Z"
    }
   },
   "outputs": [],
   "source": [
    "import pandas as pd"
   ]
  },
  {
   "cell_type": "code",
   "execution_count": 16,
   "outputs": [],
   "source": [
    "df = pd.read_csv('../data/distribution_distillation/aleatoric_and_epistemic/m5_k10/transfer_train.csv', sep='\\t')"
   ],
   "metadata": {
    "collapsed": false,
    "ExecuteTime": {
     "end_time": "2024-01-30T16:07:37.226902Z",
     "start_time": "2024-01-30T16:07:37.121409Z"
    }
   },
   "id": "9619c51d038ce340"
  },
  {
   "cell_type": "code",
   "execution_count": 17,
   "outputs": [
    {
     "data": {
      "text/plain": "                                               sequences  labels  \\\n18020   <emoji> <emoji> <emoji> <emoji> <emoji> <emoj...       1   \n9712    <emoji> <emoji> <emoji> <emoji> <emoji> rt <u...       1   \n13441   <emoji> <emoji> <emoji> <emoji> plus sheryl c...       0   \n11410   <emoji> <emoji> <emoji> <user> its true that ...       0   \n12887   <emoji> <emoji> <emoji> <user> no bitch go aw...       1   \n17288        <emoji> <emoji> <emoji> i hate ya bitch ass       1   \n16359   <emoji> <emoji> <emoji> lmao my nigga lets go...       1   \n4565    <emoji> <emoji> <emoji> rt <user> hood hoes l...       1   \n6784    <emoji> <emoji> <emoji> your my bffl i love y...       1   \n4894    <emoji> <emoji> <hashtag> yep <hashtag> dont ...       1   \n4177    <emoji> <emoji> <user> <user> bucket rt <user...       1   \n14130   <emoji> <emoji> <user> my fucking god bruh th...       1   \n3739    <emoji> <emoji> <user> of course cooders nude...       1   \n17249   <emoji> <emoji> <user> somebody gonna die <em...       1   \n18820   <emoji> <emoji> <user> yall be tweakin wit th...       1   \n17133      <emoji> <emoji> bitches get stuff done <url>        1   \n19570   <emoji> <emoji> fucc nicca yu pose to be pull...       1   \n11759   <emoji> <emoji> i have to explore the pussy o...       1   \n2040         <emoji> <emoji> mike calls me tbird <user>        0   \n9052    <emoji> <emoji> my stomach in pain like a muf...       1   \n1497    <emoji> <emoji> niggas sending screenshots of...       1   \n18831                <emoji> <emoji> on the pussy <url>        1   \n13420   <emoji> <emoji> rt <user> <emoji> <emoji> <us...       1   \n17223   <emoji> <emoji> rt <user> <user> bitches they...       1   \n16648   <emoji> <emoji> rt <user> fox<number> got dem...       1   \n4176    <emoji> <emoji> rt <user> mexican bitches sha...       1   \n4890    <emoji> <emoji> rt <user> my co worker talkin...       1   \n19864   <emoji> <emoji> rt <user> niggaz get free pus...       1   \n2148        <emoji> <emoji> rt <user> real men eat pussy       1   \n9808    <emoji> <emoji> rt <user> rt <user> a piece o...       1   \n6880    <emoji> <emoji> rt <user> rt <user> lmfao <us...       1   \n17490   <emoji> <emoji> rt <user> welp rt <user> the ...       1   \n10384   <emoji> <emoji> this fucking bitch rachel nee...       1   \n21200   <emoji> <emoji> this white bitch think she mi...       1   \n3391    <emoji> <emoji> ugh bitch i love you that a s...       1   \n10388   <emoji> <emoji> we snap chatted for one night...       0   \n764     <emoji> <emoji> why lie youre my nigguh <emoji>        1   \n14948   <emoji> <emoji> you a little genius man i nee...       1   \n2048    <emoji> <emoji> you needa stop sucking dick h...       1   \n3074    <emoji> <emoji> youve been a good as friend t...       1   \n10409   <emoji> <user> and ima steal his cat n replac...       1   \n3097              <emoji> <user> bitch was mad af <url>        1   \n4365    <emoji> <user> dont do em with my girl lol rt...       1   \n12436   <emoji> <user> i guess ill just trash this dr...       0   \n11023   <emoji> <user> i seen a thot ass bitch in som...       1   \n18076   <emoji> <user> on a leash <emoji> rt <user> j...       1   \n14512   <emoji> <user> so the new wave is bitches wea...       1   \n17543   <emoji> <user> teanna trump probably cleaner ...       1   \n21424   <emoji> <user> that pussy is just <emoji> imm...       1   \n4225    <emoji> <user> you a faggot if you eat pork c...       1   \n12871   <emoji> bitch if youre the hobbit you need to...       1   \n\n                                             predictions  \n18020  [0.9308047, 0.9474715, 0.93008417, 0.9940888, ...  \n9712   [6.427207, 6.4484844, 6.480265, 6.45357, 6.432...  \n13441  [-2.344922, -2.244814, -2.3136396, -2.3487642,...  \n11410  [-4.778597, -4.8365836, -4.829135, -4.7491574,...  \n12887  [5.812077, 5.8141613, 5.7768226, 5.8078723, 5....  \n17288  [6.352251, 6.388625, 6.4166594, 6.3963237, 6.4...  \n16359  [5.495905, 5.455582, 5.4730716, 5.4971123, 5.4...  \n4565   [5.217797, 5.2033024, 5.2168326, 5.1951814, 5....  \n6784   [6.5622373, 6.567452, 6.566073, 6.566251, 6.59...  \n4894   [6.2982802, 6.338984, 6.3010335, 6.3543787, 6....  \n4177   [6.5167623, 6.500647, 6.4800873, 6.510585, 6.5...  \n14130  [5.715019, 5.700671, 5.702514, 5.7223034, 5.69...  \n3739   [0.49229598, 0.48210937, 0.48909605, 0.4585026...  \n17249  [6.32335, 6.3724637, 6.3386974, 6.321465, 6.35...  \n18820  [6.4720354, 6.489247, 6.4712915, 6.537387, 6.4...  \n17133  [6.3465414, 6.35794, 6.3860707, 6.374179, 6.38...  \n19570  [2.0339336, 2.016485, 2.0187263, 2.0427918, 2....  \n11759  [6.0720954, 6.064645, 6.0378346, 6.1547914, 6....  \n2040   [-1.631751, -1.6221768, -1.6516038, -1.5869138...  \n9052   [5.8330417, 5.80491, 5.885029, 5.8575945, 5.83...  \n1497   [6.585766, 6.575939, 6.5277042, 6.5682726, 6.5...  \n18831  [5.961014, 5.9541397, 5.9294024, 6.0373144, 5....  \n13420  [4.7326655, 4.700954, 4.7104006, 4.7414174, 4....  \n17223  [6.3702116, 6.3226757, 6.3432937, 6.371635, 6....  \n16648  [6.2410574, 6.274189, 6.299724, 6.2812014, 6.2...  \n4176   [6.5458565, 6.5682664, 6.601738, 6.5736227, 6....  \n4890   [5.9211216, 6.003886, 5.9381194, 5.938605, 5.9...  \n19864  [6.2497964, 6.257578, 6.2336617, 6.286237, 6.2...  \n2148   [6.38855, 6.4033165, 6.387912, 6.444618, 6.389...  \n9808   [6.4782176, 6.4998927, 6.532268, 6.5050735, 6....  \n6880   [6.7040305, 6.7095656, 6.7081017, 6.7082906, 6...  \n17490  [6.6270375, 6.609323, 6.6115985, 6.6360307, 6....  \n10384  [6.708803, 6.7333097, 6.7699137, 6.739167, 6.7...  \n21200  [6.485495, 6.507474, 6.5403023, 6.5127273, 6.4...  \n3391   [6.5465727, 6.561327, 6.529283, 6.5399227, 6.5...  \n10388  [-0.94931334, -0.9393232, -0.9787193, -0.96747...  \n764    [5.1275053, 5.1051226, 5.1688685, 5.1470404, 5...  \n14948  [5.061824, 5.0754275, 5.061236, 5.113477, 5.06...  \n2048   [6.655218, 6.660738, 6.659278, 6.6594663, 6.69...  \n3074   [6.0816717, 6.141519, 6.144825, 6.076278, 6.09...  \n10409  [5.7507405, 5.740037, 5.765536, 5.786132, 5.74...  \n3097   [6.3188396, 6.3098764, 6.2658815, 6.3028836, 6...  \n4365   [6.179391, 6.1901674, 6.216762, 6.205519, 6.21...  \n12436  [-3.1016715, -3.0858765, -3.1481633, -3.130379...  \n11023  [6.182793, 6.1747675, 6.1458864, 6.271875, 6.2...  \n18076  [5.2964025, 5.2729774, 5.339692, 5.3168473, 5....  \n14512  [6.4048724, 6.4269667, 6.4599676, 6.4322476, 6...  \n17543  [5.986462, 5.9459887, 5.9635434, 5.9876738, 5....  \n21424  [6.3948627, 6.416751, 6.4494443, 6.421983, 6.3...  \n4225   [5.7357025, 5.780655, 5.7497497, 5.7339773, 5....  \n12871  [6.382249, 6.3321, 6.3538513, 6.3837504, 6.345...  ",
      "text/html": "<div>\n<style scoped>\n    .dataframe tbody tr th:only-of-type {\n        vertical-align: middle;\n    }\n\n    .dataframe tbody tr th {\n        vertical-align: top;\n    }\n\n    .dataframe thead th {\n        text-align: right;\n    }\n</style>\n<table border=\"1\" class=\"dataframe\">\n  <thead>\n    <tr style=\"text-align: right;\">\n      <th></th>\n      <th>sequences</th>\n      <th>labels</th>\n      <th>predictions</th>\n    </tr>\n  </thead>\n  <tbody>\n    <tr>\n      <th>18020</th>\n      <td>&lt;emoji&gt; &lt;emoji&gt; &lt;emoji&gt; &lt;emoji&gt; &lt;emoji&gt; &lt;emoj...</td>\n      <td>1</td>\n      <td>[0.9308047, 0.9474715, 0.93008417, 0.9940888, ...</td>\n    </tr>\n    <tr>\n      <th>9712</th>\n      <td>&lt;emoji&gt; &lt;emoji&gt; &lt;emoji&gt; &lt;emoji&gt; &lt;emoji&gt; rt &lt;u...</td>\n      <td>1</td>\n      <td>[6.427207, 6.4484844, 6.480265, 6.45357, 6.432...</td>\n    </tr>\n    <tr>\n      <th>13441</th>\n      <td>&lt;emoji&gt; &lt;emoji&gt; &lt;emoji&gt; &lt;emoji&gt; plus sheryl c...</td>\n      <td>0</td>\n      <td>[-2.344922, -2.244814, -2.3136396, -2.3487642,...</td>\n    </tr>\n    <tr>\n      <th>11410</th>\n      <td>&lt;emoji&gt; &lt;emoji&gt; &lt;emoji&gt; &lt;user&gt; its true that ...</td>\n      <td>0</td>\n      <td>[-4.778597, -4.8365836, -4.829135, -4.7491574,...</td>\n    </tr>\n    <tr>\n      <th>12887</th>\n      <td>&lt;emoji&gt; &lt;emoji&gt; &lt;emoji&gt; &lt;user&gt; no bitch go aw...</td>\n      <td>1</td>\n      <td>[5.812077, 5.8141613, 5.7768226, 5.8078723, 5....</td>\n    </tr>\n    <tr>\n      <th>17288</th>\n      <td>&lt;emoji&gt; &lt;emoji&gt; &lt;emoji&gt; i hate ya bitch ass</td>\n      <td>1</td>\n      <td>[6.352251, 6.388625, 6.4166594, 6.3963237, 6.4...</td>\n    </tr>\n    <tr>\n      <th>16359</th>\n      <td>&lt;emoji&gt; &lt;emoji&gt; &lt;emoji&gt; lmao my nigga lets go...</td>\n      <td>1</td>\n      <td>[5.495905, 5.455582, 5.4730716, 5.4971123, 5.4...</td>\n    </tr>\n    <tr>\n      <th>4565</th>\n      <td>&lt;emoji&gt; &lt;emoji&gt; &lt;emoji&gt; rt &lt;user&gt; hood hoes l...</td>\n      <td>1</td>\n      <td>[5.217797, 5.2033024, 5.2168326, 5.1951814, 5....</td>\n    </tr>\n    <tr>\n      <th>6784</th>\n      <td>&lt;emoji&gt; &lt;emoji&gt; &lt;emoji&gt; your my bffl i love y...</td>\n      <td>1</td>\n      <td>[6.5622373, 6.567452, 6.566073, 6.566251, 6.59...</td>\n    </tr>\n    <tr>\n      <th>4894</th>\n      <td>&lt;emoji&gt; &lt;emoji&gt; &lt;hashtag&gt; yep &lt;hashtag&gt; dont ...</td>\n      <td>1</td>\n      <td>[6.2982802, 6.338984, 6.3010335, 6.3543787, 6....</td>\n    </tr>\n    <tr>\n      <th>4177</th>\n      <td>&lt;emoji&gt; &lt;emoji&gt; &lt;user&gt; &lt;user&gt; bucket rt &lt;user...</td>\n      <td>1</td>\n      <td>[6.5167623, 6.500647, 6.4800873, 6.510585, 6.5...</td>\n    </tr>\n    <tr>\n      <th>14130</th>\n      <td>&lt;emoji&gt; &lt;emoji&gt; &lt;user&gt; my fucking god bruh th...</td>\n      <td>1</td>\n      <td>[5.715019, 5.700671, 5.702514, 5.7223034, 5.69...</td>\n    </tr>\n    <tr>\n      <th>3739</th>\n      <td>&lt;emoji&gt; &lt;emoji&gt; &lt;user&gt; of course cooders nude...</td>\n      <td>1</td>\n      <td>[0.49229598, 0.48210937, 0.48909605, 0.4585026...</td>\n    </tr>\n    <tr>\n      <th>17249</th>\n      <td>&lt;emoji&gt; &lt;emoji&gt; &lt;user&gt; somebody gonna die &lt;em...</td>\n      <td>1</td>\n      <td>[6.32335, 6.3724637, 6.3386974, 6.321465, 6.35...</td>\n    </tr>\n    <tr>\n      <th>18820</th>\n      <td>&lt;emoji&gt; &lt;emoji&gt; &lt;user&gt; yall be tweakin wit th...</td>\n      <td>1</td>\n      <td>[6.4720354, 6.489247, 6.4712915, 6.537387, 6.4...</td>\n    </tr>\n    <tr>\n      <th>17133</th>\n      <td>&lt;emoji&gt; &lt;emoji&gt; bitches get stuff done &lt;url&gt;</td>\n      <td>1</td>\n      <td>[6.3465414, 6.35794, 6.3860707, 6.374179, 6.38...</td>\n    </tr>\n    <tr>\n      <th>19570</th>\n      <td>&lt;emoji&gt; &lt;emoji&gt; fucc nicca yu pose to be pull...</td>\n      <td>1</td>\n      <td>[2.0339336, 2.016485, 2.0187263, 2.0427918, 2....</td>\n    </tr>\n    <tr>\n      <th>11759</th>\n      <td>&lt;emoji&gt; &lt;emoji&gt; i have to explore the pussy o...</td>\n      <td>1</td>\n      <td>[6.0720954, 6.064645, 6.0378346, 6.1547914, 6....</td>\n    </tr>\n    <tr>\n      <th>2040</th>\n      <td>&lt;emoji&gt; &lt;emoji&gt; mike calls me tbird &lt;user&gt;</td>\n      <td>0</td>\n      <td>[-1.631751, -1.6221768, -1.6516038, -1.5869138...</td>\n    </tr>\n    <tr>\n      <th>9052</th>\n      <td>&lt;emoji&gt; &lt;emoji&gt; my stomach in pain like a muf...</td>\n      <td>1</td>\n      <td>[5.8330417, 5.80491, 5.885029, 5.8575945, 5.83...</td>\n    </tr>\n    <tr>\n      <th>1497</th>\n      <td>&lt;emoji&gt; &lt;emoji&gt; niggas sending screenshots of...</td>\n      <td>1</td>\n      <td>[6.585766, 6.575939, 6.5277042, 6.5682726, 6.5...</td>\n    </tr>\n    <tr>\n      <th>18831</th>\n      <td>&lt;emoji&gt; &lt;emoji&gt; on the pussy &lt;url&gt;</td>\n      <td>1</td>\n      <td>[5.961014, 5.9541397, 5.9294024, 6.0373144, 5....</td>\n    </tr>\n    <tr>\n      <th>13420</th>\n      <td>&lt;emoji&gt; &lt;emoji&gt; rt &lt;user&gt; &lt;emoji&gt; &lt;emoji&gt; &lt;us...</td>\n      <td>1</td>\n      <td>[4.7326655, 4.700954, 4.7104006, 4.7414174, 4....</td>\n    </tr>\n    <tr>\n      <th>17223</th>\n      <td>&lt;emoji&gt; &lt;emoji&gt; rt &lt;user&gt; &lt;user&gt; bitches they...</td>\n      <td>1</td>\n      <td>[6.3702116, 6.3226757, 6.3432937, 6.371635, 6....</td>\n    </tr>\n    <tr>\n      <th>16648</th>\n      <td>&lt;emoji&gt; &lt;emoji&gt; rt &lt;user&gt; fox&lt;number&gt; got dem...</td>\n      <td>1</td>\n      <td>[6.2410574, 6.274189, 6.299724, 6.2812014, 6.2...</td>\n    </tr>\n    <tr>\n      <th>4176</th>\n      <td>&lt;emoji&gt; &lt;emoji&gt; rt &lt;user&gt; mexican bitches sha...</td>\n      <td>1</td>\n      <td>[6.5458565, 6.5682664, 6.601738, 6.5736227, 6....</td>\n    </tr>\n    <tr>\n      <th>4890</th>\n      <td>&lt;emoji&gt; &lt;emoji&gt; rt &lt;user&gt; my co worker talkin...</td>\n      <td>1</td>\n      <td>[5.9211216, 6.003886, 5.9381194, 5.938605, 5.9...</td>\n    </tr>\n    <tr>\n      <th>19864</th>\n      <td>&lt;emoji&gt; &lt;emoji&gt; rt &lt;user&gt; niggaz get free pus...</td>\n      <td>1</td>\n      <td>[6.2497964, 6.257578, 6.2336617, 6.286237, 6.2...</td>\n    </tr>\n    <tr>\n      <th>2148</th>\n      <td>&lt;emoji&gt; &lt;emoji&gt; rt &lt;user&gt; real men eat pussy</td>\n      <td>1</td>\n      <td>[6.38855, 6.4033165, 6.387912, 6.444618, 6.389...</td>\n    </tr>\n    <tr>\n      <th>9808</th>\n      <td>&lt;emoji&gt; &lt;emoji&gt; rt &lt;user&gt; rt &lt;user&gt; a piece o...</td>\n      <td>1</td>\n      <td>[6.4782176, 6.4998927, 6.532268, 6.5050735, 6....</td>\n    </tr>\n    <tr>\n      <th>6880</th>\n      <td>&lt;emoji&gt; &lt;emoji&gt; rt &lt;user&gt; rt &lt;user&gt; lmfao &lt;us...</td>\n      <td>1</td>\n      <td>[6.7040305, 6.7095656, 6.7081017, 6.7082906, 6...</td>\n    </tr>\n    <tr>\n      <th>17490</th>\n      <td>&lt;emoji&gt; &lt;emoji&gt; rt &lt;user&gt; welp rt &lt;user&gt; the ...</td>\n      <td>1</td>\n      <td>[6.6270375, 6.609323, 6.6115985, 6.6360307, 6....</td>\n    </tr>\n    <tr>\n      <th>10384</th>\n      <td>&lt;emoji&gt; &lt;emoji&gt; this fucking bitch rachel nee...</td>\n      <td>1</td>\n      <td>[6.708803, 6.7333097, 6.7699137, 6.739167, 6.7...</td>\n    </tr>\n    <tr>\n      <th>21200</th>\n      <td>&lt;emoji&gt; &lt;emoji&gt; this white bitch think she mi...</td>\n      <td>1</td>\n      <td>[6.485495, 6.507474, 6.5403023, 6.5127273, 6.4...</td>\n    </tr>\n    <tr>\n      <th>3391</th>\n      <td>&lt;emoji&gt; &lt;emoji&gt; ugh bitch i love you that a s...</td>\n      <td>1</td>\n      <td>[6.5465727, 6.561327, 6.529283, 6.5399227, 6.5...</td>\n    </tr>\n    <tr>\n      <th>10388</th>\n      <td>&lt;emoji&gt; &lt;emoji&gt; we snap chatted for one night...</td>\n      <td>0</td>\n      <td>[-0.94931334, -0.9393232, -0.9787193, -0.96747...</td>\n    </tr>\n    <tr>\n      <th>764</th>\n      <td>&lt;emoji&gt; &lt;emoji&gt; why lie youre my nigguh &lt;emoji&gt;</td>\n      <td>1</td>\n      <td>[5.1275053, 5.1051226, 5.1688685, 5.1470404, 5...</td>\n    </tr>\n    <tr>\n      <th>14948</th>\n      <td>&lt;emoji&gt; &lt;emoji&gt; you a little genius man i nee...</td>\n      <td>1</td>\n      <td>[5.061824, 5.0754275, 5.061236, 5.113477, 5.06...</td>\n    </tr>\n    <tr>\n      <th>2048</th>\n      <td>&lt;emoji&gt; &lt;emoji&gt; you needa stop sucking dick h...</td>\n      <td>1</td>\n      <td>[6.655218, 6.660738, 6.659278, 6.6594663, 6.69...</td>\n    </tr>\n    <tr>\n      <th>3074</th>\n      <td>&lt;emoji&gt; &lt;emoji&gt; youve been a good as friend t...</td>\n      <td>1</td>\n      <td>[6.0816717, 6.141519, 6.144825, 6.076278, 6.09...</td>\n    </tr>\n    <tr>\n      <th>10409</th>\n      <td>&lt;emoji&gt; &lt;user&gt; and ima steal his cat n replac...</td>\n      <td>1</td>\n      <td>[5.7507405, 5.740037, 5.765536, 5.786132, 5.74...</td>\n    </tr>\n    <tr>\n      <th>3097</th>\n      <td>&lt;emoji&gt; &lt;user&gt; bitch was mad af &lt;url&gt;</td>\n      <td>1</td>\n      <td>[6.3188396, 6.3098764, 6.2658815, 6.3028836, 6...</td>\n    </tr>\n    <tr>\n      <th>4365</th>\n      <td>&lt;emoji&gt; &lt;user&gt; dont do em with my girl lol rt...</td>\n      <td>1</td>\n      <td>[6.179391, 6.1901674, 6.216762, 6.205519, 6.21...</td>\n    </tr>\n    <tr>\n      <th>12436</th>\n      <td>&lt;emoji&gt; &lt;user&gt; i guess ill just trash this dr...</td>\n      <td>0</td>\n      <td>[-3.1016715, -3.0858765, -3.1481633, -3.130379...</td>\n    </tr>\n    <tr>\n      <th>11023</th>\n      <td>&lt;emoji&gt; &lt;user&gt; i seen a thot ass bitch in som...</td>\n      <td>1</td>\n      <td>[6.182793, 6.1747675, 6.1458864, 6.271875, 6.2...</td>\n    </tr>\n    <tr>\n      <th>18076</th>\n      <td>&lt;emoji&gt; &lt;user&gt; on a leash &lt;emoji&gt; rt &lt;user&gt; j...</td>\n      <td>1</td>\n      <td>[5.2964025, 5.2729774, 5.339692, 5.3168473, 5....</td>\n    </tr>\n    <tr>\n      <th>14512</th>\n      <td>&lt;emoji&gt; &lt;user&gt; so the new wave is bitches wea...</td>\n      <td>1</td>\n      <td>[6.4048724, 6.4269667, 6.4599676, 6.4322476, 6...</td>\n    </tr>\n    <tr>\n      <th>17543</th>\n      <td>&lt;emoji&gt; &lt;user&gt; teanna trump probably cleaner ...</td>\n      <td>1</td>\n      <td>[5.986462, 5.9459887, 5.9635434, 5.9876738, 5....</td>\n    </tr>\n    <tr>\n      <th>21424</th>\n      <td>&lt;emoji&gt; &lt;user&gt; that pussy is just &lt;emoji&gt; imm...</td>\n      <td>1</td>\n      <td>[6.3948627, 6.416751, 6.4494443, 6.421983, 6.3...</td>\n    </tr>\n    <tr>\n      <th>4225</th>\n      <td>&lt;emoji&gt; &lt;user&gt; you a faggot if you eat pork c...</td>\n      <td>1</td>\n      <td>[5.7357025, 5.780655, 5.7497497, 5.7339773, 5....</td>\n    </tr>\n    <tr>\n      <th>12871</th>\n      <td>&lt;emoji&gt; bitch if youre the hobbit you need to...</td>\n      <td>1</td>\n      <td>[6.382249, 6.3321, 6.3538513, 6.3837504, 6.345...</td>\n    </tr>\n  </tbody>\n</table>\n</div>"
     },
     "execution_count": 17,
     "metadata": {},
     "output_type": "execute_result"
    }
   ],
   "source": [
    "df.sort_values(by=['sequences']).head(51)  # m * k + 1"
   ],
   "metadata": {
    "collapsed": false,
    "ExecuteTime": {
     "end_time": "2024-01-30T16:07:38.219310Z",
     "start_time": "2024-01-30T16:07:38.186674Z"
    }
   },
   "id": "96015bbed2784f5"
  },
  {
   "cell_type": "code",
   "execution_count": 6,
   "outputs": [],
   "source": [
    "grouped_df = df.groupby(['sequences', 'labels'])['predictions'].agg(list).reset_index()\n",
    "\n",
    "grouped_df.columns = ['sequences', 'labels', 'predictions']"
   ],
   "metadata": {
    "collapsed": false,
    "ExecuteTime": {
     "end_time": "2024-01-30T10:47:44.223855Z",
     "start_time": "2024-01-30T10:47:43.797417Z"
    }
   },
   "id": "fb0ea5ff57b7b36e"
  },
  {
   "cell_type": "code",
   "execution_count": 7,
   "outputs": [
    {
     "data": {
      "text/plain": "                                           sequences  labels  \\\n0   <emoji> <emoji> <emoji> <emoji> <emoji> <emoj...       1   \n1   <emoji> <emoji> <emoji> <emoji> <emoji> rt <u...       1   \n2   <emoji> <emoji> <emoji> <emoji> plus sheryl c...       0   \n3   <emoji> <emoji> <emoji> <user> its true that ...       0   \n4   <emoji> <emoji> <emoji> <user> no bitch go aw...       1   \n\n                                         predictions  \n0  [0.9308047, 0.6731682, -1.1730337, 1.6038766, ...  \n1  [6.427207, 6.040002, 5.988548, 6.1909018, 6.39...  \n2  [-2.344922, -3.5469725, -3.8677535, -3.263397,...  \n3  [-4.778597, -5.3132877, -4.50789, -4.6708927, ...  \n4  [5.812077, 6.0342045, 6.3118553, 5.999442, 6.4...  ",
      "text/html": "<div>\n<style scoped>\n    .dataframe tbody tr th:only-of-type {\n        vertical-align: middle;\n    }\n\n    .dataframe tbody tr th {\n        vertical-align: top;\n    }\n\n    .dataframe thead th {\n        text-align: right;\n    }\n</style>\n<table border=\"1\" class=\"dataframe\">\n  <thead>\n    <tr style=\"text-align: right;\">\n      <th></th>\n      <th>sequences</th>\n      <th>labels</th>\n      <th>predictions</th>\n    </tr>\n  </thead>\n  <tbody>\n    <tr>\n      <th>0</th>\n      <td>&lt;emoji&gt; &lt;emoji&gt; &lt;emoji&gt; &lt;emoji&gt; &lt;emoji&gt; &lt;emoj...</td>\n      <td>1</td>\n      <td>[0.9308047, 0.6731682, -1.1730337, 1.6038766, ...</td>\n    </tr>\n    <tr>\n      <th>1</th>\n      <td>&lt;emoji&gt; &lt;emoji&gt; &lt;emoji&gt; &lt;emoji&gt; &lt;emoji&gt; rt &lt;u...</td>\n      <td>1</td>\n      <td>[6.427207, 6.040002, 5.988548, 6.1909018, 6.39...</td>\n    </tr>\n    <tr>\n      <th>2</th>\n      <td>&lt;emoji&gt; &lt;emoji&gt; &lt;emoji&gt; &lt;emoji&gt; plus sheryl c...</td>\n      <td>0</td>\n      <td>[-2.344922, -3.5469725, -3.8677535, -3.263397,...</td>\n    </tr>\n    <tr>\n      <th>3</th>\n      <td>&lt;emoji&gt; &lt;emoji&gt; &lt;emoji&gt; &lt;user&gt; its true that ...</td>\n      <td>0</td>\n      <td>[-4.778597, -5.3132877, -4.50789, -4.6708927, ...</td>\n    </tr>\n    <tr>\n      <th>4</th>\n      <td>&lt;emoji&gt; &lt;emoji&gt; &lt;emoji&gt; &lt;user&gt; no bitch go aw...</td>\n      <td>1</td>\n      <td>[5.812077, 6.0342045, 6.3118553, 5.999442, 6.4...</td>\n    </tr>\n  </tbody>\n</table>\n</div>"
     },
     "execution_count": 7,
     "metadata": {},
     "output_type": "execute_result"
    }
   ],
   "source": [
    "grouped_df.head()"
   ],
   "metadata": {
    "collapsed": false,
    "ExecuteTime": {
     "end_time": "2024-01-30T10:47:44.825398Z",
     "start_time": "2024-01-30T10:47:44.821813Z"
    }
   },
   "id": "b5aae001ec696c1b"
  },
  {
   "cell_type": "code",
   "execution_count": 9,
   "outputs": [
    {
     "data": {
      "text/plain": "<user> bitch                                                                                                                                           1000\n<user> pussy                                                                                                                                           1000\n<user> faggot                                                                                                                                           750\n best asian massage on the park slope top rated spa <number> <number> <number> <number> <url>                                                           700\n<user> fag                                                                                                                                              450\n                                                                                                                                                       ... \nrt <user> latest draftexpress mock draft has randle <number> cauleystein <number> young <number> poythress <number> harrison twins dakari johnson a      50\n<user> big ole middle finger bitch                                                                                                                       50\nfucc niccas dnt want no smoke                                                                                                                            50\ngo utes you got playboy bitches disrespectful players and a bunch of spoiled hipsters at your school so im cheering for you <hashtag> not                50\nlatina bitches only                                                                                                                                      50\nName: sequences, Length: 22034, dtype: int64"
     },
     "execution_count": 9,
     "metadata": {},
     "output_type": "execute_result"
    }
   ],
   "source": [
    "df.sequences.value_counts()"
   ],
   "metadata": {
    "collapsed": false,
    "ExecuteTime": {
     "end_time": "2024-01-30T10:49:08.671951Z",
     "start_time": "2024-01-30T10:49:08.666909Z"
    }
   },
   "id": "d6d2654d27d3a09e"
  },
  {
   "cell_type": "code",
   "execution_count": 8,
   "outputs": [
    {
     "data": {
      "text/plain": "50      21890\n100       121\n150        14\n200         4\n250         3\n1000        2\n700         1\n400         1\n450         1\n750         1\n350         1\n300         1\nName: predictions, dtype: int64"
     },
     "execution_count": 8,
     "metadata": {},
     "output_type": "execute_result"
    }
   ],
   "source": [
    "grouped_df['predictions'].apply(lambda x: len(x)).value_counts()"
   ],
   "metadata": {
    "collapsed": false,
    "ExecuteTime": {
     "end_time": "2024-01-30T10:47:58.998086Z",
     "start_time": "2024-01-30T10:47:58.988293Z"
    }
   },
   "id": "27e7587b333ecfe9"
  },
  {
   "cell_type": "code",
   "execution_count": null,
   "outputs": [],
   "source": [],
   "metadata": {
    "collapsed": false
   },
   "id": "94f3db77515e6954"
  }
 ],
 "metadata": {
  "kernelspec": {
   "display_name": "Python 3",
   "language": "python",
   "name": "python3"
  },
  "language_info": {
   "codemirror_mode": {
    "name": "ipython",
    "version": 2
   },
   "file_extension": ".py",
   "mimetype": "text/x-python",
   "name": "python",
   "nbconvert_exporter": "python",
   "pygments_lexer": "ipython2",
   "version": "2.7.6"
  }
 },
 "nbformat": 4,
 "nbformat_minor": 5
}

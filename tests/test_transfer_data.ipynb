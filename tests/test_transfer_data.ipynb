{
 "cells": [
  {
   "cell_type": "code",
   "execution_count": 4,
   "id": "initial_id",
   "metadata": {
    "collapsed": true,
    "ExecuteTime": {
     "end_time": "2023-12-24T21:23:15.294405Z",
     "start_time": "2023-12-24T21:23:15.291303Z"
    }
   },
   "outputs": [],
   "source": [
    "import pandas as pd"
   ]
  },
  {
   "cell_type": "code",
   "execution_count": 6,
   "outputs": [],
   "source": [
    "df = pd.read_csv('distribution_distillation/data/transfer_data.csv', sep='\\t')"
   ],
   "metadata": {
    "collapsed": false,
    "ExecuteTime": {
     "end_time": "2023-12-24T21:23:30.672890Z",
     "start_time": "2023-12-24T21:23:30.658367Z"
    }
   },
   "id": "9619c51d038ce340"
  },
  {
   "cell_type": "code",
   "execution_count": 12,
   "outputs": [
    {
     "data": {
      "text/plain": "                                              sequences  labels  predictions\n8872   <emoji> rt <user> id rather be called nigger ...       1     0.008759\n9336   <emoji> rt <user> id rather be called nigger ...       1     0.554328\n8856   <emoji> rt <user> id rather be called nigger ...       1     0.000000\n9320   <emoji> rt <user> id rather be called nigger ...       1     0.530599\n9304   <emoji> rt <user> id rather be called nigger ...       1     0.450053\n8888   <emoji> rt <user> id rather be called nigger ...       1     0.194698\n8904   <emoji> rt <user> id rather be called nigger ...       1     0.240570\n8920   <emoji> rt <user> id rather be called nigger ...       1     0.321116\n9288   <emoji> rt <user> id rather be called nigger ...       1     0.404182\n8936   <emoji> rt <user> id rather be called nigger ...       1     0.344845\n9272   <emoji> rt <user> id rather be called nigger ...       1     0.217950\n8952   <emoji> rt <user> id rather be called nigger ...       1     0.453303\n9256   <emoji> rt <user> id rather be called nigger ...       1     0.109492\n8968   <emoji> rt <user> id rather be called nigger ...       1     0.289936\n9240   <emoji> rt <user> id rather be called nigger ...       1     0.085763\n8984   <emoji> rt <user> id rather be called nigger ...       1     0.335807\n9224   <emoji> rt <user> id rather be called nigger ...       1     0.005216\n9000   <emoji> rt <user> id rather be called nigger ...       1     0.416353\n9016   <emoji> rt <user> id rather be called nigger ...       1     0.440082\n9208   <emoji> rt <user> id rather be called nigger ...       1     0.000000\n9032   <emoji> rt <user> id rather be called nigger ...       1     0.548540\n9192   <emoji> rt <user> id rather be called nigger ...       1     0.964560\n9048   <emoji> rt <user> id rather be called nigger ...       1     0.308200\n9176   <emoji> rt <user> id rather be called nigger ...       1     0.856102\n9064   <emoji> rt <user> id rather be called nigger ...       1     0.354072\n9160   <emoji> rt <user> id rather be called nigger ...       1     0.832373\n9144   <emoji> rt <user> id rather be called nigger ...       1     0.751826\n9080   <emoji> rt <user> id rather be called nigger ...       1     0.434618\n9128   <emoji> rt <user> id rather be called nigger ...       1     0.705955\n9096   <emoji> rt <user> id rather be called nigger ...       1     0.458347\n9352   <emoji> rt <user> id rather be called nigger ...       1     0.662786\n8840   <emoji> rt <user> id rather be called nigger ...       1     0.000000\n9112   <emoji> rt <user> id rather be called nigger ...       1     0.566805\n9576   <emoji> rt <user> id rather be called nigger ...       1     0.826005\n9496   <emoji> rt <user> id rather be called nigger ...       1     0.736523\n9528   <emoji> rt <user> id rather be called nigger ...       1     0.675858\n8824   <emoji> rt <user> id rather be called nigger ...       1     0.000000\n9480   <emoji> rt <user> id rather be called nigger ...       1     0.712794\n9544   <emoji> rt <user> id rather be called nigger ...       1     0.721729\n9464   <emoji> rt <user> id rather be called nigger ...       1     0.632247\n9448   <emoji> rt <user> id rather be called nigger ...       1     0.586376\n9560   <emoji> rt <user> id rather be called nigger ...       1     0.802276\n9432   <emoji> rt <user> id rather be called nigger ...       1     0.984843\n9512   <emoji> rt <user> id rather be called nigger ...       1     0.844981\n9416   <emoji> rt <user> id rather be called nigger ...       1     0.876386\n9400   <emoji> rt <user> id rather be called nigger ...       1     0.852657\n9368   <emoji> rt <user> id rather be called nigger ...       1     0.726239\n9592   <emoji> rt <user> id rather be called nigger ...       1     0.934463\n8808   <emoji> rt <user> id rather be called nigger ...       1     0.000000\n9384   <emoji> rt <user> id rather be called nigger ...       1     0.772110\n9749   <emoji> rt <user> they recruited buku fags in...       1     1.000000",
      "text/html": "<div>\n<style scoped>\n    .dataframe tbody tr th:only-of-type {\n        vertical-align: middle;\n    }\n\n    .dataframe tbody tr th {\n        vertical-align: top;\n    }\n\n    .dataframe thead th {\n        text-align: right;\n    }\n</style>\n<table border=\"1\" class=\"dataframe\">\n  <thead>\n    <tr style=\"text-align: right;\">\n      <th></th>\n      <th>sequences</th>\n      <th>labels</th>\n      <th>predictions</th>\n    </tr>\n  </thead>\n  <tbody>\n    <tr>\n      <th>8872</th>\n      <td>&lt;emoji&gt; rt &lt;user&gt; id rather be called nigger ...</td>\n      <td>1</td>\n      <td>0.008759</td>\n    </tr>\n    <tr>\n      <th>9336</th>\n      <td>&lt;emoji&gt; rt &lt;user&gt; id rather be called nigger ...</td>\n      <td>1</td>\n      <td>0.554328</td>\n    </tr>\n    <tr>\n      <th>8856</th>\n      <td>&lt;emoji&gt; rt &lt;user&gt; id rather be called nigger ...</td>\n      <td>1</td>\n      <td>0.000000</td>\n    </tr>\n    <tr>\n      <th>9320</th>\n      <td>&lt;emoji&gt; rt &lt;user&gt; id rather be called nigger ...</td>\n      <td>1</td>\n      <td>0.530599</td>\n    </tr>\n    <tr>\n      <th>9304</th>\n      <td>&lt;emoji&gt; rt &lt;user&gt; id rather be called nigger ...</td>\n      <td>1</td>\n      <td>0.450053</td>\n    </tr>\n    <tr>\n      <th>8888</th>\n      <td>&lt;emoji&gt; rt &lt;user&gt; id rather be called nigger ...</td>\n      <td>1</td>\n      <td>0.194698</td>\n    </tr>\n    <tr>\n      <th>8904</th>\n      <td>&lt;emoji&gt; rt &lt;user&gt; id rather be called nigger ...</td>\n      <td>1</td>\n      <td>0.240570</td>\n    </tr>\n    <tr>\n      <th>8920</th>\n      <td>&lt;emoji&gt; rt &lt;user&gt; id rather be called nigger ...</td>\n      <td>1</td>\n      <td>0.321116</td>\n    </tr>\n    <tr>\n      <th>9288</th>\n      <td>&lt;emoji&gt; rt &lt;user&gt; id rather be called nigger ...</td>\n      <td>1</td>\n      <td>0.404182</td>\n    </tr>\n    <tr>\n      <th>8936</th>\n      <td>&lt;emoji&gt; rt &lt;user&gt; id rather be called nigger ...</td>\n      <td>1</td>\n      <td>0.344845</td>\n    </tr>\n    <tr>\n      <th>9272</th>\n      <td>&lt;emoji&gt; rt &lt;user&gt; id rather be called nigger ...</td>\n      <td>1</td>\n      <td>0.217950</td>\n    </tr>\n    <tr>\n      <th>8952</th>\n      <td>&lt;emoji&gt; rt &lt;user&gt; id rather be called nigger ...</td>\n      <td>1</td>\n      <td>0.453303</td>\n    </tr>\n    <tr>\n      <th>9256</th>\n      <td>&lt;emoji&gt; rt &lt;user&gt; id rather be called nigger ...</td>\n      <td>1</td>\n      <td>0.109492</td>\n    </tr>\n    <tr>\n      <th>8968</th>\n      <td>&lt;emoji&gt; rt &lt;user&gt; id rather be called nigger ...</td>\n      <td>1</td>\n      <td>0.289936</td>\n    </tr>\n    <tr>\n      <th>9240</th>\n      <td>&lt;emoji&gt; rt &lt;user&gt; id rather be called nigger ...</td>\n      <td>1</td>\n      <td>0.085763</td>\n    </tr>\n    <tr>\n      <th>8984</th>\n      <td>&lt;emoji&gt; rt &lt;user&gt; id rather be called nigger ...</td>\n      <td>1</td>\n      <td>0.335807</td>\n    </tr>\n    <tr>\n      <th>9224</th>\n      <td>&lt;emoji&gt; rt &lt;user&gt; id rather be called nigger ...</td>\n      <td>1</td>\n      <td>0.005216</td>\n    </tr>\n    <tr>\n      <th>9000</th>\n      <td>&lt;emoji&gt; rt &lt;user&gt; id rather be called nigger ...</td>\n      <td>1</td>\n      <td>0.416353</td>\n    </tr>\n    <tr>\n      <th>9016</th>\n      <td>&lt;emoji&gt; rt &lt;user&gt; id rather be called nigger ...</td>\n      <td>1</td>\n      <td>0.440082</td>\n    </tr>\n    <tr>\n      <th>9208</th>\n      <td>&lt;emoji&gt; rt &lt;user&gt; id rather be called nigger ...</td>\n      <td>1</td>\n      <td>0.000000</td>\n    </tr>\n    <tr>\n      <th>9032</th>\n      <td>&lt;emoji&gt; rt &lt;user&gt; id rather be called nigger ...</td>\n      <td>1</td>\n      <td>0.548540</td>\n    </tr>\n    <tr>\n      <th>9192</th>\n      <td>&lt;emoji&gt; rt &lt;user&gt; id rather be called nigger ...</td>\n      <td>1</td>\n      <td>0.964560</td>\n    </tr>\n    <tr>\n      <th>9048</th>\n      <td>&lt;emoji&gt; rt &lt;user&gt; id rather be called nigger ...</td>\n      <td>1</td>\n      <td>0.308200</td>\n    </tr>\n    <tr>\n      <th>9176</th>\n      <td>&lt;emoji&gt; rt &lt;user&gt; id rather be called nigger ...</td>\n      <td>1</td>\n      <td>0.856102</td>\n    </tr>\n    <tr>\n      <th>9064</th>\n      <td>&lt;emoji&gt; rt &lt;user&gt; id rather be called nigger ...</td>\n      <td>1</td>\n      <td>0.354072</td>\n    </tr>\n    <tr>\n      <th>9160</th>\n      <td>&lt;emoji&gt; rt &lt;user&gt; id rather be called nigger ...</td>\n      <td>1</td>\n      <td>0.832373</td>\n    </tr>\n    <tr>\n      <th>9144</th>\n      <td>&lt;emoji&gt; rt &lt;user&gt; id rather be called nigger ...</td>\n      <td>1</td>\n      <td>0.751826</td>\n    </tr>\n    <tr>\n      <th>9080</th>\n      <td>&lt;emoji&gt; rt &lt;user&gt; id rather be called nigger ...</td>\n      <td>1</td>\n      <td>0.434618</td>\n    </tr>\n    <tr>\n      <th>9128</th>\n      <td>&lt;emoji&gt; rt &lt;user&gt; id rather be called nigger ...</td>\n      <td>1</td>\n      <td>0.705955</td>\n    </tr>\n    <tr>\n      <th>9096</th>\n      <td>&lt;emoji&gt; rt &lt;user&gt; id rather be called nigger ...</td>\n      <td>1</td>\n      <td>0.458347</td>\n    </tr>\n    <tr>\n      <th>9352</th>\n      <td>&lt;emoji&gt; rt &lt;user&gt; id rather be called nigger ...</td>\n      <td>1</td>\n      <td>0.662786</td>\n    </tr>\n    <tr>\n      <th>8840</th>\n      <td>&lt;emoji&gt; rt &lt;user&gt; id rather be called nigger ...</td>\n      <td>1</td>\n      <td>0.000000</td>\n    </tr>\n    <tr>\n      <th>9112</th>\n      <td>&lt;emoji&gt; rt &lt;user&gt; id rather be called nigger ...</td>\n      <td>1</td>\n      <td>0.566805</td>\n    </tr>\n    <tr>\n      <th>9576</th>\n      <td>&lt;emoji&gt; rt &lt;user&gt; id rather be called nigger ...</td>\n      <td>1</td>\n      <td>0.826005</td>\n    </tr>\n    <tr>\n      <th>9496</th>\n      <td>&lt;emoji&gt; rt &lt;user&gt; id rather be called nigger ...</td>\n      <td>1</td>\n      <td>0.736523</td>\n    </tr>\n    <tr>\n      <th>9528</th>\n      <td>&lt;emoji&gt; rt &lt;user&gt; id rather be called nigger ...</td>\n      <td>1</td>\n      <td>0.675858</td>\n    </tr>\n    <tr>\n      <th>8824</th>\n      <td>&lt;emoji&gt; rt &lt;user&gt; id rather be called nigger ...</td>\n      <td>1</td>\n      <td>0.000000</td>\n    </tr>\n    <tr>\n      <th>9480</th>\n      <td>&lt;emoji&gt; rt &lt;user&gt; id rather be called nigger ...</td>\n      <td>1</td>\n      <td>0.712794</td>\n    </tr>\n    <tr>\n      <th>9544</th>\n      <td>&lt;emoji&gt; rt &lt;user&gt; id rather be called nigger ...</td>\n      <td>1</td>\n      <td>0.721729</td>\n    </tr>\n    <tr>\n      <th>9464</th>\n      <td>&lt;emoji&gt; rt &lt;user&gt; id rather be called nigger ...</td>\n      <td>1</td>\n      <td>0.632247</td>\n    </tr>\n    <tr>\n      <th>9448</th>\n      <td>&lt;emoji&gt; rt &lt;user&gt; id rather be called nigger ...</td>\n      <td>1</td>\n      <td>0.586376</td>\n    </tr>\n    <tr>\n      <th>9560</th>\n      <td>&lt;emoji&gt; rt &lt;user&gt; id rather be called nigger ...</td>\n      <td>1</td>\n      <td>0.802276</td>\n    </tr>\n    <tr>\n      <th>9432</th>\n      <td>&lt;emoji&gt; rt &lt;user&gt; id rather be called nigger ...</td>\n      <td>1</td>\n      <td>0.984843</td>\n    </tr>\n    <tr>\n      <th>9512</th>\n      <td>&lt;emoji&gt; rt &lt;user&gt; id rather be called nigger ...</td>\n      <td>1</td>\n      <td>0.844981</td>\n    </tr>\n    <tr>\n      <th>9416</th>\n      <td>&lt;emoji&gt; rt &lt;user&gt; id rather be called nigger ...</td>\n      <td>1</td>\n      <td>0.876386</td>\n    </tr>\n    <tr>\n      <th>9400</th>\n      <td>&lt;emoji&gt; rt &lt;user&gt; id rather be called nigger ...</td>\n      <td>1</td>\n      <td>0.852657</td>\n    </tr>\n    <tr>\n      <th>9368</th>\n      <td>&lt;emoji&gt; rt &lt;user&gt; id rather be called nigger ...</td>\n      <td>1</td>\n      <td>0.726239</td>\n    </tr>\n    <tr>\n      <th>9592</th>\n      <td>&lt;emoji&gt; rt &lt;user&gt; id rather be called nigger ...</td>\n      <td>1</td>\n      <td>0.934463</td>\n    </tr>\n    <tr>\n      <th>8808</th>\n      <td>&lt;emoji&gt; rt &lt;user&gt; id rather be called nigger ...</td>\n      <td>1</td>\n      <td>0.000000</td>\n    </tr>\n    <tr>\n      <th>9384</th>\n      <td>&lt;emoji&gt; rt &lt;user&gt; id rather be called nigger ...</td>\n      <td>1</td>\n      <td>0.772110</td>\n    </tr>\n    <tr>\n      <th>9749</th>\n      <td>&lt;emoji&gt; rt &lt;user&gt; they recruited buku fags in...</td>\n      <td>1</td>\n      <td>1.000000</td>\n    </tr>\n  </tbody>\n</table>\n</div>"
     },
     "execution_count": 12,
     "metadata": {},
     "output_type": "execute_result"
    }
   ],
   "source": [
    "df.sort_values(by=['sequences']).head(51)  # m * k + 1"
   ],
   "metadata": {
    "collapsed": false,
    "ExecuteTime": {
     "end_time": "2023-12-24T21:24:48.233398Z",
     "start_time": "2023-12-24T21:24:48.224956Z"
    }
   },
   "id": "96015bbed2784f5"
  },
  {
   "cell_type": "code",
   "execution_count": null,
   "outputs": [],
   "source": [],
   "metadata": {
    "collapsed": false
   },
   "id": "fb0ea5ff57b7b36e"
  }
 ],
 "metadata": {
  "kernelspec": {
   "display_name": "Python 3",
   "language": "python",
   "name": "python3"
  },
  "language_info": {
   "codemirror_mode": {
    "name": "ipython",
    "version": 2
   },
   "file_extension": ".py",
   "mimetype": "text/x-python",
   "name": "python",
   "nbconvert_exporter": "python",
   "pygments_lexer": "ipython2",
   "version": "2.7.6"
  }
 },
 "nbformat": 4,
 "nbformat_minor": 5
}

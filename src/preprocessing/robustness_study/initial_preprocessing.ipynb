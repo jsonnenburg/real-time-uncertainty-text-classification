{
 "cells": [
  {
   "metadata": {},
   "cell_type": "markdown",
   "source": "This script performs the processing of the raw data used for the uncertainty distillation and robustness study into cleaned train, val, and test datasets.",
   "id": "119222611e7fbb5d"
  },
  {
   "cell_type": "code",
   "execution_count": null,
   "id": "initial_id",
   "metadata": {
    "collapsed": true
   },
   "outputs": [],
   "source": [
    "import os\n",
    "\n",
    "from shared_data_preprocessing import DataLoader, preprocess\n",
    "from src.utils.processing import parallel_apply\n",
    "\n",
    "\n",
    "DATA_PATH = \"../../../data/robustness-study/raw/labeled_data.csv\"\n",
    "OUTPUT_PATH = \"../../../data/robustness-study/preprocessed/\""
   ]
  },
  {
   "metadata": {},
   "cell_type": "code",
   "outputs": [],
   "execution_count": null,
   "source": [
    "# load data\n",
    "data_loader = DataLoader(DATA_PATH)\n",
    "data_loader.load_data()\n",
    "\n",
    "# split data, splits following mozafari2020\n",
    "df_train, df_val, df_test = data_loader.split(0.8, 0.1, 0.1)\n",
    "\n",
    "# iterate preprocess over all rows\n",
    "df_train['text'] = parallel_apply(df_train['text'], preprocess)\n",
    "df_val['text'] = parallel_apply(df_val['text'], preprocess)\n",
    "df_test['text'] = parallel_apply(df_test['text'], preprocess)\n",
    "\n",
    "# save preprocessed data\n",
    "df_train.to_csv(os.path.join(OUTPUT_PATH, \"train.csv\"), sep='\\t')\n",
    "df_val.to_csv(os.path.join(OUTPUT_PATH, \"val.csv\"), sep='\\t')\n",
    "df_test.to_csv(os.path.join(OUTPUT_PATH, \"test.csv\"), sep='\\t')"
   ],
   "id": "90e70ae3a2c4153c"
  }
 ],
 "metadata": {
  "kernelspec": {
   "display_name": "Python 3",
   "language": "python",
   "name": "python3"
  },
  "language_info": {
   "codemirror_mode": {
    "name": "ipython",
    "version": 2
   },
   "file_extension": ".py",
   "mimetype": "text/x-python",
   "name": "python",
   "nbconvert_exporter": "python",
   "pygments_lexer": "ipython2",
   "version": "2.7.6"
  }
 },
 "nbformat": 4,
 "nbformat_minor": 5
}

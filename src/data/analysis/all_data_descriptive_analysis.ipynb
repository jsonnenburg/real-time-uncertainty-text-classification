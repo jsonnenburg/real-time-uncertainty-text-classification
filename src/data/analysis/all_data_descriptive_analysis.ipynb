{
 "cells": [
  {
   "cell_type": "code",
   "execution_count": 18,
   "outputs": [],
   "source": [
    "import pandas as pd\n",
    "import os\n",
    "import matplotlib.pyplot as plt"
   ],
   "metadata": {
    "collapsed": false,
    "ExecuteTime": {
     "end_time": "2023-11-26T15:10:44.845960Z",
     "start_time": "2023-11-26T15:10:44.842198Z"
    }
   },
   "id": "43c43f7e75b8dcbc"
  },
  {
   "cell_type": "code",
   "execution_count": 2,
   "outputs": [
    {
     "data": {
      "text/plain": "'/Users/johann/Documents/Uni/real-time-uncertainty-text-classification/src/data/analysis'"
     },
     "execution_count": 2,
     "metadata": {},
     "output_type": "execute_result"
    }
   ],
   "source": [
    "os.getcwd()"
   ],
   "metadata": {
    "collapsed": false,
    "ExecuteTime": {
     "end_time": "2023-11-26T15:05:45.404341Z",
     "start_time": "2023-11-26T15:05:45.400925Z"
    }
   },
   "id": "759e27c7fc7c10e5"
  },
  {
   "cell_type": "code",
   "execution_count": 16,
   "id": "initial_id",
   "metadata": {
    "collapsed": true,
    "ExecuteTime": {
     "end_time": "2023-11-26T15:10:23.872769Z",
     "start_time": "2023-11-26T15:10:23.834570Z"
    }
   },
   "outputs": [],
   "source": [
    "df_train = pd.read_csv('/Users/johann/Documents/Uni/real-time-uncertainty-text-classification/data/robustness-study/preprocessed/train.csv', sep='\\t', index_col=0)\n",
    "df_val = pd.read_csv('/Users/johann/Documents/Uni/real-time-uncertainty-text-classification/data/robustness-study/preprocessed/val.csv', sep='\\t', index_col=0)\n",
    "df_test = pd.read_csv('/Users/johann/Documents/Uni/real-time-uncertainty-text-classification/data/robustness-study/preprocessed/test.csv', sep='\\t', index_col=0)"
   ]
  },
  {
   "cell_type": "code",
   "execution_count": 7,
   "outputs": [
    {
     "data": {
      "text/plain": "                                                text  target\n0                  934 8616 got missed call yo bitch       1\n1  rt mentionhere: fucking bad bitch gone need mo...       1\n2  rt mentionhere: mentionhere lol credit aint ne...       0\n3  rt mentionhere wipe cum faggot rt mentionhere ...       1\n4  niggas cheat bitch expect pay back whatsoever....       1",
      "text/html": "<div>\n<style scoped>\n    .dataframe tbody tr th:only-of-type {\n        vertical-align: middle;\n    }\n\n    .dataframe tbody tr th {\n        vertical-align: top;\n    }\n\n    .dataframe thead th {\n        text-align: right;\n    }\n</style>\n<table border=\"1\" class=\"dataframe\">\n  <thead>\n    <tr style=\"text-align: right;\">\n      <th></th>\n      <th>text</th>\n      <th>target</th>\n    </tr>\n  </thead>\n  <tbody>\n    <tr>\n      <th>0</th>\n      <td>934 8616 got missed call yo bitch</td>\n      <td>1</td>\n    </tr>\n    <tr>\n      <th>1</th>\n      <td>rt mentionhere: fucking bad bitch gone need mo...</td>\n      <td>1</td>\n    </tr>\n    <tr>\n      <th>2</th>\n      <td>rt mentionhere: mentionhere lol credit aint ne...</td>\n      <td>0</td>\n    </tr>\n    <tr>\n      <th>3</th>\n      <td>rt mentionhere wipe cum faggot rt mentionhere ...</td>\n      <td>1</td>\n    </tr>\n    <tr>\n      <th>4</th>\n      <td>niggas cheat bitch expect pay back whatsoever....</td>\n      <td>1</td>\n    </tr>\n  </tbody>\n</table>\n</div>"
     },
     "execution_count": 7,
     "metadata": {},
     "output_type": "execute_result"
    }
   ],
   "source": [
    "df_train.head()"
   ],
   "metadata": {
    "collapsed": false,
    "ExecuteTime": {
     "end_time": "2023-11-26T15:06:52.281907Z",
     "start_time": "2023-11-26T15:06:52.277817Z"
    }
   },
   "id": "74063084e53e397c"
  },
  {
   "cell_type": "markdown",
   "source": [
    "### Number of tokens (for BERT tokenization)"
   ],
   "metadata": {
    "collapsed": false
   },
   "id": "386d514276e868a"
  },
  {
   "cell_type": "code",
   "execution_count": 17,
   "outputs": [],
   "source": [
    "df_train['num_tokens'] = df_train['text'].apply(lambda x: len(x.split()))\n",
    "df_val['num_tokens'] = df_val['text'].apply(lambda x: len(x.split()))\n",
    "df_test['num_tokens'] = df_test['text'].apply(lambda x: len(x.split()))"
   ],
   "metadata": {
    "collapsed": false,
    "ExecuteTime": {
     "end_time": "2023-11-26T15:10:28.285620Z",
     "start_time": "2023-11-26T15:10:28.258974Z"
    }
   },
   "id": "4a547f036961a750"
  },
  {
   "cell_type": "code",
   "execution_count": 23,
   "outputs": [
    {
     "data": {
      "text/plain": "<Figure size 1080x360 with 3 Axes>",
      "image/png": "[encoded data removed]"
     },
     "metadata": {
      "needs_background": "light"
     },
     "output_type": "display_data"
    }
   ],
   "source": [
    "# column subplots\n",
    "fig, axes = plt.subplots(nrows=1, ncols=3, figsize=(15, 5))\n",
    "\n",
    "axes[0].hist(df_train['num_tokens'], bins=60)\n",
    "axes[0].set_title('train')\n",
    "axes[1].hist(df_val['num_tokens'], bins=60)\n",
    "axes[1].set_title('val')\n",
    "axes[1].set_xlabel('Number of tokens')\n",
    "axes[2].hist(df_test['num_tokens'], bins=60)\n",
    "axes[2].set_title('test');"
   ],
   "metadata": {
    "collapsed": false,
    "ExecuteTime": {
     "end_time": "2023-11-26T15:12:19.685015Z",
     "start_time": "2023-11-26T15:12:19.479409Z"
    }
   },
   "id": "60b764e1bad53475"
  },
  {
   "cell_type": "code",
   "execution_count": 9,
   "outputs": [
    {
     "data": {
      "text/plain": "count    17348.000000\nmean         9.956249\nstd          4.605481\nmin          1.000000\n25%          6.000000\n50%          9.000000\n75%         13.000000\nmax         47.000000\nName: num_tokens, dtype: float64"
     },
     "execution_count": 9,
     "metadata": {},
     "output_type": "execute_result"
    }
   ],
   "source": [
    "df_train['num_tokens'].describe()"
   ],
   "metadata": {
    "collapsed": false,
    "ExecuteTime": {
     "end_time": "2023-11-26T15:07:45.641201Z",
     "start_time": "2023-11-26T15:07:45.624403Z"
    }
   },
   "id": "e1244b236e6155f3"
  },
  {
   "cell_type": "code",
   "execution_count": 25,
   "outputs": [
    {
     "data": {
      "text/plain": "1    14441\n0     2907\nName: target, dtype: int64"
     },
     "execution_count": 25,
     "metadata": {},
     "output_type": "execute_result"
    }
   ],
   "source": [
    "# class counts for train, val, test as a number and percentage\n",
    "dd"
   ],
   "metadata": {
    "collapsed": false,
    "ExecuteTime": {
     "end_time": "2023-11-26T15:28:21.426062Z",
     "start_time": "2023-11-26T15:28:21.417854Z"
    }
   },
   "id": "19c4a2d2c9ccf9d4"
  },
  {
   "cell_type": "code",
   "execution_count": 27,
   "outputs": [
    {
     "name": "stdout",
     "output_type": "stream",
     "text": [
      "1    0.83243\n",
      "0    0.16757\n",
      "Name: target, dtype: float64\n",
      "1    0.824859\n",
      "0    0.175141\n",
      "Name: target, dtype: float64\n",
      "1    0.837278\n",
      "0    0.162722\n",
      "Name: target, dtype: float64\n"
     ]
    }
   ],
   "source": [
    "print(df_train['target'].value_counts(normalize=True))\n",
    "print(df_val['target'].value_counts(normalize=True))\n",
    "print(df_test['target'].value_counts(normalize=True))"
   ],
   "metadata": {
    "collapsed": false,
    "ExecuteTime": {
     "end_time": "2023-11-26T15:28:52.582050Z",
     "start_time": "2023-11-26T15:28:52.580544Z"
    }
   },
   "id": "2823f5e6b806e82c"
  },
  {
   "cell_type": "code",
   "execution_count": null,
   "outputs": [],
   "source": [],
   "metadata": {
    "collapsed": false
   },
   "id": "a392af8f7cff255a"
  }
 ],
 "metadata": {
  "kernelspec": {
   "display_name": "Python 3",
   "language": "python",
   "name": "python3"
  },
  "language_info": {
   "codemirror_mode": {
    "name": "ipython",
    "version": 2
   },
   "file_extension": ".py",
   "mimetype": "text/x-python",
   "name": "python",
   "nbconvert_exporter": "python",
   "pygments_lexer": "ipython2",
   "version": "2.7.6"
  }
 },
 "nbformat": 4,
 "nbformat_minor": 5
}

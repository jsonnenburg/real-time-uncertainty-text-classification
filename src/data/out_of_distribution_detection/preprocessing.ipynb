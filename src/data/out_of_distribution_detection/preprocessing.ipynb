{
 "cells": [
  {
   "cell_type": "code",
   "execution_count": 124,
   "id": "initial_id",
   "metadata": {
    "collapsed": true,
    "ExecuteTime": {
     "end_time": "2024-03-17T10:55:13.237074Z",
     "start_time": "2024-03-17T10:55:13.232719Z"
    }
   },
   "outputs": [],
   "source": [
    "import os\n",
    "from src.data.robustness_study.shared_data_preprocessing import *"
   ]
  },
  {
   "cell_type": "code",
   "execution_count": 125,
   "outputs": [],
   "source": [
    "# load hate speech data (https://github.com/cardiffnlp/tweeteval/tree/main?tab=readme-ov-file)\n",
    "with open(\"/Users/johann/Documents/Uni/real-time-uncertainty-text-classification/data/out_of_distribution_detection/raw/hate/train_text.txt\") as file_in:\n",
    "    text = []\n",
    "    for line in file_in:\n",
    "        text.append(line.strip('\\n'))\n",
    "    \n",
    "with open(\"/Users/johann/Documents/Uni/real-time-uncertainty-text-classification/data/out_of_distribution_detection/raw/hate/train_labels.txt\") as file_in:\n",
    "    labels = []\n",
    "    for line in file_in:\n",
    "        labels.append(line.strip('\\n'))"
   ],
   "metadata": {
    "collapsed": false,
    "ExecuteTime": {
     "end_time": "2024-03-17T10:55:13.476803Z",
     "start_time": "2024-03-17T10:55:13.466957Z"
    }
   },
   "id": "b071ee2f2b8ad2b4"
  },
  {
   "cell_type": "code",
   "execution_count": 126,
   "outputs": [],
   "source": [
    "# dataframe\n",
    "df = pd.DataFrame({'text': text, 'target': labels})"
   ],
   "metadata": {
    "collapsed": false,
    "ExecuteTime": {
     "end_time": "2024-03-17T10:55:13.708421Z",
     "start_time": "2024-03-17T10:55:13.705265Z"
    }
   },
   "id": "ec315bcf244e4aaf"
  },
  {
   "cell_type": "code",
   "execution_count": 127,
   "outputs": [
    {
     "data": {
      "text/plain": "                                                text target\n0  @user nice new signage. Are you not concerned ...      0\n1  A woman who you fucked multiple times saying y...      1\n2  @user @user real talk do you have eyes or were...      1\n3  your girlfriend lookin at me like a groupie in...      1\n4                       Hysterical woman like @user       0",
      "text/html": "<div>\n<style scoped>\n    .dataframe tbody tr th:only-of-type {\n        vertical-align: middle;\n    }\n\n    .dataframe tbody tr th {\n        vertical-align: top;\n    }\n\n    .dataframe thead th {\n        text-align: right;\n    }\n</style>\n<table border=\"1\" class=\"dataframe\">\n  <thead>\n    <tr style=\"text-align: right;\">\n      <th></th>\n      <th>text</th>\n      <th>target</th>\n    </tr>\n  </thead>\n  <tbody>\n    <tr>\n      <th>0</th>\n      <td>@user nice new signage. Are you not concerned ...</td>\n      <td>0</td>\n    </tr>\n    <tr>\n      <th>1</th>\n      <td>A woman who you fucked multiple times saying y...</td>\n      <td>1</td>\n    </tr>\n    <tr>\n      <th>2</th>\n      <td>@user @user real talk do you have eyes or were...</td>\n      <td>1</td>\n    </tr>\n    <tr>\n      <th>3</th>\n      <td>your girlfriend lookin at me like a groupie in...</td>\n      <td>1</td>\n    </tr>\n    <tr>\n      <th>4</th>\n      <td>Hysterical woman like @user</td>\n      <td>0</td>\n    </tr>\n  </tbody>\n</table>\n</div>"
     },
     "execution_count": 127,
     "metadata": {},
     "output_type": "execute_result"
    }
   ],
   "source": [
    "df.head()"
   ],
   "metadata": {
    "collapsed": false,
    "ExecuteTime": {
     "end_time": "2024-03-17T10:55:13.986777Z",
     "start_time": "2024-03-17T10:55:13.982948Z"
    }
   },
   "id": "a210dae09d240094"
  },
  {
   "cell_type": "code",
   "execution_count": 128,
   "outputs": [
    {
     "name": "stderr",
     "output_type": "stream",
     "text": [
      "/Users/johann/miniforge3/envs/d2l/lib/python3.8/site-packages/bs4/__init__.py:435: MarkupResemblesLocatorWarning: The input looks more like a filename than markup. You may want to open this file and pass the filehandle into Beautiful Soup.\n",
      "  warnings.warn(\n"
     ]
    }
   ],
   "source": [
    "df['text'] = df['text'].apply(lambda x: remove_newlines(x))\n",
    "df['text'] = df['text'].apply(lambda x: clean_html_content(x))\n",
    "df['text'] = df['text'].apply(lambda x: remove_quotes(x))\n",
    "df['text'] = df['text'].apply(lambda x: replace_elongated_words(x))\n",
    "df['text'] = df['text'].apply(lambda x: replace_entities(x))\n"
   ],
   "metadata": {
    "collapsed": false,
    "ExecuteTime": {
     "end_time": "2024-03-17T10:55:15.171498Z",
     "start_time": "2024-03-17T10:55:14.316567Z"
    }
   },
   "id": "632d3383e5aa5838"
  },
  {
   "cell_type": "code",
   "execution_count": 129,
   "outputs": [],
   "source": [
    "df['text'] = df['text'].apply(lambda x: remove_punctuation(x))\n",
    "df['text'] = df['text'].apply(lambda x: remove_multiple_spaces(x)) \n",
    "df['text'] = df['text'].apply(lambda x: x.lower())\n",
    "# remove trailing whitespace at the end of the string\n",
    "df['text'] = df['text'].apply(lambda x: x.strip())\n",
    "\n",
    "# drop rows with empty text\n",
    "df = df[df['text'] != '']"
   ],
   "metadata": {
    "collapsed": false,
    "ExecuteTime": {
     "end_time": "2024-03-17T10:55:15.228965Z",
     "start_time": "2024-03-17T10:55:15.184845Z"
    }
   },
   "id": "a0de4bfcbbcf21f5"
  },
  {
   "cell_type": "code",
   "execution_count": 130,
   "outputs": [],
   "source": [
    "OUTPUT_PATH = \"../../../data/out_of_distribution_detection/preprocessed/hate\"\n",
    "\n",
    "# save preprocessed data\n",
    "os.makedirs(OUTPUT_PATH, exist_ok=True)\n",
    "df.to_csv(os.path.join(OUTPUT_PATH, \"train.csv\"), sep='\\t')"
   ],
   "metadata": {
    "collapsed": false,
    "ExecuteTime": {
     "end_time": "2024-03-17T10:55:21.373839Z",
     "start_time": "2024-03-17T10:55:21.336344Z"
    }
   },
   "id": "7c097cd4128b797a"
  },
  {
   "cell_type": "code",
   "execution_count": 131,
   "outputs": [],
   "source": [
    "test = pd.read_csv('/Users/johann/Documents/Uni/real-time-uncertainty-text-classification/data/out_of_distribution_detection/preprocessed/hate/train.csv', sep='\\t', index_col=0)"
   ],
   "metadata": {
    "collapsed": false,
    "ExecuteTime": {
     "end_time": "2024-03-17T10:55:24.222255Z",
     "start_time": "2024-03-17T10:55:24.189770Z"
    }
   },
   "id": "1872e86e3e8ce912"
  },
  {
   "cell_type": "code",
   "execution_count": null,
   "outputs": [],
   "source": [],
   "metadata": {
    "collapsed": false
   },
   "id": "a104e994ec5735dc"
  }
 ],
 "metadata": {
  "kernelspec": {
   "display_name": "Python 3",
   "language": "python",
   "name": "python3"
  },
  "language_info": {
   "codemirror_mode": {
    "name": "ipython",
    "version": 2
   },
   "file_extension": ".py",
   "mimetype": "text/x-python",
   "name": "python",
   "nbconvert_exporter": "python",
   "pygments_lexer": "ipython2",
   "version": "2.7.6"
  }
 },
 "nbformat": 4,
 "nbformat_minor": 5
}

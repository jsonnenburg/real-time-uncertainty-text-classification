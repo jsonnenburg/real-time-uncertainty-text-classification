{
 "cells": [
  {
   "cell_type": "code",
   "execution_count": 1,
   "outputs": [],
   "source": [
    "import pandas as pd\n",
    "import os\n",
    "import matplotlib.pyplot as plt"
   ],
   "metadata": {
    "collapsed": false,
    "ExecuteTime": {
     "end_time": "2024-02-19T13:52:54.570156Z",
     "start_time": "2024-02-19T13:52:53.282322Z"
    }
   },
   "id": "43c43f7e75b8dcbc"
  },
  {
   "cell_type": "code",
   "execution_count": 2,
   "outputs": [
    {
     "data": {
      "text/plain": "'/Users/johann/Documents/Uni/real-time-uncertainty-text-classification/analysis'"
     },
     "execution_count": 2,
     "metadata": {},
     "output_type": "execute_result"
    }
   ],
   "source": [
    "os.getcwd()"
   ],
   "metadata": {
    "collapsed": false,
    "ExecuteTime": {
     "end_time": "2024-02-19T13:52:54.580800Z",
     "start_time": "2024-02-19T13:52:54.571950Z"
    }
   },
   "id": "759e27c7fc7c10e5"
  },
  {
   "cell_type": "code",
   "execution_count": 4,
   "id": "initial_id",
   "metadata": {
    "collapsed": true,
    "ExecuteTime": {
     "end_time": "2024-02-19T13:53:08.316684Z",
     "start_time": "2024-02-19T13:53:08.275846Z"
    }
   },
   "outputs": [],
   "source": [
    "df_train = pd.read_csv('/Users/johann/Documents/Uni/real-time-uncertainty-text-classification/data/robustness_study/preprocessed/train.csv', sep='\\t', index_col=0)\n",
    "df_val = pd.read_csv('/Users/johann/Documents/Uni/real-time-uncertainty-text-classification/data/robustness_study/preprocessed/val.csv', sep='\\t', index_col=0)\n",
    "df_test = pd.read_csv('/Users/johann/Documents/Uni/real-time-uncertainty-text-classification/data/robustness_study/preprocessed/test.csv', sep='\\t', index_col=0)"
   ]
  },
  {
   "cell_type": "code",
   "execution_count": 5,
   "outputs": [
    {
     "data": {
      "text/plain": "                                                text  target\n0                        come back hoe <user> <url>        1\n1  rt <user> bouta take a shower just to fuck yo ...       1\n2                       stiff armed his hoe ass lmao       1\n3  <user> ugly goldigging cunt u probably have an...       1\n4                         fuck bitches get money aye       1",
      "text/html": "<div>\n<style scoped>\n    .dataframe tbody tr th:only-of-type {\n        vertical-align: middle;\n    }\n\n    .dataframe tbody tr th {\n        vertical-align: top;\n    }\n\n    .dataframe thead th {\n        text-align: right;\n    }\n</style>\n<table border=\"1\" class=\"dataframe\">\n  <thead>\n    <tr style=\"text-align: right;\">\n      <th></th>\n      <th>text</th>\n      <th>target</th>\n    </tr>\n  </thead>\n  <tbody>\n    <tr>\n      <th>0</th>\n      <td>come back hoe &lt;user&gt; &lt;url&gt;</td>\n      <td>1</td>\n    </tr>\n    <tr>\n      <th>1</th>\n      <td>rt &lt;user&gt; bouta take a shower just to fuck yo ...</td>\n      <td>1</td>\n    </tr>\n    <tr>\n      <th>2</th>\n      <td>stiff armed his hoe ass lmao</td>\n      <td>1</td>\n    </tr>\n    <tr>\n      <th>3</th>\n      <td>&lt;user&gt; ugly goldigging cunt u probably have an...</td>\n      <td>1</td>\n    </tr>\n    <tr>\n      <th>4</th>\n      <td>fuck bitches get money aye</td>\n      <td>1</td>\n    </tr>\n  </tbody>\n</table>\n</div>"
     },
     "execution_count": 5,
     "metadata": {},
     "output_type": "execute_result"
    }
   ],
   "source": [
    "df_train.head()"
   ],
   "metadata": {
    "collapsed": false,
    "ExecuteTime": {
     "end_time": "2024-02-19T13:53:09.344876Z",
     "start_time": "2024-02-19T13:53:09.337681Z"
    }
   },
   "id": "74063084e53e397c"
  },
  {
   "cell_type": "markdown",
   "source": [
    "### Number of tokens (for BERT tokenization)"
   ],
   "metadata": {
    "collapsed": false
   },
   "id": "386d514276e868a"
  },
  {
   "cell_type": "code",
   "execution_count": 6,
   "outputs": [],
   "source": [
    "df_train['num_tokens'] = df_train['text'].apply(lambda x: len(x.split()))\n",
    "df_val['num_tokens'] = df_val['text'].apply(lambda x: len(x.split()))\n",
    "df_test['num_tokens'] = df_test['text'].apply(lambda x: len(x.split()))"
   ],
   "metadata": {
    "collapsed": false,
    "ExecuteTime": {
     "end_time": "2024-02-19T13:53:12.713454Z",
     "start_time": "2024-02-19T13:53:12.689324Z"
    }
   },
   "id": "4a547f036961a750"
  },
  {
   "cell_type": "code",
   "execution_count": 7,
   "outputs": [
    {
     "data": {
      "text/plain": "<Figure size 1080x360 with 3 Axes>",
      "image/png": "[encoded data removed]"
     },
     "metadata": {
      "needs_background": "light"
     },
     "output_type": "display_data"
    }
   ],
   "source": [
    "# column subplots\n",
    "fig, axes = plt.subplots(nrows=1, ncols=3, figsize=(15, 5))\n",
    "\n",
    "axes[0].hist(df_train['num_tokens'], bins=60)\n",
    "axes[0].set_title('train')\n",
    "axes[1].hist(df_val['num_tokens'], bins=60)\n",
    "axes[1].set_title('val')\n",
    "axes[1].set_xlabel('Number of tokens')\n",
    "axes[2].hist(df_test['num_tokens'], bins=60)\n",
    "axes[2].set_title('test');"
   ],
   "metadata": {
    "collapsed": false,
    "ExecuteTime": {
     "end_time": "2024-02-19T13:53:14.549427Z",
     "start_time": "2024-02-19T13:53:14.280367Z"
    }
   },
   "id": "60b764e1bad53475"
  },
  {
   "cell_type": "code",
   "execution_count": 9,
   "outputs": [
    {
     "data": {
      "text/plain": "count    17348.000000\nmean         9.956249\nstd          4.605481\nmin          1.000000\n25%          6.000000\n50%          9.000000\n75%         13.000000\nmax         47.000000\nName: num_tokens, dtype: float64"
     },
     "execution_count": 9,
     "metadata": {},
     "output_type": "execute_result"
    }
   ],
   "source": [
    "df_train['num_tokens'].describe()"
   ],
   "metadata": {
    "collapsed": false,
    "ExecuteTime": {
     "end_time": "2023-11-26T15:07:45.641201Z",
     "start_time": "2023-11-26T15:07:45.624403Z"
    }
   },
   "id": "e1244b236e6155f3"
  },
  {
   "cell_type": "code",
   "execution_count": 27,
   "outputs": [
    {
     "name": "stdout",
     "output_type": "stream",
     "text": [
      "1    0.83243\n",
      "0    0.16757\n",
      "Name: target, dtype: float64\n",
      "1    0.824859\n",
      "0    0.175141\n",
      "Name: target, dtype: float64\n",
      "1    0.837278\n",
      "0    0.162722\n",
      "Name: target, dtype: float64\n"
     ]
    }
   ],
   "source": [
    "print(df_train['target'].value_counts(normalize=True))\n",
    "print(df_val['target'].value_counts(normalize=True))\n",
    "print(df_test['target'].value_counts(normalize=True))"
   ],
   "metadata": {
    "collapsed": false,
    "ExecuteTime": {
     "end_time": "2023-11-26T15:28:52.582050Z",
     "start_time": "2023-11-26T15:28:52.580544Z"
    }
   },
   "id": "2823f5e6b806e82c"
  },
  {
   "cell_type": "code",
   "execution_count": null,
   "outputs": [],
   "source": [],
   "metadata": {
    "collapsed": false
   },
   "id": "a392af8f7cff255a"
  }
 ],
 "metadata": {
  "kernelspec": {
   "display_name": "Python 3",
   "language": "python",
   "name": "python3"
  },
  "language_info": {
   "codemirror_mode": {
    "name": "ipython",
    "version": 2
   },
   "file_extension": ".py",
   "mimetype": "text/x-python",
   "name": "python",
   "nbconvert_exporter": "python",
   "pygments_lexer": "ipython2",
   "version": "2.7.6"
  }
 },
 "nbformat": 4,
 "nbformat_minor": 5
}

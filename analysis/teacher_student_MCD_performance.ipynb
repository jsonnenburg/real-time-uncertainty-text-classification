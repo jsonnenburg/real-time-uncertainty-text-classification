{
 "cells": [
  {
   "cell_type": "code",
   "execution_count": 300,
   "id": "initial_id",
   "metadata": {
    "collapsed": true,
    "ExecuteTime": {
     "end_time": "2024-03-11T15:15:55.078353Z",
     "start_time": "2024-03-11T15:15:55.063161Z"
    }
   },
   "outputs": [],
   "source": [
    "import json\n",
    "import os\n",
    "\n",
    "import numpy as np\n",
    "import matplotlib.pyplot as plt\n",
    "%matplotlib inline\n",
    "\n",
    "SAVE_PLOTS = True\n",
    "\n",
    "# image save path\n",
    "image_save_path = 'plots'"
   ]
  },
  {
   "cell_type": "code",
   "execution_count": 301,
   "outputs": [],
   "source": [
    "# load the predictions\n",
    "# teacher predictions\n",
    "teacher_mcd_results = {'1': None, '10': None, '20': None, '30': None, '40': None, '50': None}\n",
    "for k in teacher_mcd_results.keys():\n",
    "    with open(f'../out/bert_teacher/final_e3_lr2_hd020_ad020_cd030/results/results_{k}.json', 'r') as f:\n",
    "        teacher_mcd_results[k] = json.load(f)\n",
    "    \n",
    "# student predictions - possible condidates for best student model\n",
    "# shen=0.5, lr=0.0002, e=2;\n",
    "# shen=1, lr=0.000002, e=4\n",
    "# shen=2, lr=0.0002, e=4 <-- current choice, also best in terms of AUC\n",
    "# shen=2, lr=0.00002, e=2\n",
    "with open('../out/bert_student/m5_k10/shen_2_lr0.0002_e4/results/results.json', 'r') as f:\n",
    "    student_mc_results = json.load(f)\n",
    "    \n",
    "# augmented student\n",
    "# shen=2, lr=0.0002, e=2\n",
    "with open('../out/bert_student_augmented/m5_k10/shen_2_lr0.0002_e2_augmented/results/results.json', 'r') as f:\n",
    "    student_augmented_mc_results = json.load(f)"
   ],
   "metadata": {
    "collapsed": false,
    "ExecuteTime": {
     "end_time": "2024-03-11T15:15:55.747503Z",
     "start_time": "2024-03-11T15:15:55.734774Z"
    }
   },
   "id": "10bad592be03dd9b"
  },
  {
   "cell_type": "code",
   "execution_count": 302,
   "outputs": [],
   "source": [
    "SMALL_SIZE = 14\n",
    "MEDIUM_SIZE = 14\n",
    "BIGGER_SIZE = 16\n",
    "\n",
    "plt.rc('font', size=SMALL_SIZE)          # controls default text sizes\n",
    "plt.rc('axes', titlesize=SMALL_SIZE)     # fontsize of the axes title\n",
    "plt.rc('axes', labelsize=MEDIUM_SIZE)    # fontsize of the x and y labels\n",
    "plt.rc('xtick', labelsize=SMALL_SIZE)    # fontsize of the tick labels\n",
    "plt.rc('ytick', labelsize=SMALL_SIZE)    # fontsize of the tick labels\n",
    "plt.rc('legend', fontsize=SMALL_SIZE)    # legend fontsize\n",
    "plt.rc('figure', titlesize=BIGGER_SIZE)  # fontsize of the figure title\n",
    "\n",
    "plt.rcParams[\"font.family\"] = \"serif\""
   ],
   "metadata": {
    "collapsed": false,
    "ExecuteTime": {
     "end_time": "2024-03-11T15:15:56.227545Z",
     "start_time": "2024-03-11T15:15:56.226160Z"
    }
   },
   "id": "9814c65452f25aa3"
  },
  {
   "cell_type": "code",
   "execution_count": 303,
   "outputs": [],
   "source": [
    "from matplotlib.ticker import StrMethodFormatter\n",
    "\n",
    "# plot teacher f1 score vs k and auc score vs k\n",
    "plt.subplots(1, 2, figsize=(16, 6))\n",
    "# plt.figure(figsize=(8, 6))\n",
    "plt.subplot(1, 2, 1)\n",
    "plt.gca().yaxis.set_major_formatter(StrMethodFormatter('{x:,.3f}'))\n",
    "\n",
    "# add grid\n",
    "plt.grid(True)\n",
    "teacher_f1 = [teacher_mcd_results[k]['f1_score'] for k in teacher_mcd_results.keys()]\n",
    "teacher_k = [int(k) for k in teacher_mcd_results.keys()]\n",
    "plt.plot(teacher_k, teacher_f1, 'o-', lw=3, label='Teacher')\n",
    "plt.ylim(0.978, 0.982)\n",
    "plt.xlabel('Number of MC Dropout Samples')\n",
    "plt.ylabel('F1 Score')\n",
    "plt.title('Predictive Performance (F1 Score)')\n",
    "# add student f1 score\n",
    "plt.axhline(student_mc_results['f1_score'], color='darkorange', linestyle='--', lw=3, label='Student')\n",
    "# add augmented student f1 score\n",
    "# plt.axhline(student_augmented_mc_results['f1_score'], color='green', linestyle='--', lw=3, label='Augmented Student')\n",
    "plt.legend()\n",
    "\n",
    "plt.subplot(1, 2, 2)\n",
    "plt.gca().yaxis.set_major_formatter(StrMethodFormatter('{x:,.3f}'))\n",
    "\n",
    "# add grid\n",
    "plt.grid(True)\n",
    "teacher_f1 = [teacher_mcd_results[k]['auc_score'] for k in teacher_mcd_results.keys()]\n",
    "teacher_k = [int(k) for k in teacher_mcd_results.keys()]\n",
    "plt.plot(teacher_k, teacher_f1, 'o-', lw=3, label='Teacher')\n",
    "# plt.ylim(0.978, 0.99)\n",
    "plt.xlabel('Number of MC Dropout Samples')\n",
    "plt.ylabel('AUC')\n",
    "plt.title('Predictive Performance (AUC)')\n",
    "# add student auc score\n",
    "plt.axhline(student_mc_results['auc_score'], color='darkorange', linestyle='--', lw=3, label='Student')\n",
    "# add augmented student auc score\n",
    "# plt.axhline(student_augmented_mc_results['auc_score'], color='green', linestyle='--', lw=3, label='Augmented Student')\n",
    "plt.legend()\n",
    "if SAVE_PLOTS:\n",
    "    plt.tight_layout()\n",
    "    plt.savefig(os.path.join(image_save_path, f\"plot_f1_auc_teacher_student.pdf\"))\n",
    "    plt.close()"
   ],
   "metadata": {
    "collapsed": false,
    "ExecuteTime": {
     "end_time": "2024-03-11T15:15:56.497617Z",
     "start_time": "2024-03-11T15:15:56.350579Z"
    }
   },
   "id": "6f46078f6985749"
  },
  {
   "cell_type": "code",
   "execution_count": 304,
   "outputs": [],
   "source": [
    "# plot teacher ece score and brier score vs k\n",
    "plt.figure(figsize=(8, 6))\n",
    "plt.gca().yaxis.set_major_formatter(StrMethodFormatter('{x:,.3f}'))\n",
    "\n",
    "# add grid\n",
    "plt.grid(True)\n",
    "teacher_f1 = [teacher_mcd_results[k]['ece_score_l1'] for k in teacher_mcd_results.keys()]\n",
    "teacher_k = [int(k) for k in teacher_mcd_results.keys()]\n",
    "plt.plot(teacher_k, teacher_f1, 'o-', lw=3, label='Teacher')\n",
    "plt.xlabel('Number of MC Dropout Samples')\n",
    "plt.ylabel('ECE')\n",
    "plt.title('Uncertainty Performance (ECE)')\n",
    "# plt.ylim(0.34, 0.35)\n",
    "# add student ece score\n",
    "student_ece = student_mc_results['ece_score_l1']\n",
    "# augmented_student_ece = student_augmented_mc_results['ece_score']\n",
    "xmin = min(teacher_k)\n",
    "xmax = max(teacher_k)\n",
    "plt.hlines(student_ece, xmin, xmax, colors='darkorange', linestyles='--', lw=3, label='Student')\n",
    "# plt.hlines(augmented_student_ece, xmin, xmax, colors='green', linestyles='--', lw=3, label='Augmented Student')\n",
    "plt.legend()\n",
    "if SAVE_PLOTS:\n",
    "    plt.tight_layout()\n",
    "    plt.savefig(os.path.join(image_save_path, f\"plot_ece_teacher_student.pdf\"))\n",
    "    plt.close()"
   ],
   "metadata": {
    "collapsed": false,
    "ExecuteTime": {
     "end_time": "2024-03-11T15:15:56.574208Z",
     "start_time": "2024-03-11T15:15:56.501866Z"
    }
   },
   "id": "921c452152d97abd"
  },
  {
   "cell_type": "code",
   "execution_count": 305,
   "outputs": [],
   "source": [
    "teacher_k = [int(k) for k in teacher_mcd_results.keys()]\n",
    "\n",
    "teacher_ece = [teacher_mcd_results[k]['ece_score_l1'] for k in teacher_mcd_results.keys()]\n",
    "teacher_brier = [teacher_mcd_results[k]['brier_score'] for k in teacher_mcd_results.keys()]\n",
    "\n",
    "student_ece = student_mc_results['ece_score_l1']\n",
    "student_brier = student_mc_results['brier_score']\n",
    "\n",
    "fig, ax1 = plt.subplots(figsize=(10, 8))\n",
    "ax1.yaxis.set_major_formatter(StrMethodFormatter('{x:,.3f}'))\n",
    "# set formatter also for ax2\n",
    "ax2 = ax1.twinx()\n",
    "ax2.yaxis.set_major_formatter(StrMethodFormatter('{x:,.3f}'))\n",
    "\n",
    "ax1.set_xlabel('Number of MC Dropout Samples')\n",
    "ax1.set_ylabel('ECE Score', color='purple')\n",
    "ax1.plot(teacher_k, teacher_ece, label='Teacher ECE', marker='o', lw=3,color='purple')\n",
    "ax1.axhline(student_ece, label='Student ECE', linestyle='--', lw=3, color='purple')\n",
    "ax1.tick_params(axis='y', labelcolor='purple')\n",
    "\n",
    "# Instantiate a second axes that shares the same x-axis\n",
    "ax2.set_ylabel('Brier Score', color='green')  # we already handled the x-label with ax1\n",
    "ax2.plot(teacher_k, teacher_brier, label='Teacher Brier Score', marker='x', lw=3, color='green')\n",
    "ax2.axhline(student_brier, label='Student Brier Score', linestyle='--', lw=3, color='green')\n",
    "ax2.tick_params(axis='y', labelcolor='green')\n",
    "\n",
    "# Combined legend\n",
    "lines, labels = ax1.get_legend_handles_labels()\n",
    "lines2, labels2 = ax2.get_legend_handles_labels()\n",
    "ax2.legend(lines + lines2, labels + labels2, loc='upper right')\n",
    "\n",
    "plt.title(f'Uncertainty Performance and Model Calibration')\n",
    "if SAVE_PLOTS:\n",
    "    plt.tight_layout()\n",
    "    plt.savefig(os.path.join(image_save_path, f\"plot_ece_brier_teacher_student.pdf\"))\n",
    "    plt.close()"
   ],
   "metadata": {
    "collapsed": false,
    "ExecuteTime": {
     "end_time": "2024-03-11T15:15:56.890326Z",
     "start_time": "2024-03-11T15:15:56.806301Z"
    }
   },
   "id": "7c455ac67a7b690f"
  },
  {
   "cell_type": "code",
   "execution_count": 306,
   "outputs": [
    {
     "data": {
      "text/plain": "<Figure size 576x432 with 1 Axes>",
      "image/png": "[encoded data removed]"
     },
     "metadata": {
      "needs_background": "light"
     },
     "output_type": "display_data"
    }
   ],
   "source": [
    "# plot teacher brier score vs k\n",
    "plt.figure(figsize=(8, 6))\n",
    "plt.gca().yaxis.set_major_formatter(StrMethodFormatter('{x:,.3f}'))\n",
    "\n",
    "# add grid\n",
    "plt.grid(True)\n",
    "teacher_f1 = [teacher_mcd_results[k]['brier_score'] for k in teacher_mcd_results.keys()]\n",
    "teacher_k = [int(k) for k in teacher_mcd_results.keys()]\n",
    "plt.plot(teacher_k, teacher_f1, 'o-', lw=3, label='Teacher')\n",
    "plt.xlabel('Number of MC Dropout Samples')\n",
    "plt.ylabel('Brier Score')\n",
    "plt.title('Uncertainty Performance (Brier Score)')\n",
    "# add student brier score\n",
    "student_brier = student_mc_results['brier_score']\n",
    "augmented_student_brier = student_augmented_mc_results['brier_score']\n",
    "xmin = min(teacher_k)\n",
    "xmax = max(teacher_k)\n",
    "plt.hlines(student_brier, xmin, xmax, colors='darkorange', linestyles='--', lw=3, label='Student')\n",
    "plt.hlines(augmented_student_brier, xmin, xmax, colors='green', linestyles='--', lw=3, label='Augmented Student')\n",
    "plt.legend();\n"
   ],
   "metadata": {
    "collapsed": false,
    "ExecuteTime": {
     "end_time": "2024-03-11T15:15:57.393296Z",
     "start_time": "2024-03-11T15:15:57.317010Z"
    }
   },
   "id": "b6e4943657eae200"
  },
  {
   "cell_type": "code",
   "execution_count": 307,
   "outputs": [
    {
     "data": {
      "text/plain": "<Figure size 576x432 with 1 Axes>",
      "image/png": "[encoded data removed]"
     },
     "metadata": {
      "needs_background": "light"
     },
     "output_type": "display_data"
    }
   ],
   "source": [
    "# plot teacher avg bald score vs k\n",
    "plt.figure(figsize=(8, 6))\n",
    "plt.gca().yaxis.set_major_formatter(StrMethodFormatter('{x:,.3f}'))\n",
    "\n",
    "# add grid\n",
    "plt.grid(True)\n",
    "teacher_avg_bald = [teacher_mcd_results[k]['avg_bald'] for k in teacher_mcd_results.keys()]\n",
    "teacher_k = [int(k) for k in teacher_mcd_results.keys()]\n",
    "plt.plot(teacher_k, teacher_avg_bald, 'o-', lw=3, label='Teacher')\n",
    "plt.xlabel('Number of MC Dropout Samples')\n",
    "plt.ylabel('Average BALD')\n",
    "plt.title('Uncertainty Performance (Average BALD)')\n",
    "# add student ece score\n",
    "student_avg_bald = np.mean(student_mc_results['bald_score'])\n",
    "xmin = min(teacher_k)\n",
    "xmax = max(teacher_k)\n",
    "# plt.hlines(student_ece, xmin, xmax, colors='darkorange', linestyles='--', lw=3, label='Student')\n",
    "plt.legend();"
   ],
   "metadata": {
    "collapsed": false,
    "ExecuteTime": {
     "end_time": "2024-03-11T15:15:57.911160Z",
     "start_time": "2024-03-11T15:15:57.838394Z"
    }
   },
   "id": "a27691f8ce963700"
  },
  {
   "cell_type": "code",
   "execution_count": 308,
   "outputs": [
    {
     "name": "stdout",
     "output_type": "stream",
     "text": [
      "Student avg. BALD score:  0.006128525281914432\n",
      "Augmented Student avg. BALD score:  0.006784983642710002\n"
     ]
    }
   ],
   "source": [
    "print(\"Student avg. BALD score: \", np.mean(student_mc_results['bald_score']))\n",
    "print(\"Augmented Student avg. BALD score: \", np.mean(student_augmented_mc_results['bald_score']))"
   ],
   "metadata": {
    "collapsed": false,
    "ExecuteTime": {
     "end_time": "2024-03-11T15:15:58.104359Z",
     "start_time": "2024-03-11T15:15:58.100517Z"
    }
   },
   "id": "e6b95d86cbdf18e9"
  },
  {
   "cell_type": "code",
   "execution_count": 309,
   "outputs": [],
   "source": [
    "# plot teacher avg inference time score vs k\n",
    "plt.figure(figsize=(8, 6))\n",
    "\n",
    "# add grid\n",
    "plt.grid(True)\n",
    "teacher_f1 = [teacher_mcd_results[k]['average_inference_time'] for k in teacher_mcd_results.keys()]\n",
    "teacher_k = [int(k) for k in teacher_mcd_results.keys()]\n",
    "plt.plot(teacher_k, teacher_f1, 'o-', lw=3, label='Teacher')\n",
    "plt.xlabel('Number of MC Dropout Samples')\n",
    "plt.ylabel('Milliseconds')\n",
    "plt.title('Average Inference Time per Text Sequence (ms)')\n",
    "# add student avg inference time\n",
    "student_avg_time = student_mc_results['average_inference_time']\n",
    "xmin = min(teacher_k)\n",
    "xmax = max(teacher_k)\n",
    "plt.hlines(student_avg_time, xmin, xmax, colors='darkorange', linestyles='--', lw=3, label='Student')\n",
    "plt.legend()\n",
    "if SAVE_PLOTS:\n",
    "    plt.tight_layout()\n",
    "    plt.savefig(os.path.join(image_save_path, f\"plot_avg_inference_time_teacher_student.pdf\"))\n",
    "    plt.close()"
   ],
   "metadata": {
    "collapsed": false,
    "ExecuteTime": {
     "end_time": "2024-03-11T15:15:58.382126Z",
     "start_time": "2024-03-11T15:15:58.321284Z"
    }
   },
   "id": "f671b8d0ab96471c"
  },
  {
   "cell_type": "markdown",
   "source": [
    "student has slight overhead due to MC sampling from logits"
   ],
   "metadata": {
    "collapsed": false
   },
   "id": "f58df2f0cd140537"
  },
  {
   "cell_type": "code",
   "execution_count": 310,
   "outputs": [],
   "source": [
    "# calibration plot\n",
    "from sklearn.calibration import calibration_curve\n",
    "\n",
    "with open(f'../out/bert_teacher/final_e3_lr2_hd020_ad020_cd030/results/results.json', 'r') as f:\n",
    "        teacher_results = json.load(f) # these are actually the results from the MCD model!\n",
    "\n",
    "plt.figure(figsize=(10, 8))\n",
    "\n",
    "# teacher\n",
    "fop, mpv = calibration_curve(y_true=teacher_results['y_true'], y_prob=teacher_results['y_prob'], n_bins=10, normalize=True)\n",
    "plt.plot(mpv, fop, marker='.', lw=3, label='Teacher')\n",
    "# student\n",
    "fop, mpv = calibration_curve(y_true=student_mc_results['y_true'], y_prob=student_mc_results['y_prob'], n_bins=10, normalize=True)\n",
    "plt.plot(mpv, fop, marker='.', lw=3, label='Student')\n",
    "\n",
    "plt.plot([0, 1], [0, 1], linestyle='--', color='grey', label='Perfect Calibration')\n",
    "\n",
    "# augmented student\n",
    "# fop, mpv = calibration_curve(y_true=student_augmented_mc_results['y_true'], y_prob=student_augmented_mc_results['y_prob'], n_bins=10, normalize=True)\n",
    "# plt.plot(mpv, fop, marker='.', color='green', label='Augmented Student')\n",
    "plt.xlabel('Mean Predicted Probability')\n",
    "plt.ylabel('Fraction of Positives')\n",
    "plt.title('Model Calibration')\n",
    "plt.legend()\n",
    "if SAVE_PLOTS:\n",
    "    plt.tight_layout()\n",
    "    plt.savefig(os.path.join(image_save_path, f\"plot_calibration_plot_teacher_student.pdf\"))\n",
    "    plt.close()"
   ],
   "metadata": {
    "collapsed": false,
    "ExecuteTime": {
     "end_time": "2024-03-11T15:15:58.757866Z",
     "start_time": "2024-03-11T15:15:58.679810Z"
    }
   },
   "id": "51a1b4d1a1cb6cf5"
  },
  {
   "cell_type": "code",
   "execution_count": 311,
   "outputs": [
    {
     "data": {
      "text/plain": "(0.9799758745476479, 0.9806576402321083, 0.9820213799805636)"
     },
     "execution_count": 311,
     "metadata": {},
     "output_type": "execute_result"
    }
   ],
   "source": [
    "# f1 score\n",
    "teacher_results['f1_score'], student_mc_results['f1_score'], student_augmented_mc_results['f1_score']\n",
    "# augmented student > student > teacher"
   ],
   "metadata": {
    "collapsed": false,
    "ExecuteTime": {
     "end_time": "2024-03-11T15:15:59.044206Z",
     "start_time": "2024-03-11T15:15:59.040299Z"
    }
   },
   "id": "aace2d462dbb870c"
  },
  {
   "cell_type": "code",
   "execution_count": 312,
   "outputs": [
    {
     "data": {
      "text/plain": "(0.02421403987034935, 0.024903782388658317, 0.02403716299954644)"
     },
     "execution_count": 312,
     "metadata": {},
     "output_type": "execute_result"
    }
   ],
   "source": [
    "# brier score\n",
    "teacher_results['brier_score'], student_mc_results['brier_score'], student_augmented_mc_results['brier_score']\n",
    "# augmented student > teacher > student"
   ],
   "metadata": {
    "collapsed": false,
    "ExecuteTime": {
     "end_time": "2024-03-11T15:15:59.321198Z",
     "start_time": "2024-03-11T15:15:59.317926Z"
    }
   },
   "id": "d026ba8121466bba"
  },
  {
   "cell_type": "code",
   "execution_count": 313,
   "outputs": [
    {
     "data": {
      "text/plain": "(0.3457771061929799, 0.3441301544278075, 0.34460585905099667)"
     },
     "execution_count": 313,
     "metadata": {},
     "output_type": "execute_result"
    }
   ],
   "source": [
    "# ece score\n",
    "teacher_results['ece_score'], student_mc_results['ece_score'], student_augmented_mc_results['ece_score']\n",
    "# student > augmented student > teacher"
   ],
   "metadata": {
    "collapsed": false,
    "ExecuteTime": {
     "end_time": "2024-03-11T15:15:59.679231Z",
     "start_time": "2024-03-11T15:15:59.676803Z"
    }
   },
   "id": "9b0c74517b709381"
  },
  {
   "cell_type": "code",
   "execution_count": 314,
   "outputs": [
    {
     "data": {
      "text/plain": "(0.07662550488332917, 0.07719258805670362)"
     },
     "execution_count": 314,
     "metadata": {},
     "output_type": "execute_result"
    }
   ],
   "source": [
    "# entropy\n",
    "from scipy.stats import entropy\n",
    "\n",
    "teacher_entropy = np.mean([entropy([p, 1-p])  for p in teacher_results['y_prob']])\n",
    "student_entropy = np.mean([entropy([p, 1-p])  for p in student_mc_results['y_prob']])\n",
    "\n",
    "teacher_entropy, student_entropy # the higher, the more uncertain (flatter distribution)\n",
    "# augmented student > student > teacher \n",
    "\n",
    "# corresponds to high-entropy posterior distribution"
   ],
   "metadata": {
    "collapsed": false,
    "ExecuteTime": {
     "end_time": "2024-03-11T15:16:00.040434Z",
     "start_time": "2024-03-11T15:16:00.004948Z"
    }
   },
   "id": "561a344fc7e19c68"
  },
  {
   "cell_type": "code",
   "execution_count": 317,
   "outputs": [],
   "source": [
    "# similarity of predictive distributions - cdf plot\n",
    "from scipy.special import logit\n",
    "import seaborn as sns\n",
    "\n",
    "# Transforming data using logit function to better visualize skewed data\n",
    "teacher_logit_dist = logit(np.array(teacher_results['y_prob']))\n",
    "student_logit_dist = logit(np.array(student_mc_results['y_prob']))\n",
    "# logit_dist3 = logit(np.array(student_augmented_mc_results['y_prob']))\n",
    "\n",
    "plt.figure(figsize=(10, 8))\n",
    "sns.kdeplot(teacher_logit_dist, bw_adjust=0.5, lw=3, label=f'Teacher (Entropy: {teacher_entropy:.3f})')\n",
    "sns.kdeplot(student_logit_dist, bw_adjust=0.5, lw=3, label=f'Student (Entropy: {student_entropy:.3f})')\n",
    "# sns.kdeplot(logit_dist3, bw_adjust=0.5, label='Distribution 3')\n",
    "plt.xlabel('Predictive Probability (Logit)')\n",
    "plt.ylabel('Density')\n",
    "# plt.title('Predictive Distributions (Logit Scale)')\n",
    "plt.legend()\n",
    "plt.grid(True)\n",
    "if SAVE_PLOTS:\n",
    "    plt.tight_layout()\n",
    "    plt.savefig(os.path.join(image_save_path, f\"plot_density_logit_teacher_student.pdf\"))\n",
    "    plt.close()"
   ],
   "metadata": {
    "collapsed": false,
    "ExecuteTime": {
     "end_time": "2024-03-11T15:37:09.589775Z",
     "start_time": "2024-03-11T15:37:09.376728Z"
    }
   },
   "id": "11e525bd064bba8d"
  },
  {
   "cell_type": "code",
   "execution_count": 316,
   "outputs": [
    {
     "data": {
      "text/plain": "<Figure size 720x576 with 1 Axes>",
      "image/png": "[encoded data removed]"
     },
     "metadata": {
      "needs_background": "light"
     },
     "output_type": "display_data"
    }
   ],
   "source": [
    "def calculate_cdf(data):\n",
    "    # Sort data\n",
    "    data_sorted = np.sort(data)\n",
    "    # Calculate CDF values\n",
    "    cdf = np.arange(1, len(data) + 1) / len(data)\n",
    "    return data_sorted, cdf\n",
    "\n",
    "# Calculate CDF for each distribution\n",
    "data_sorted1, cdf1 = calculate_cdf(np.array(teacher_results['y_prob']))\n",
    "data_sorted2, cdf2 = calculate_cdf(np.array(student_mc_results['y_prob']))\n",
    "data_sorted3, cdf3 = calculate_cdf(np.array(student_augmented_mc_results['y_prob']))\n",
    "\n",
    "plt.figure(figsize=(10, 8))\n",
    "plt.plot(data_sorted1, cdf1, label='CDF of Distribution 1')\n",
    "plt.plot(data_sorted2, cdf2, label='CDF of Distribution 2')\n",
    "plt.plot(data_sorted3, cdf3, label='CDF of Distribution 3')\n",
    "plt.xlabel('Predictive Probability')\n",
    "plt.ylabel('CDF')\n",
    "plt.title('CDF Plot of Predictive Distributions')\n",
    "plt.legend()\n",
    "plt.grid(True)\n",
    "plt.show()"
   ],
   "metadata": {
    "collapsed": false,
    "ExecuteTime": {
     "end_time": "2024-03-11T15:16:02.510922Z",
     "start_time": "2024-03-11T15:16:02.426497Z"
    }
   },
   "id": "6a20b9257b7b818f"
  },
  {
   "cell_type": "code",
   "execution_count": 270,
   "outputs": [
    {
     "data": {
      "text/plain": "<Figure size 720x576 with 1 Axes>",
      "image/png": "[encoded data removed]"
     },
     "metadata": {
      "needs_background": "light"
     },
     "output_type": "display_data"
    }
   ],
   "source": [
    "# histogram of difference between predicted probability and true label\n",
    "plt.figure(figsize=(10, 8))\n",
    "# need to turn lists in np arrays   \n",
    "student_mc_results['y_true'] = np.array(student_mc_results['y_true'])\n",
    "student_mc_results['y_prob'] = np.array(student_mc_results['y_prob'])\n",
    "# student_augmented_mc_results['y_true'] = np.array(student_augmented_mc_results['y_true'])\n",
    "# student_augmented_mc_results['y_prob'] = np.array(student_augmented_mc_results['y_prob'])\n",
    "teacher_results['y_true'] = np.array(teacher_results['y_true'])\n",
    "teacher_results['y_prob'] = np.array(teacher_results['y_prob'])\n",
    "\n",
    "diff_student = np.abs(student_mc_results['y_true'] - student_mc_results['y_prob'])\n",
    "# diff_augmented_student = np.abs(student_augmented_mc_results['y_true'] - student_augmented_mc_results['y_prob'])\n",
    "diff_teacher = np.abs(teacher_results['y_true'] - teacher_results['y_prob']) \n",
    "\n",
    "cropped_diff_student = diff_student[diff_student > 0.05]\n",
    "# cropped_diff_augmented_student = diff_augmented_student[diff_augmented_student > 0.05]\n",
    "cropped_diff_teacher = diff_teacher[diff_teacher > 0.05]\n",
    "\n",
    "plt.hist(diff_teacher[diff_teacher > 0.05], bins=20, alpha=0.5, label='Teacher', density=True)\n",
    "plt.hist(diff_student[diff_student > 0.05], bins=20, alpha=0.5, label='Student', density=True)\n",
    "# plt.hist(diff_augmented_student[diff_augmented_student > 0.05], bins=20, alpha=0.5, label='Augmented Student', density=True)\n",
    "plt.xlabel('Difference between Predicted Probability and True Label')\n",
    "plt.ylabel('Frequency')\n",
    "plt.title('Histogram of Difference between Predicted Probability and True Label')\n",
    "plt.legend();"
   ],
   "metadata": {
    "collapsed": false,
    "ExecuteTime": {
     "end_time": "2024-03-08T13:05:10.250374Z",
     "start_time": "2024-03-08T13:05:10.121740Z"
    }
   },
   "id": "f77e73ea30f7fd83"
  },
  {
   "cell_type": "markdown",
   "source": [
    "### On Calibration\n",
    "\n",
    "- 1.) ChatGPT notes, including L2 ECE vs. L1 ECE vs. Brier Score vor measuring calibration and calibration error\n",
    "- 2.) calibration curve\n",
    "- 3.) other plot interpretations\n",
    "\n",
    "\n",
    "1.)\n",
    "**L1 vs L2**\n",
    "- L1 norm (Manhattan distance) measures the absolute differences between predicted probabilities and actual outcomes. It is less sensitive to large errors because it doesn't square the differences.\n",
    "- L2 norm (Euclidean distance) squares the differences between predicted probabilities and actual outcomes before averaging them, which makes it more sensitive to larger errors.\n",
    "\n",
    "Hence, if a model has some predictions that are significantly miscalibrated, the ECE calculated with the L2 norm is expected to be higher than that calculated with the L1 norm, because these larger errors will have a more pronounced effect on the calculation.\n",
    "\n",
    "**Effect of number of bins**\n",
    "- Increased Number of Bins (from 10 to 30): Increasing the number of bins provides a finer granularity in evaluating the model's calibration. This can lead to a more detailed understanding of where the model may be miscalibrated. However, with more bins, each bin has fewer samples, which can increase the variance of the ECE estimate. The effect on the ECE value can go either way: it might increase if miscalibrations are more finely captured, or it might decrease if the model's calibration errors are more evenly distributed or minor.\n",
    "\n",
    "**ECE and Class Imbalance**\n",
    "\n",
    "- Imbalanced Classes: In datasets where one class significantly outnumbers the other(s), models might learn to predict the majority class more frequently, affecting their calibration. For instance, in a highly imbalanced dataset, a model might learn to predict the majority class with high confidence, which can skew its predicted probabilities and potentially lead to poor calibration for the minority class.\n",
    "- ECE Sensitivity: ECE might not fully capture the effects of class imbalance on model calibration, especially if the imbalance is severe. Since ECE is an aggregate measure, it might show that a model is well-calibrated if the predictions for the majority class are accurate, even if the model performs poorly on the minority class. This is because the minority class, having fewer instances, contributes less to the overall ECE calculation.\n",
    "\n",
    "In scenarios with imbalanced classes, it is also beneficial to look into class-specific calibration measures or to use stratified approaches when calculating ECE to ensure that the calibration of predictions for all classes is adequately assessed. This can involve separately evaluating the calibration for each class or using metrics like the Brier score that can be decomposed to provide more insights into model performance across different classes.\n",
    "\n",
    "**ECE and Brier Score**\n",
    "Explaining Low Brier Score with High ECE\n",
    "\n",
    "Several factors could explain this seemingly paradoxical situation:\n",
    "\n",
    "- Class Imbalance with Predominantly Accurate Predictions:\n",
    "    In cases of class imbalance, if the model almost always accurately predicts the majority class with high probability, the Brier Score could be low because the squared errors for these predictions are small. However, if the model's predictions for the minority class are poorly calibrated (either too confident or not confident enough), the ECE could be high because ECE is sensitive to mismatches between predicted probabilities and actual outcomes.\n",
    "\n",
    "- Consistently Inaccurate Probability Estimates for a Subset of Predictions:\n",
    "    The model might produce very accurate predictions for a large portion of the dataset, contributing to a low Brier Score. However, if there is a subset of predictions where the model consistently overestimates or underestimates probabilities, this could lead to a high ECE. The Brier Score might not capture the severity of these miscalibrations if they are relatively few or if the squared error impact is diluted across the dataset.\n",
    "\n",
    "- Poor Model Performance on a Critical Subset of Data:\n",
    "    If the model performs poorly on a critical but relatively small subset of the data, it might still achieve a low overall Brier Score, especially if it performs very well on the rest of the data. However, poor calibration on this critical subset could significantly increase the ECE, highlighting the importance of calibration across all subsets of data.\n",
    "\n",
    "- Differences in Sensitivity to Calibration and Discrimination:\n",
    "    The Brier Score is influenced by both the calibration and the sharpness (or discrimination) of the predictions. A model might have good discrimination (accurately distinguishing between classes) and thus a low Brier Score, but it can still be poorly calibrated (the probabilities are not well aligned with actual outcomes), leading to a high ECE.\n",
    "\n",
    "- Inappropriate Binning Strategy for ECE:\n",
    "    The choice of binning strategy (number of bins, binning method) in calculating ECE can sometimes exaggerate calibration issues if not appropriately matched to the model's output distribution. This could artificially inflate the ECE in comparison to the Brier Score, which does not rely on binning.\n",
    "\n",
    "\n",
    "2.)\n",
    "**Calibration Curve**\n",
    "- helps visualize the relationship between predicted probabilities and actual outcomes\n",
    "- can reveal whether a model tends to under-predict or over-predict the actual outcomes across different ranges of predicted probabilities\n",
    "- perfectly calibrated model is represented by the dashed diagonal line; it indicates where the predicted probabilities exactly match the actual frequencies. For a perfectly calibrated model, if it predicts events with 70% probability, then those events should indeed occur about 70% of the time.\n",
    "\n",
    "**teacher**\n",
    "- in the lower probabilities (from 0 to about 0.2), the teacher model tends to slightly under-predict the actual outcomes, meaning the events occur more frequently than predicted\n",
    "- between 0.2 and 0.5, the trend is inconsistent, but the model generally over-predicts the actual outcomes\n",
    "- between approximately 0.5 and 0.8, the model substantially over-predicts the actual outcomes\n",
    "- near the high end (close to 1.0), the teacher model aligns closely with perfect calibration, suggesting accurate predictions for high-confidence events\n",
    "\n",
    "**student**\n",
    "- student model's calibration curve generally shows a less pronounced deviation from the line of perfect calibration, indicating more reliable predicted probabilities\n",
    "- in the lower probabilities (from 0 to about 0.2), the student model tends to also slightly under-predict the actual outcomes, more than the teacher\n",
    "- above 0.2, the model's predicted probabilities are on average closer to the actual frequencies compared to the teacher's but still over-predict; for the highest predicted probabilities (close to 1.0), the Student model's predictions are again closer to the line of perfect calibration but not as close as the teacher's predictions\n",
    "\n",
    "general observation: student is better-calibrated around the 0.5 threshold, but not as well-calibrated at the extremes as the teacher\n",
    "If a model is well-calibrated around this 0.5 threshold, it implies that it can reliably distinguish between the positive and negative classes. For example, when the model predicts a probability of 0.6, ideally, 60% of such predictions should indeed belong to the positive class. This local calibration is crucial in practice because it directly affects decision-making based on model predictions. However, the overall calibration of a model is a global property that looks at how well the predicted probabilities match the actual outcomes across the entire probability spectrum, not just at or near the 0.5 threshold. Thus, while better calibration near the 0.5 threshold can be very practical and beneficial, it doesn't necessarily imply that the model is better calibrated overall.\n",
    "\n",
    "For Practical Purposes: If most decisions hinge on the 0.5 threshold, a model that is well-calibrated in this region might be preferable even if it's less calibrated elsewhere. The precision and recall of the model at this threshold would also be key performance indicators.\n",
    "\n",
    "For Overall Calibration: To claim a model is well-calibrated overall, it should have predicted probabilities that closely correspond to the true probabilities across all ranges, not just near the 0.5 threshold. This would be reflected in a low ECE score and a calibration plot that closely follows the perfectly calibrated line across the full range of probabilities.\n",
    "\n",
    "\n",
    "3.)\n",
    "- histogram of difference between predicted probability and true label\n",
    "    - provides basically same information as entropy -> does the model tend to make more confident predictions or not\n",
    "    - observe: teacher has more extreme predictions than student and augmented student, augmented student has the least extreme predictions"
   ],
   "metadata": {
    "collapsed": false
   },
   "id": "b4ea59e3acd08c58"
  },
  {
   "cell_type": "code",
   "execution_count": 249,
   "outputs": [],
   "source": [],
   "metadata": {
    "collapsed": false,
    "ExecuteTime": {
     "end_time": "2024-03-08T13:01:47.478885Z",
     "start_time": "2024-03-08T13:01:47.451650Z"
    }
   },
   "id": "6c07dce2e9079e11"
  },
  {
   "cell_type": "code",
   "execution_count": 249,
   "outputs": [],
   "source": [],
   "metadata": {
    "collapsed": false,
    "ExecuteTime": {
     "end_time": "2024-03-08T13:01:47.643190Z",
     "start_time": "2024-03-08T13:01:47.615306Z"
    }
   },
   "id": "b881e966470d6b3f"
  },
  {
   "cell_type": "code",
   "execution_count": null,
   "outputs": [],
   "source": [],
   "metadata": {
    "collapsed": false
   },
   "id": "8c6432d01f4266fe"
  }
 ],
 "metadata": {
  "kernelspec": {
   "display_name": "Python 3",
   "language": "python",
   "name": "python3"
  },
  "language_info": {
   "codemirror_mode": {
    "name": "ipython",
    "version": 2
   },
   "file_extension": ".py",
   "mimetype": "text/x-python",
   "name": "python",
   "nbconvert_exporter": "python",
   "pygments_lexer": "ipython2",
   "version": "2.7.6"
  }
 },
 "nbformat": 4,
 "nbformat_minor": 5
}

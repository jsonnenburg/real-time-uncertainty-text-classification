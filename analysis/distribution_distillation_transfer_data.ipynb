{
 "cells": [
  {
   "cell_type": "markdown",
   "source": [
    "- Analysis of transfer dataset regarding teacher predictive distribution\n",
    "- Example visualisations of teacher uncertainty, epistemic and aleatoric uncertainty for example sequences \n",
    "\n",
    "Goals:\n",
    "- Validate that transfer dataset indeed incorporates teacher uncertainty (the approach works)"
   ],
   "metadata": {
    "collapsed": false
   },
   "id": "98f3f87104a01527"
  },
  {
   "cell_type": "code",
   "execution_count": 8,
   "outputs": [
    {
     "data": {
      "text/plain": "'/Users/johann/Documents/Uni/real-time-uncertainty-text-classification/analysis'"
     },
     "execution_count": 8,
     "metadata": {},
     "output_type": "execute_result"
    }
   ],
   "source": [
    "import pandas as pd\n",
    "import os\n",
    "\n",
    "os.getcwd()"
   ],
   "metadata": {
    "collapsed": false,
    "ExecuteTime": {
     "end_time": "2024-01-19T10:57:52.336250Z",
     "start_time": "2024-01-19T10:57:52.323166Z"
    }
   },
   "id": "3fe3b5102538688f"
  },
  {
   "cell_type": "code",
   "execution_count": 11,
   "outputs": [],
   "source": [
    "path_to_transfer_dataset = \"../data/distribution_distillation/aleatoric_and_epistemic/m5_k5/transfer_train.csv\"\n",
    "\n",
    "transfer_df = pd.read_csv(path_to_transfer_dataset, sep=\"\\t\")"
   ],
   "metadata": {
    "collapsed": false,
    "ExecuteTime": {
     "end_time": "2024-01-19T10:58:23.333021Z",
     "start_time": "2024-01-19T10:58:23.076244Z"
    }
   },
   "id": "2f893d459eeca23b"
  },
  {
   "cell_type": "code",
   "execution_count": 12,
   "outputs": [
    {
     "name": "stdout",
     "output_type": "stream",
     "text": [
      "<class 'pandas.core.frame.DataFrame'>\n",
      "RangeIndex: 557600 entries, 0 to 557599\n",
      "Data columns (total 3 columns):\n",
      " #   Column       Non-Null Count   Dtype  \n",
      "---  ------       --------------   -----  \n",
      " 0   sequences    557600 non-null  object \n",
      " 1   labels       557600 non-null  int64  \n",
      " 2   predictions  557600 non-null  float64\n",
      "dtypes: float64(1), int64(1), object(1)\n",
      "memory usage: 12.8+ MB\n"
     ]
    }
   ],
   "source": [
    "transfer_df.info()"
   ],
   "metadata": {
    "collapsed": false,
    "ExecuteTime": {
     "end_time": "2024-01-19T10:58:25.114929Z",
     "start_time": "2024-01-19T10:58:25.097885Z"
    }
   },
   "id": "bba9a3a8bb598b8"
  },
  {
   "cell_type": "code",
   "execution_count": 13,
   "outputs": [
    {
     "data": {
      "text/plain": "                                           sequences  labels  predictions\n0                        come back hoe <user> <url>        1     0.876559\n1  rt <user> bouta take a shower just to fuck yo ...       1     0.921072\n2                       stiff armed his hoe ass lmao       1     0.878211\n3  <user> ugly goldigging cunt u probably have an...       1     0.323542\n4                         fuck bitches get money aye       1     0.825297",
      "text/html": "<div>\n<style scoped>\n    .dataframe tbody tr th:only-of-type {\n        vertical-align: middle;\n    }\n\n    .dataframe tbody tr th {\n        vertical-align: top;\n    }\n\n    .dataframe thead th {\n        text-align: right;\n    }\n</style>\n<table border=\"1\" class=\"dataframe\">\n  <thead>\n    <tr style=\"text-align: right;\">\n      <th></th>\n      <th>sequences</th>\n      <th>labels</th>\n      <th>predictions</th>\n    </tr>\n  </thead>\n  <tbody>\n    <tr>\n      <th>0</th>\n      <td>come back hoe &lt;user&gt; &lt;url&gt;</td>\n      <td>1</td>\n      <td>0.876559</td>\n    </tr>\n    <tr>\n      <th>1</th>\n      <td>rt &lt;user&gt; bouta take a shower just to fuck yo ...</td>\n      <td>1</td>\n      <td>0.921072</td>\n    </tr>\n    <tr>\n      <th>2</th>\n      <td>stiff armed his hoe ass lmao</td>\n      <td>1</td>\n      <td>0.878211</td>\n    </tr>\n    <tr>\n      <th>3</th>\n      <td>&lt;user&gt; ugly goldigging cunt u probably have an...</td>\n      <td>1</td>\n      <td>0.323542</td>\n    </tr>\n    <tr>\n      <th>4</th>\n      <td>fuck bitches get money aye</td>\n      <td>1</td>\n      <td>0.825297</td>\n    </tr>\n  </tbody>\n</table>\n</div>"
     },
     "execution_count": 13,
     "metadata": {},
     "output_type": "execute_result"
    }
   ],
   "source": [
    "transfer_df.head()"
   ],
   "metadata": {
    "collapsed": false,
    "ExecuteTime": {
     "end_time": "2024-01-19T10:58:27.528266Z",
     "start_time": "2024-01-19T10:58:27.517910Z"
    }
   },
   "id": "ba598cd5096e69bf"
  },
  {
   "cell_type": "code",
   "execution_count": 14,
   "outputs": [],
   "source": [
    "# group by sequence, compute mean and std of teacher predictions\n",
    "teacher_mean = transfer_df.groupby(\"sequences\")['predictions'].mean()\n",
    "teacher_std = transfer_df.groupby(\"sequences\")['predictions'].std()\n",
    "teacher_description = pd.concat([teacher_mean, teacher_std], axis=1)\n",
    "teacher_description.columns = [\"pred_mean\", \"pred_std_dev\"]"
   ],
   "metadata": {
    "collapsed": false,
    "ExecuteTime": {
     "end_time": "2024-01-19T10:58:31.776738Z",
     "start_time": "2024-01-19T10:58:31.621472Z"
    }
   },
   "id": "e6cbe32dc82b1215"
  },
  {
   "cell_type": "code",
   "execution_count": 15,
   "outputs": [
    {
     "data": {
      "text/plain": "                                                    pred_mean  pred_std_dev\nsequences                                                                  \n <emoji> <emoji> <emoji> <emoji> <emoji> <emoji...   0.424081      0.241225\n <emoji> <emoji> <emoji> <emoji> <emoji> rt <us...   0.888430      0.086001\n <emoji> <emoji> <emoji> <emoji> plus sheryl cr...   0.271479      0.234392\n <emoji> <emoji> <emoji> <user> its true that t...   0.261439      0.279189\n <emoji> <emoji> <emoji> <user> no bitch go awa...   0.889000      0.155099\n...                                                       ...           ...\nzhou mi was just layin on his bed and sm just b...   0.988475      0.023530\nzimmerman we comin for yo life bitch <url>           0.956034      0.055397\nzuko gets bitches                                    0.889623      0.085713\nálbum de fotos csitaly ts<number> fairy tail sa...   0.027438      0.049013\nálbum de fotos gaywrites in the making a projec...   0.695825      0.234707\n\n[22034 rows x 2 columns]",
      "text/html": "<div>\n<style scoped>\n    .dataframe tbody tr th:only-of-type {\n        vertical-align: middle;\n    }\n\n    .dataframe tbody tr th {\n        vertical-align: top;\n    }\n\n    .dataframe thead th {\n        text-align: right;\n    }\n</style>\n<table border=\"1\" class=\"dataframe\">\n  <thead>\n    <tr style=\"text-align: right;\">\n      <th></th>\n      <th>pred_mean</th>\n      <th>pred_std_dev</th>\n    </tr>\n    <tr>\n      <th>sequences</th>\n      <th></th>\n      <th></th>\n    </tr>\n  </thead>\n  <tbody>\n    <tr>\n      <th>&lt;emoji&gt; &lt;emoji&gt; &lt;emoji&gt; &lt;emoji&gt; &lt;emoji&gt; &lt;emoji&gt; omg just thinccin of you makes me laugh we use to stay talking shit in &lt;number&gt; rd period you cute you my bitch &lt;emoji&gt; &lt;emoji&gt; &lt;emoji&gt;</th>\n      <td>0.424081</td>\n      <td>0.241225</td>\n    </tr>\n    <tr>\n      <th>&lt;emoji&gt; &lt;emoji&gt; &lt;emoji&gt; &lt;emoji&gt; &lt;emoji&gt; rt &lt;user&gt; &lt;user&gt; &lt;user&gt; swear to god bitch im bouta delete my twitter account &lt;url&gt;</th>\n      <td>0.888430</td>\n      <td>0.086001</td>\n    </tr>\n    <tr>\n      <th>&lt;emoji&gt; &lt;emoji&gt; &lt;emoji&gt; &lt;emoji&gt; plus sheryl crow &lt;url&gt;</th>\n      <td>0.271479</td>\n      <td>0.234392</td>\n    </tr>\n    <tr>\n      <th>&lt;emoji&gt; &lt;emoji&gt; &lt;emoji&gt; &lt;user&gt; its true that the early bird gets the worm first</th>\n      <td>0.261439</td>\n      <td>0.279189</td>\n    </tr>\n    <tr>\n      <th>&lt;emoji&gt; &lt;emoji&gt; &lt;emoji&gt; &lt;user&gt; no bitch go away &lt;emoji&gt; &lt;user&gt; &lt;user&gt; &lt;user&gt; &lt;user&gt; tu puta madre &lt;user&gt;</th>\n      <td>0.889000</td>\n      <td>0.155099</td>\n    </tr>\n    <tr>\n      <th>...</th>\n      <td>...</td>\n      <td>...</td>\n    </tr>\n    <tr>\n      <th>zhou mi was just layin on his bed and sm just busted into his room and was like you gettin a song bitch</th>\n      <td>0.988475</td>\n      <td>0.023530</td>\n    </tr>\n    <tr>\n      <th>zimmerman we comin for yo life bitch &lt;url&gt;</th>\n      <td>0.956034</td>\n      <td>0.055397</td>\n    </tr>\n    <tr>\n      <th>zuko gets bitches</th>\n      <td>0.889623</td>\n      <td>0.085713</td>\n    </tr>\n    <tr>\n      <th>álbum de fotos csitaly ts&lt;number&gt; fairy tail satan soul mirajane strauss made with the sims &lt;number&gt; happy &lt;url&gt;</th>\n      <td>0.027438</td>\n      <td>0.049013</td>\n    </tr>\n    <tr>\n      <th>álbum de fotos gaywrites in the making a project by and for queer students at harvard highlights the &lt;url&gt;</th>\n      <td>0.695825</td>\n      <td>0.234707</td>\n    </tr>\n  </tbody>\n</table>\n<p>22034 rows × 2 columns</p>\n</div>"
     },
     "execution_count": 15,
     "metadata": {},
     "output_type": "execute_result"
    }
   ],
   "source": [
    "teacher_description"
   ],
   "metadata": {
    "collapsed": false,
    "ExecuteTime": {
     "end_time": "2024-01-19T10:58:32.249030Z",
     "start_time": "2024-01-19T10:58:32.242760Z"
    }
   },
   "id": "1337d6e1d351e6bd"
  },
  {
   "cell_type": "code",
   "execution_count": 32,
   "outputs": [
    {
     "data": {
      "text/plain": "<Figure size 576x432 with 1 Axes>",
      "image/png": "[encoded data removed]"
     },
     "metadata": {},
     "output_type": "display_data"
    }
   ],
   "source": [
    "# pick random sequence, plot all raw predictions for this sequence\n",
    "import matplotlib.pyplot as plt\n",
    "import seaborn as sns\n",
    "import numpy as np\n",
    "\n",
    "random_sequence = np.random.choice(teacher_description.index)\n",
    "random_sequence_df = transfer_df[transfer_df[\"sequences\"] == random_sequence]\n",
    "\n",
    "random_seq_mean, random_seq_std_dev = teacher_description.loc[random_sequence, :][\"pred_mean\"], teacher_description.loc[random_sequence][\"pred_std_dev\"]\n",
    "\n",
    "plt.figure(figsize=(8, 6))\n",
    "sns.histplot(random_sequence_df[\"predictions\"])\n",
    "plt.axvline(random_seq_mean, color=\"red\", label=\"Mean\")\n",
    "plt.xlabel(\"Samples from teacher predictive distribution\")\n",
    "plt.xlim(0, 1)\n",
    "plt.legend();"
   ],
   "metadata": {
    "collapsed": false,
    "ExecuteTime": {
     "end_time": "2024-01-19T11:00:15.270665Z",
     "start_time": "2024-01-19T11:00:15.196568Z"
    }
   },
   "id": "1bb0a66e418456ca"
  },
  {
   "cell_type": "code",
   "execution_count": null,
   "outputs": [],
   "source": [],
   "metadata": {
    "collapsed": false
   },
   "id": "48a13b00ea6179aa"
  }
 ],
 "metadata": {
  "kernelspec": {
   "display_name": "Python 3",
   "language": "python",
   "name": "python3"
  },
  "language_info": {
   "codemirror_mode": {
    "name": "ipython",
    "version": 2
   },
   "file_extension": ".py",
   "mimetype": "text/x-python",
   "name": "python",
   "nbconvert_exporter": "python",
   "pygments_lexer": "ipython2",
   "version": "2.7.6"
  }
 },
 "nbformat": 4,
 "nbformat_minor": 5
}

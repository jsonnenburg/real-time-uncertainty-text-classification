{
 "cells": [
  {
   "cell_type": "markdown",
   "source": [
    "- Analysis of transfer dataset regarding teacher predictive distribution\n",
    "- Example visualisations of teacher uncertainty, epistemic and aleatoric uncertainty for example sequences \n",
    "\n",
    "Goals:\n",
    "- Validate that transfer dataset indeed incorporates teacher uncertainty (the approach works)"
   ],
   "metadata": {
    "collapsed": false
   },
   "id": "98f3f87104a01527"
  },
  {
   "cell_type": "code",
   "execution_count": 1,
   "outputs": [],
   "source": [
    "import pandas as pd"
   ],
   "metadata": {
    "collapsed": false,
    "ExecuteTime": {
     "end_time": "2024-01-04T16:13:12.398871Z",
     "start_time": "2024-01-04T16:13:11.763157Z"
    }
   },
   "id": "3fe3b5102538688f"
  },
  {
   "cell_type": "code",
   "execution_count": 4,
   "outputs": [],
   "source": [
    "path_to_transfer_dataset = \"../../../tests/distribution_distillation/transfer_data/aleatoric/transfer_train.csv\"\n",
    "\n",
    "transfer_df = pd.read_csv(path_to_transfer_dataset, sep=\"\\t\")"
   ],
   "metadata": {
    "collapsed": false,
    "ExecuteTime": {
     "end_time": "2024-01-04T16:13:27.182690Z",
     "start_time": "2024-01-04T16:13:27.172839Z"
    }
   },
   "id": "2f893d459eeca23b"
  },
  {
   "cell_type": "code",
   "execution_count": 10,
   "outputs": [
    {
     "name": "stdout",
     "output_type": "stream",
     "text": [
      "<class 'pandas.core.frame.DataFrame'>\n",
      "RangeIndex: 10000 entries, 0 to 9999\n",
      "Data columns (total 3 columns):\n",
      " #   Column       Non-Null Count  Dtype  \n",
      "---  ------       --------------  -----  \n",
      " 0   sequences    10000 non-null  object \n",
      " 1   labels       10000 non-null  int64  \n",
      " 2   predictions  10000 non-null  float64\n",
      "dtypes: float64(1), int64(1), object(1)\n",
      "memory usage: 234.5+ KB\n"
     ]
    }
   ],
   "source": [
    "transfer_df.info()"
   ],
   "metadata": {
    "collapsed": false,
    "ExecuteTime": {
     "end_time": "2024-01-04T16:15:19.103729Z",
     "start_time": "2024-01-04T16:15:19.093409Z"
    }
   },
   "id": "bba9a3a8bb598b8"
  },
  {
   "cell_type": "code",
   "execution_count": 5,
   "outputs": [
    {
     "data": {
      "text/plain": "                                           sequences  labels  predictions\n0                                 burritos are trash       0     0.509875\n1  <user> yeah man he even scare me and i is a ni...       1     0.284086\n2  rt <user> <user> <url> <emoji> we gave bitches...       1     0.409976\n3  <user> ah lil bit bitch <emoji> <emoji> <emoji...       1     0.000000\n4       <user> yeah some niggas are straight bitches       1     0.316041",
      "text/html": "<div>\n<style scoped>\n    .dataframe tbody tr th:only-of-type {\n        vertical-align: middle;\n    }\n\n    .dataframe tbody tr th {\n        vertical-align: top;\n    }\n\n    .dataframe thead th {\n        text-align: right;\n    }\n</style>\n<table border=\"1\" class=\"dataframe\">\n  <thead>\n    <tr style=\"text-align: right;\">\n      <th></th>\n      <th>sequences</th>\n      <th>labels</th>\n      <th>predictions</th>\n    </tr>\n  </thead>\n  <tbody>\n    <tr>\n      <th>0</th>\n      <td>burritos are trash</td>\n      <td>0</td>\n      <td>0.509875</td>\n    </tr>\n    <tr>\n      <th>1</th>\n      <td>&lt;user&gt; yeah man he even scare me and i is a ni...</td>\n      <td>1</td>\n      <td>0.284086</td>\n    </tr>\n    <tr>\n      <th>2</th>\n      <td>rt &lt;user&gt; &lt;user&gt; &lt;url&gt; &lt;emoji&gt; we gave bitches...</td>\n      <td>1</td>\n      <td>0.409976</td>\n    </tr>\n    <tr>\n      <th>3</th>\n      <td>&lt;user&gt; ah lil bit bitch &lt;emoji&gt; &lt;emoji&gt; &lt;emoji...</td>\n      <td>1</td>\n      <td>0.000000</td>\n    </tr>\n    <tr>\n      <th>4</th>\n      <td>&lt;user&gt; yeah some niggas are straight bitches</td>\n      <td>1</td>\n      <td>0.316041</td>\n    </tr>\n  </tbody>\n</table>\n</div>"
     },
     "execution_count": 5,
     "metadata": {},
     "output_type": "execute_result"
    }
   ],
   "source": [
    "transfer_df.head()"
   ],
   "metadata": {
    "collapsed": false,
    "ExecuteTime": {
     "end_time": "2024-01-04T16:13:27.533732Z",
     "start_time": "2024-01-04T16:13:27.529826Z"
    }
   },
   "id": "ba598cd5096e69bf"
  },
  {
   "cell_type": "code",
   "execution_count": 18,
   "outputs": [],
   "source": [
    "# group by sequence, compute mean and std of teacher predictions\n",
    "teacher_mean = transfer_df.groupby(\"sequences\")['predictions'].mean()\n",
    "teacher_std = transfer_df.groupby(\"sequences\")['predictions'].std()\n",
    "teacher_description = pd.concat([teacher_mean, teacher_std], axis=1)\n",
    "teacher_description.columns = [\"pred_mean\", \"pred_std_dev\"]"
   ],
   "metadata": {
    "collapsed": false,
    "ExecuteTime": {
     "end_time": "2024-01-04T16:18:02.999322Z",
     "start_time": "2024-01-04T16:18:02.988744Z"
    }
   },
   "id": "e6cbe32dc82b1215"
  },
  {
   "cell_type": "code",
   "execution_count": 19,
   "outputs": [
    {
     "data": {
      "text/plain": "                                                    pred_mean  pred_std_dev\nsequences                                                                  \n <emoji> rt <user> id rather be called nigger t...   0.530539      0.350839\n <emoji> rt <user> they recruited buku fags in ...   0.566472      0.279380\n <emoji> ugly bitches get no love                    0.430416      0.147259\n get some head off twitter now niggahs thats br...   0.322670      0.276886\n<hashtag> n p shy glizzy awwsome remix feat <nu...   0.441177      0.286804\n...                                                       ...           ...\nyellow jackets at gas station trash cans are th...   0.632294      0.301067\nyou got niggas and i got bitches partynextdoor ...   0.501746      0.348666\nyou just caught this bitch cheatin while you at...   0.335971      0.357032\nyou just worried bout the bitches i got one gir...   0.385202      0.288299\nyou know these hoes wishy washy                      0.537512      0.133555\n\n[200 rows x 2 columns]",
      "text/html": "<div>\n<style scoped>\n    .dataframe tbody tr th:only-of-type {\n        vertical-align: middle;\n    }\n\n    .dataframe tbody tr th {\n        vertical-align: top;\n    }\n\n    .dataframe thead th {\n        text-align: right;\n    }\n</style>\n<table border=\"1\" class=\"dataframe\">\n  <thead>\n    <tr style=\"text-align: right;\">\n      <th></th>\n      <th>pred_mean</th>\n      <th>pred_std_dev</th>\n    </tr>\n    <tr>\n      <th>sequences</th>\n      <th></th>\n      <th></th>\n    </tr>\n  </thead>\n  <tbody>\n    <tr>\n      <th>&lt;emoji&gt; rt &lt;user&gt; id rather be called nigger than a uncle tom or a mark</th>\n      <td>0.530539</td>\n      <td>0.350839</td>\n    </tr>\n    <tr>\n      <th>&lt;emoji&gt; rt &lt;user&gt; they recruited buku fags in here &lt;emoji&gt; a warehouse is no place for them &lt;emoji&gt;</th>\n      <td>0.566472</td>\n      <td>0.279380</td>\n    </tr>\n    <tr>\n      <th>&lt;emoji&gt; ugly bitches get no love</th>\n      <td>0.430416</td>\n      <td>0.147259</td>\n    </tr>\n    <tr>\n      <th>get some head off twitter now niggahs thats bracken ima baby momma killa yo bitch she can get it you &lt;url&gt;</th>\n      <td>0.322670</td>\n      <td>0.276886</td>\n    </tr>\n    <tr>\n      <th>&lt;hashtag&gt; n p shy glizzy awwsome remix feat &lt;number&gt; chainz aap rocky via &lt;user&gt; &lt;url&gt;</th>\n      <td>0.441177</td>\n      <td>0.286804</td>\n    </tr>\n    <tr>\n      <th>...</th>\n      <td>...</td>\n      <td>...</td>\n    </tr>\n    <tr>\n      <th>yellow jackets at gas station trash cans are the worst</th>\n      <td>0.632294</td>\n      <td>0.301067</td>\n    </tr>\n    <tr>\n      <th>you got niggas and i got bitches partynextdoor aint never lied</th>\n      <td>0.501746</td>\n      <td>0.348666</td>\n    </tr>\n    <tr>\n      <th>you just caught this bitch cheatin while you at work shes with some dude tryin to get off fuck slittin her throat cut this bitchs head off</th>\n      <td>0.335971</td>\n      <td>0.357032</td>\n    </tr>\n    <tr>\n      <th>you just worried bout the bitches i got one girl and she my girl no one else can hit it</th>\n      <td>0.385202</td>\n      <td>0.288299</td>\n    </tr>\n    <tr>\n      <th>you know these hoes wishy washy</th>\n      <td>0.537512</td>\n      <td>0.133555</td>\n    </tr>\n  </tbody>\n</table>\n<p>200 rows × 2 columns</p>\n</div>"
     },
     "execution_count": 19,
     "metadata": {},
     "output_type": "execute_result"
    }
   ],
   "source": [
    "teacher_description"
   ],
   "metadata": {
    "collapsed": false,
    "ExecuteTime": {
     "end_time": "2024-01-04T16:18:07.679345Z",
     "start_time": "2024-01-04T16:18:07.672254Z"
    }
   },
   "id": "1337d6e1d351e6bd"
  },
  {
   "cell_type": "code",
   "execution_count": 66,
   "outputs": [
    {
     "data": {
      "text/plain": "<Figure size 576x432 with 1 Axes>",
      "image/png": "[encoded data removed]"
     },
     "metadata": {},
     "output_type": "display_data"
    }
   ],
   "source": [
    "# pick random sequence, plot all raw predictions for this sequence\n",
    "import matplotlib.pyplot as plt\n",
    "import seaborn as sns\n",
    "import numpy as np\n",
    "\n",
    "random_sequence = np.random.choice(teacher_description.index)\n",
    "random_sequence_df = transfer_df[transfer_df[\"sequences\"] == random_sequence]\n",
    "\n",
    "random_seq_mean, random_seq_std_dev  = teacher_description.loc[random_sequence, :][\"pred_mean\"], teacher_description.loc[random_sequence][\"pred_std_dev\"]\n",
    "\n",
    "plt.figure(figsize=(8, 6))\n",
    "sns.histplot(random_sequence_df[\"predictions\"], bins=20)\n",
    "plt.axvline(random_seq_mean, color=\"red\", label=\"Mean\")\n",
    "plt.xlabel(\"Samples from teacher predictive distribution\")\n",
    "plt.legend();"
   ],
   "metadata": {
    "collapsed": false,
    "ExecuteTime": {
     "end_time": "2024-01-04T16:45:10.549794Z",
     "start_time": "2024-01-04T16:45:10.469257Z"
    }
   },
   "id": "1bb0a66e418456ca"
  },
  {
   "cell_type": "code",
   "execution_count": null,
   "outputs": [],
   "source": [],
   "metadata": {
    "collapsed": false
   },
   "id": "48a13b00ea6179aa"
  }
 ],
 "metadata": {
  "kernelspec": {
   "display_name": "Python 3",
   "language": "python",
   "name": "python3"
  },
  "language_info": {
   "codemirror_mode": {
    "name": "ipython",
    "version": 2
   },
   "file_extension": ".py",
   "mimetype": "text/x-python",
   "name": "python",
   "nbconvert_exporter": "python",
   "pygments_lexer": "ipython2",
   "version": "2.7.6"
  }
 },
 "nbformat": 4,
 "nbformat_minor": 5
}

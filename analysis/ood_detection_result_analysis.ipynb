{
 "cells": [
  {
   "cell_type": "code",
   "execution_count": 144,
   "id": "initial_id",
   "metadata": {
    "collapsed": true,
    "ExecuteTime": {
     "end_time": "2024-03-18T08:54:39.092578Z",
     "start_time": "2024-03-18T08:54:39.069262Z"
    }
   },
   "outputs": [],
   "source": [
    "import json\n",
    "import os\n",
    "\n",
    "import matplotlib.pyplot as plt\n",
    "import numpy as np\n",
    "import seaborn as sns"
   ]
  },
  {
   "cell_type": "code",
   "execution_count": 265,
   "outputs": [],
   "source": [
    "SAVE_PLOTS = False\n",
    "\n",
    "save_path = 'plots/out_of_distribution_detection'\n",
    "\n",
    "SMALL_SIZE = 14\n",
    "MEDIUM_SIZE = 14\n",
    "BIGGER_SIZE = 16\n",
    "\n",
    "plt.rc('font', size=SMALL_SIZE)          # controls default text sizes\n",
    "plt.rc('axes', titlesize=SMALL_SIZE)     # fontsize of the axes title\n",
    "plt.rc('axes', labelsize=MEDIUM_SIZE)    # fontsize of the x and y labels\n",
    "plt.rc('xtick', labelsize=SMALL_SIZE)    # fontsize of the tick labels\n",
    "plt.rc('ytick', labelsize=SMALL_SIZE)    # fontsize of the tick labels\n",
    "plt.rc('legend', fontsize=SMALL_SIZE)    # legend fontsize\n",
    "plt.rc('figure', titlesize=BIGGER_SIZE)  # fontsize of the figure title\n",
    "\n",
    "plt.rcParams[\"font.family\"] = \"serif\""
   ],
   "metadata": {
    "collapsed": false,
    "ExecuteTime": {
     "end_time": "2024-03-18T14:17:15.661411Z",
     "start_time": "2024-03-18T14:17:15.653226Z"
    }
   },
   "id": "7340410761e4cf97"
  },
  {
   "cell_type": "code",
   "execution_count": 238,
   "outputs": [],
   "source": [
    "# load data\n",
    "\n",
    "# in-distribution data\n",
    "with open(f'../out/bert_teacher/final_e3_lr2_hd020_ad020_cd030/results/results.json', 'r') as f:\n",
    "    results_teacher = json.load(f)\n",
    "    \n",
    "with open('../out/bert_student/m5_k10/shen_2_lr0.0002_e4/results/results.json', 'r') as f:\n",
    "    results_student = json.load(f)\n",
    "    \n",
    "with open('../out/bert_student_augmented/m5_k10/shen_2_lr0.0002_e2_augmented/results/results.json', 'r') as f:\n",
    "    results_augmented_student = json.load(f)\n",
    "\n",
    "# out-of-distribution data - hate speech\n",
    "with open('../out/out_of_distribution_detection/hate/results_bert_teacher.json') as f:\n",
    "    results_teacher_hs = json.load(f)\n",
    "    \n",
    "with open('../out/out_of_distribution_detection/hate/results_bert_student.json') as f:\n",
    "    results_student_hs = json.load(f)\n",
    "    \n",
    "with open('../out/out_of_distribution_detection/hate/results_bert_augmented_student.json') as f:\n",
    "    results_augmented_student_hs = json.load(f)\n",
    "    \n",
    "# out-of-distribution data - offensive language\n",
    "with open('../out/out_of_distribution_detection/offensive/results_bert_teacher.json') as f:\n",
    "    results_teacher_ol = json.load(f)\n",
    "    \n",
    "with open('../out/out_of_distribution_detection/offensive/results_bert_student.json') as f:\n",
    "    results_student_ol = json.load(f)\n",
    "    \n",
    "with open('../out/out_of_distribution_detection/offensive/results_bert_augmented_student.json') as f:\n",
    "    results_augmented_student_ol = json.load(f)"
   ],
   "metadata": {
    "collapsed": false,
    "ExecuteTime": {
     "end_time": "2024-03-18T10:25:10.375425Z",
     "start_time": "2024-03-18T10:25:10.303444Z"
    }
   },
   "id": "5240a845ddfd1d7a"
  },
  {
   "cell_type": "code",
   "execution_count": 239,
   "outputs": [
    {
     "data": {
      "text/plain": "(0.5438030721274805, 0.5339009934067779, 0.531064784639124)"
     },
     "execution_count": 239,
     "metadata": {},
     "output_type": "execute_result"
    }
   ],
   "source": [
    "results_teacher_hs['f1'], results_student_hs['f1'], results_augmented_student_hs['f1']"
   ],
   "metadata": {
    "collapsed": false,
    "ExecuteTime": {
     "end_time": "2024-03-18T10:25:10.465829Z",
     "start_time": "2024-03-18T10:25:10.463246Z"
    }
   },
   "id": "aa2fc3adc31b1f72"
  },
  {
   "cell_type": "code",
   "execution_count": 240,
   "outputs": [
    {
     "data": {
      "text/plain": "(0.5317115555395825, 0.4927006432221271, 0.4813910947572165)"
     },
     "execution_count": 240,
     "metadata": {},
     "output_type": "execute_result"
    }
   ],
   "source": [
    "results_teacher_ol['f1'], results_student_ol['f1'], results_augmented_student_ol['f1']"
   ],
   "metadata": {
    "collapsed": false,
    "ExecuteTime": {
     "end_time": "2024-03-18T10:25:10.617785Z",
     "start_time": "2024-03-18T10:25:10.615861Z"
    }
   },
   "id": "fb19e4cb08564e6b"
  },
  {
   "cell_type": "code",
   "execution_count": 241,
   "outputs": [
    {
     "name": "stdout",
     "output_type": "stream",
     "text": [
      "Brier score\n",
      "                    Training Data       Hate Speech         Offensive Language  \n",
      "Teacher             0.024               0.299               0.191               \n",
      "Student             0.025               0.302               0.200               \n",
      "Augmented Student   0.024               0.292               0.199               \n",
      "\n",
      "ECE\n",
      "                    Training Data       Hate Speech         Offensive Language  \n",
      "Teacher             0.346               0.494               0.585               \n",
      "Student             0.344               0.490               0.581               \n",
      "Augmented Student   0.345               0.483               0.569               \n",
      "\n",
      "NLL\n",
      "                    Training Data       Hate Speech         Offensive Language  \n",
      "Teacher             0.087               1.221               0.630               \n",
      "Student             0.090               1.226               0.649               \n",
      "Augmented Student   0.088               1.184               0.658               \n"
     ]
    }
   ],
   "source": [
    "# compare brier score, ece, nll \n",
    "\n",
    "# brier score\n",
    "brier_teacher, brier_student, brier_augmented_student = results_teacher['brier_score'], results_student['brier_score'], results_augmented_student['brier_score']\n",
    "\n",
    "brier_teacher_hs, brier_student_hs, brier_augmented_student_hs = results_teacher_hs['bs'], results_student_hs['bs'], results_augmented_student_hs['bs']\n",
    "\n",
    "brier_teacher_ol, brier_student_ol, brier_augmented_student_ol  = results_teacher_ol['bs'], results_student_ol['bs'], results_augmented_student_ol['bs']\n",
    "\n",
    "print('Brier score')\n",
    "print(f'{\"\":<20}{\"Training Data\":<20}{\"Hate Speech\":<20}{\"Offensive Language\":<20}')\n",
    "print(f'{\"Teacher\":<20}{brier_teacher:<20.3f}{brier_teacher_hs:<20.3f}{brier_teacher_ol:<20.3f}')\n",
    "print(f'{\"Student\":<20}{brier_student:<20.3f}{brier_student_hs:<20.3f}{brier_student_ol:<20.3f}')\n",
    "print(f'{\"Augmented Student\":<20}{brier_augmented_student:<20.3f}{brier_augmented_student_hs:<20.3f}{brier_augmented_student_ol:<20.3f}')\n",
    "\n",
    "# ece\n",
    "ece_teacher, ece_student, ece_augmented_student = results_teacher['ece_score'], results_student['ece_score'], results_augmented_student['ece_score']\n",
    "\n",
    "ece_teacher_hs, ece_student_hs, ece_augmented_student_hs = results_teacher_hs['ece'], results_student_hs['ece'], results_augmented_student_hs['ece']\n",
    "\n",
    "ece_teacher_ol, ece_student_ol, ece_augmented_student_ol = results_teacher_ol['ece'], results_student_ol['ece'], results_augmented_student_ol['ece']\n",
    "\n",
    "print('\\nECE')\n",
    "print(f'{\"\":<20}{\"Training Data\":<20}{\"Hate Speech\":<20}{\"Offensive Language\":<20}')\n",
    "print(f'{\"Teacher\":<20}{ece_teacher:<20.3f}{ece_teacher_hs:<20.3f}{ece_teacher_ol:<20.3f}')\n",
    "print(f'{\"Student\":<20}{ece_student:<20.3f}{ece_student_hs:<20.3f}{ece_student_ol:<20.3f}')\n",
    "print(f'{\"Augmented Student\":<20}{ece_augmented_student:<20.3f}{ece_augmented_student_hs:<20.3f}{ece_augmented_student_ol:<20.3f}')\n",
    "\n",
    "# nll\n",
    "nll_teacher, nll_student, nll_augmented_student = results_teacher['nll_score'], results_student['nll_score'], results_augmented_student['nll_score']\n",
    "\n",
    "nll_teacher_hs, nll_student_hs, nll_augmented_student_hs = results_teacher_hs['nll'], results_student_hs['nll'], results_augmented_student_hs['nll']\n",
    "\n",
    "nll_teacher_ol, nll_student_ol, nll_augmented_student_ol = results_teacher_ol['nll'], results_student_ol['nll'], results_augmented_student_ol['nll']\n",
    "\n",
    "print('\\nNLL')\n",
    "print(f'{\"\":<20}{\"Training Data\":<20}{\"Hate Speech\":<20}{\"Offensive Language\":<20}')\n",
    "print(f'{\"Teacher\":<20}{nll_teacher:<20.3f}{nll_teacher_hs:<20.3f}{nll_teacher_ol:<20.3f}')\n",
    "print(f'{\"Student\":<20}{nll_student:<20.3f}{nll_student_hs:<20.3f}{nll_student_ol:<20.3f}')\n",
    "print(f'{\"Augmented Student\":<20}{nll_augmented_student:<20.3f}{nll_augmented_student_hs:<20.3f}{nll_augmented_student_ol:<20.3f}')\n"
   ],
   "metadata": {
    "collapsed": false,
    "ExecuteTime": {
     "end_time": "2024-03-18T10:25:10.768167Z",
     "start_time": "2024-03-18T10:25:10.763082Z"
    }
   },
   "id": "7c8efacde7d6b361"
  },
  {
   "cell_type": "code",
   "execution_count": 242,
   "outputs": [],
   "source": [
    "bald_teacher = np.array(results_teacher['bald_score'])\n",
    "bald_student = np.array(results_student['bald_score'])\n",
    "bald_augmented_student = np.array(results_augmented_student['bald_score'])\n",
    "\n",
    "bald_teacher_hs = np.array(results_teacher_hs['bald'])\n",
    "bald_student_hs = np.array(results_student_hs['bald'])\n",
    "bald_augmented_student_hs = np.array(results_augmented_student_hs['bald'])\n",
    "\n",
    "bald_teacher_ol = np.array(results_teacher_ol['bald'])\n",
    "bald_student_ol = np.array(results_student_ol['bald'])\n",
    "bald_augmented_student_ol = np.array(results_augmented_student_ol['bald'])"
   ],
   "metadata": {
    "collapsed": false,
    "ExecuteTime": {
     "end_time": "2024-03-18T10:25:10.887768Z",
     "start_time": "2024-03-18T10:25:10.882615Z"
    }
   },
   "id": "14f31e2bddc48cb6"
  },
  {
   "cell_type": "code",
   "execution_count": 243,
   "outputs": [],
   "source": [
    "# plot distribution of bald scores\n",
    "def plot_bald_distribution(bald, bald_hs, bald_ol):\n",
    "    fig = plt.figure(figsize=(6,5))\n",
    "    sns.kdeplot(bald, label='ID Data', shade=True, color=sns.color_palette()[3], alpha=0.4)\n",
    "    sns.kdeplot(bald_hs, label='OOD Data (HS)', shade=True, color=sns.color_palette()[4], alpha=0.6)\n",
    "    sns.kdeplot(bald_ol, label='OOD Data (OL)', shade=True, color=sns.color_palette()[6], alpha=0.2)\n",
    "    plt.xlabel('BALD Score')\n",
    "    plt.ylabel('Density')\n",
    "    plt.legend(loc='upper right')"
   ],
   "metadata": {
    "collapsed": false,
    "ExecuteTime": {
     "end_time": "2024-03-18T10:25:11.053768Z",
     "start_time": "2024-03-18T10:25:11.048036Z"
    }
   },
   "id": "3f3425f5b03002e7"
  },
  {
   "cell_type": "code",
   "execution_count": 244,
   "outputs": [],
   "source": [
    "for bald, bald_hs, bald_ol, model in zip([bald_teacher, bald_student, bald_augmented_student], [bald_teacher_hs, bald_student_hs, bald_augmented_student_hs], [bald_teacher_ol, bald_student_ol, bald_augmented_student_ol], ['teacher', 'student', 'augmented_student']):\n",
    "    plot_bald_distribution(bald, bald_hs, bald_ol)\n",
    "    if SAVE_PLOTS:\n",
    "        plt.tight_layout()\n",
    "        plt.savefig(os.path.join(save_path, f'plot_bald_distribution_{model}.pdf'))\n",
    "        plt.close()"
   ],
   "metadata": {
    "collapsed": false,
    "ExecuteTime": {
     "end_time": "2024-03-18T10:25:11.682656Z",
     "start_time": "2024-03-18T10:25:11.228436Z"
    }
   },
   "id": "586495546b5bdf5a"
  },
  {
   "cell_type": "code",
   "execution_count": 245,
   "outputs": [],
   "source": [
    "colors = [sns.color_palette()[7], sns.color_palette()[0], sns.color_palette()[1], sns.color_palette()[2]]\n",
    "\n",
    "# compute relative mean bald\n",
    "relative_mean_bald_teacher_reference = 1.0\n",
    "relative_mean_bald_student_reference = 1.0\n",
    "relative_mean_bald_augmented_student_reference = 1.0\n",
    "\n",
    "relative_mean_bald_teacher_hs = np.mean(bald_teacher_hs) / np.mean(bald_teacher)\n",
    "relative_mean_bald_student_hs = np.mean(bald_student_hs) / np.mean(bald_student)\n",
    "relative_mean_bald_augmented_student_hs = np.mean(bald_augmented_student_hs) / np.mean(bald_augmented_student)\n",
    "\n",
    "relative_mean_bald_teacher_ol = np.mean(bald_teacher_ol) / np.mean(bald_teacher)\n",
    "relative_mean_bald_student_ol = np.mean(bald_student_ol) / np.mean(bald_student)\n",
    "relative_mean_bald_augmented_student_ol = np.mean(bald_augmented_student_ol) / np.mean(bald_augmented_student)"
   ],
   "metadata": {
    "collapsed": false,
    "ExecuteTime": {
     "end_time": "2024-03-18T10:25:11.723802Z",
     "start_time": "2024-03-18T10:25:11.692453Z"
    }
   },
   "id": "bf4a0dda90270509"
  },
  {
   "cell_type": "code",
   "execution_count": 246,
   "outputs": [],
   "source": [
    "import pandas as pd\n",
    "\n",
    "plt.figure(figsize=(12, 6))\n",
    "\n",
    "models = ['Teacher', 'Student', 'Augmented Student']\n",
    "conditions = ['Reference', 'HS', 'OL']\n",
    "data = {\n",
    "    'Model': [],\n",
    "    'Condition': [],\n",
    "    'Relative Mean BALD': []\n",
    "}\n",
    "\n",
    "for model in models:\n",
    "    for condition in conditions:\n",
    "        value_name = f'relative_mean_bald_{model.lower().replace(\" \", \"_\")}_{condition.lower()}'\n",
    "        value = locals()[value_name]\n",
    "        data['Model'].append(model)\n",
    "        data['Condition'].append(condition)\n",
    "        data['Relative Mean BALD'].append(value)\n",
    "\n",
    "df = pd.DataFrame(data)\n",
    "\n",
    "bp = sns.barplot(data=df, x='Model', y='Relative Mean BALD', hue='Condition',\n",
    "            palette=[sns.color_palette()[3], sns.color_palette()[4], sns.color_palette()[6]])\n",
    "\n",
    "handles, _ = bp.get_legend_handles_labels()\n",
    "bp.legend(handles=handles, labels=['ID Data', 'OOD Data (HS)', 'OOD Data (OL)'])\n",
    "\n",
    "plt.xlabel('')\n",
    "plt.ylabel('Relative Mean BALD')\n",
    "plt.tight_layout()\n",
    "\n",
    "if SAVE_PLOTS:\n",
    "    plt.tight_layout()\n",
    "    plt.savefig(os.path.join(save_path, 'barplot_relative_mean_bald.pdf'))\n",
    "    plt.close()"
   ],
   "metadata": {
    "collapsed": false,
    "ExecuteTime": {
     "end_time": "2024-03-18T10:25:11.812379Z",
     "start_time": "2024-03-18T10:25:11.739225Z"
    }
   },
   "id": "b08b645f55587ad5"
  },
  {
   "cell_type": "markdown",
   "source": [
    "#### Predictive Entropy\n",
    "\n",
    "predictive entropy histogram on known and OOD inputs "
   ],
   "metadata": {
    "collapsed": false
   },
   "id": "9f4a3bd5d58a0cd3"
  },
  {
   "cell_type": "code",
   "execution_count": 262,
   "outputs": [],
   "source": [
    "from scipy.stats import entropy\n",
    "\n",
    "teacher_entropy = [entropy([p, 1-p])  for p in results_teacher['y_prob']]\n",
    "student_entropy = [entropy([p, 1-p])  for p in results_student['y_prob']]\n",
    "augmented_student_entropy = [entropy([p, 1-p])  for p in results_augmented_student['y_prob']]\n",
    "\n",
    "# hs\n",
    "teacher_entropy_hs = [entropy([p, 1-p])  for p in results_teacher_hs['y_prob_mcd']]\n",
    "student_entropy_hs = [entropy([p, 1-p])  for p in results_student_hs['y_prob_mcd']]\n",
    "augmented_student_entropy_hs = [entropy([p, 1-p])  for p in results_augmented_student_hs['y_prob_mcd']]\n",
    "\n",
    "# ol\n",
    "teacher_entropy_ol = [entropy([p, 1-p])  for p in results_teacher_ol['y_prob_mcd']]\n",
    "student_entropy_ol = [entropy([p, 1-p])  for p in results_student_ol['y_prob_mcd']]\n",
    "augmented_student_entropy_ol = [entropy([p, 1-p])  for p in results_augmented_student_ol['y_prob_mcd']]"
   ],
   "metadata": {
    "collapsed": false,
    "ExecuteTime": {
     "end_time": "2024-03-18T14:16:54.933146Z",
     "start_time": "2024-03-18T14:16:54.541708Z"
    }
   },
   "id": "17c287f417844121"
  },
  {
   "cell_type": "code",
   "execution_count": 277,
   "outputs": [],
   "source": [
    "# plot distribution of predictive entropy per dataset across models\n",
    "# for a dataset, plot the predictive entropy of the models\n",
    "def plot_predictive_entropy(teacher_entropy, student_entropy, augmented_student_entropy):\n",
    "    fig = plt.figure(figsize=(6,5))\n",
    "    sns.kdeplot(teacher_entropy, label='Teacher', shade=False, color=sns.color_palette()[3], alpha=1)\n",
    "    sns.kdeplot(student_entropy, label='Student', shade=False, color=sns.color_palette()[4], alpha=1)\n",
    "    sns.kdeplot(augmented_student_entropy, label='Augmented Student', shade=False, color=sns.color_palette()[6], alpha=1)\n",
    "    plt.xlabel('Predictive Entropy')\n",
    "    plt.ylabel('Density')\n",
    "    plt.ylim(0,3)\n",
    "    plt.legend()\n",
    "    # TODO: add mean entropy to legend?"
   ],
   "metadata": {
    "collapsed": false,
    "ExecuteTime": {
     "end_time": "2024-03-18T14:21:30.092118Z",
     "start_time": "2024-03-18T14:21:30.080087Z"
    }
   },
   "id": "370f197da08ee626"
  },
  {
   "cell_type": "code",
   "execution_count": 278,
   "outputs": [
    {
     "data": {
      "text/plain": "<Figure size 432x360 with 1 Axes>",
      "image/png": "[encoded data removed]"
     },
     "metadata": {},
     "output_type": "display_data"
    }
   ],
   "source": [
    "# for hs\n",
    "plot_predictive_entropy(teacher_entropy_hs, student_entropy_hs, augmented_student_entropy_hs)"
   ],
   "metadata": {
    "collapsed": false,
    "ExecuteTime": {
     "end_time": "2024-03-18T14:21:30.735553Z",
     "start_time": "2024-03-18T14:21:30.566462Z"
    }
   },
   "id": "f691b3392ea50b12"
  },
  {
   "cell_type": "code",
   "execution_count": 279,
   "outputs": [
    {
     "data": {
      "text/plain": "<Figure size 432x360 with 1 Axes>",
      "image/png": "[encoded data removed]"
     },
     "metadata": {},
     "output_type": "display_data"
    }
   ],
   "source": [
    "# for ol\n",
    "plot_predictive_entropy(teacher_entropy_ol, student_entropy_ol, augmented_student_entropy_ol)"
   ],
   "metadata": {
    "collapsed": false,
    "ExecuteTime": {
     "end_time": "2024-03-18T14:21:31.942752Z",
     "start_time": "2024-03-18T14:21:31.682406Z"
    }
   },
   "id": "feb1b6333995407f"
  },
  {
   "cell_type": "code",
   "execution_count": null,
   "outputs": [],
   "source": [
    "# note: histograms are a bit pointless here, tried it and it didn't look great"
   ],
   "metadata": {
    "collapsed": false
   },
   "id": "6645395d12901e36"
  }
 ],
 "metadata": {
  "kernelspec": {
   "display_name": "Python 3",
   "language": "python",
   "name": "python3"
  },
  "language_info": {
   "codemirror_mode": {
    "name": "ipython",
    "version": 2
   },
   "file_extension": ".py",
   "mimetype": "text/x-python",
   "name": "python",
   "nbconvert_exporter": "python",
   "pygments_lexer": "ipython2",
   "version": "2.7.6"
  }
 },
 "nbformat": 4,
 "nbformat_minor": 5
}

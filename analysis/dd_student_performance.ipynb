{
 "cells": [
  {
   "cell_type": "markdown",
   "source": [
    "After having obtained a fine-tuned student model, we now want to evaluate its performance on the non-augmented test set and compare it to the teacher model's performance.\n",
    "\n",
    "For this purpose, we would like to compare the predictive distribution for input samples (preferably from the test set) of the teacher and student model. We can then compare the two distributions visually and quantitatively using the Kullback-Leibler divergence."
   ],
   "metadata": {
    "collapsed": false
   },
   "id": "1f7972f08344d688"
  },
  {
   "cell_type": "code",
   "execution_count": 26,
   "outputs": [],
   "source": [
    "import os\n",
    "import json\n",
    "\n",
    "import pandas as pd\n",
    "import numpy as np\n",
    "import matplotlib.pyplot as plt\n",
    "\n",
    "import tensorflow as tf\n",
    "\n",
    "from src.utils.data import Dataset\n",
    "from src.data.robustness_study.bert_data_preprocessing import bert_preprocess, get_tf_dataset\n",
    "from src.models.bert_model import AleatoricMCDropoutBERT, create_bert_config\n",
    "from src.utils.loss_functions import aleatoric_loss, null_loss"
   ],
   "metadata": {
    "collapsed": false,
    "ExecuteTime": {
     "end_time": "2024-01-13T14:27:17.718022Z",
     "start_time": "2024-01-13T14:27:17.702089Z"
    }
   },
   "id": "e8d6c830e8f82826"
  },
  {
   "cell_type": "code",
   "execution_count": 27,
   "outputs": [
    {
     "data": {
      "text/plain": "                                                text  target\n0  in class still drunk from last night and this ...       1\n1  sighs of relief from beijing guoan fans <hasht...       0\n2  <user> <user> <user> they do why else do teach...       1\n3  preparing to be called a nigger all night i me...       1\n4           rt <user> we dont love these hoes <url>        1",
      "text/html": "<div>\n<style scoped>\n    .dataframe tbody tr th:only-of-type {\n        vertical-align: middle;\n    }\n\n    .dataframe tbody tr th {\n        vertical-align: top;\n    }\n\n    .dataframe thead th {\n        text-align: right;\n    }\n</style>\n<table border=\"1\" class=\"dataframe\">\n  <thead>\n    <tr style=\"text-align: right;\">\n      <th></th>\n      <th>text</th>\n      <th>target</th>\n    </tr>\n  </thead>\n  <tbody>\n    <tr>\n      <th>0</th>\n      <td>in class still drunk from last night and this ...</td>\n      <td>1</td>\n    </tr>\n    <tr>\n      <th>1</th>\n      <td>sighs of relief from beijing guoan fans &lt;hasht...</td>\n      <td>0</td>\n    </tr>\n    <tr>\n      <th>2</th>\n      <td>&lt;user&gt; &lt;user&gt; &lt;user&gt; they do why else do teach...</td>\n      <td>1</td>\n    </tr>\n    <tr>\n      <th>3</th>\n      <td>preparing to be called a nigger all night i me...</td>\n      <td>1</td>\n    </tr>\n    <tr>\n      <th>4</th>\n      <td>rt &lt;user&gt; we dont love these hoes &lt;url&gt;</td>\n      <td>1</td>\n    </tr>\n  </tbody>\n</table>\n</div>"
     },
     "execution_count": 27,
     "metadata": {},
     "output_type": "execute_result"
    }
   ],
   "source": [
    "# load and preprocess test data\n",
    "df_test = pd.read_csv('../data/robustness_study/preprocessed/test.csv', sep='\\t', index_col=0)\n",
    "df_test.head()"
   ],
   "metadata": {
    "collapsed": false,
    "ExecuteTime": {
     "end_time": "2024-01-13T14:27:18.346642Z",
     "start_time": "2024-01-13T14:27:18.338988Z"
    }
   },
   "id": "6f4cf0a9bedb5d1c"
  },
  {
   "cell_type": "code",
   "execution_count": 57,
   "outputs": [],
   "source": [
    "MAX_LENGTH = 48\n",
    "BATCH_SIZE = 16\n",
    "\n",
    "dataset = Dataset()\n",
    "dataset.test = df_test\n",
    "\n",
    "subset_size = 25\n",
    "dataset.test = dataset.test.sample(n=min(subset_size, len(dataset.test)), random_state=42)\n",
    "\n",
    "tokenized_dataset = {\n",
    "    'test': bert_preprocess(dataset.test, max_length=MAX_LENGTH)\n",
    "}\n",
    "test_data = get_tf_dataset(tokenized_dataset, 'test')\n",
    "test_data = test_data.batch(BATCH_SIZE).cache().prefetch(tf.data.AUTOTUNE)"
   ],
   "metadata": {
    "collapsed": false,
    "ExecuteTime": {
     "end_time": "2024-01-13T14:45:27.875357Z",
     "start_time": "2024-01-13T14:45:27.869507Z"
    }
   },
   "id": "b6f08cd4a7de3770"
  },
  {
   "cell_type": "code",
   "execution_count": 52,
   "outputs": [
    {
     "name": "stderr",
     "output_type": "stream",
     "text": [
      "Some weights of the PyTorch model were not used when initializing the TF 2.0 model TFBertModel: ['cls.predictions.transform.LayerNorm.weight', 'cls.seq_relationship.weight', 'cls.predictions.transform.dense.weight', 'cls.seq_relationship.bias', 'cls.predictions.transform.LayerNorm.bias', 'cls.predictions.bias', 'cls.predictions.transform.dense.bias']\n",
      "- This IS expected if you are initializing TFBertModel from a PyTorch model trained on another task or with another architecture (e.g. initializing a TFBertForSequenceClassification model from a BertForPreTraining model).\n",
      "- This IS NOT expected if you are initializing TFBertModel from a PyTorch model that you expect to be exactly identical (e.g. initializing a TFBertForSequenceClassification model from a BertForSequenceClassification model).\n",
      "All the weights of TFBertModel were initialized from the PyTorch model.\n",
      "If your task is similar to the task the model of the checkpoint was trained on, you can already use TFBertModel for predictions without further training.\n"
     ]
    },
    {
     "name": "stdout",
     "output_type": "stream",
     "text": [
      "Loading weights from ../out/bert_teacher/final_hd030_ad020_cd035/model\n"
     ]
    },
    {
     "name": "stderr",
     "output_type": "stream",
     "text": [
      "WARNING:absl:At this time, the v2.11+ optimizer `tf.keras.optimizers.Adam` runs slowly on M1/M2 Macs, please use the legacy Keras optimizer instead, located at `tf.keras.optimizers.legacy.Adam`.\n",
      "WARNING:absl:There is a known slowdown when using v2.11+ Keras optimizers on M1/M2 Macs. Falling back to the legacy Keras optimizer, i.e., `tf.keras.optimizers.legacy.Adam`.\n"
     ]
    }
   ],
   "source": [
    "# load and initialize teacher model\n",
    "TEACHER_PATH = '../out/bert_teacher/final_hd030_ad020_cd035/model'\n",
    "\n",
    "with open(os.path.join(TEACHER_PATH, 'config.json'), 'r') as f:\n",
    "    teacher_config = json.load(f)\n",
    "    \n",
    "config = create_bert_config(teacher_config['hidden_dropout_prob'],\n",
    "                            teacher_config['attention_probs_dropout_prob'],\n",
    "                            teacher_config['classifier_dropout'])\n",
    "\n",
    "teacher = AleatoricMCDropoutBERT(config=config, custom_loss_fn=aleatoric_loss)\n",
    "checkpoint_path = os.path.join(TEACHER_PATH, 'cp-{epoch:02d}.ckpt')\n",
    "checkpoint_dir = os.path.dirname(checkpoint_path)\n",
    "\n",
    "latest_checkpoint = tf.train.latest_checkpoint(checkpoint_dir)\n",
    "if latest_checkpoint:\n",
    "    print(\"Loading weights from\", checkpoint_dir)\n",
    "    teacher.load_weights(latest_checkpoint)\n",
    "\n",
    "teacher.compile(\n",
    "        optimizer=tf.keras.optimizers.Adam(learning_rate=2e-5),\n",
    "        loss={'classifier': aleatoric_loss, 'log_variance': null_loss},\n",
    "        metrics=[tf.keras.metrics.BinaryAccuracy(), tf.keras.metrics.Precision(), tf.keras.metrics.Recall()],\n",
    "        run_eagerly=True\n",
    "    )"
   ],
   "metadata": {
    "collapsed": false,
    "ExecuteTime": {
     "end_time": "2024-01-13T14:43:32.263583Z",
     "start_time": "2024-01-13T14:43:25.506687Z"
    }
   },
   "id": "c6479c89e660aef6"
  },
  {
   "cell_type": "code",
   "execution_count": null,
   "outputs": [],
   "source": [
    "# load and initialize student model\n",
    "STUDENT_PATH = '../out/bert_student/aleatoric_and_epistemic/m5_k5/2epochs/model'\n",
    "\n",
    "with open(os.path.join(STUDENT_PATH, 'config.json'), 'r') as f:\n",
    "    student_config = json.load(f)\n",
    "    \n",
    "config = create_bert_config(teacher_config['hidden_dropout_prob'],\n",
    "                            teacher_config['attention_probs_dropout_prob'],\n",
    "                            teacher_config['classifier_dropout'])\n",
    "\n",
    "student = AleatoricMCDropoutBERT(config=config, custom_loss_fn=aleatoric_loss)\n",
    "checkpoint_path = os.path.join(STUDENT_PATH, 'cp-{epoch:02d}.ckpt')\n",
    "checkpoint_dir = os.path.dirname(checkpoint_path)\n",
    "\n",
    "latest_checkpoint = tf.train.latest_checkpoint(checkpoint_dir)\n",
    "if latest_checkpoint:\n",
    "    print(\"Loading weights from\", checkpoint_dir)\n",
    "    student.load_weights(latest_checkpoint)\n",
    "    \n",
    "student.compile(\n",
    "        optimizer=tf.keras.optimizers.Adam(learning_rate=2e-5),\n",
    "        loss={'classifier': aleatoric_loss, 'log_variance': null_loss},\n",
    "        metrics=[tf.keras.metrics.BinaryAccuracy(), tf.keras.metrics.Precision(), tf.keras.metrics.Recall()],\n",
    "        run_eagerly=True\n",
    "    )"
   ],
   "metadata": {
    "collapsed": false
   },
   "id": "9a6238d1c6b98f72"
  },
  {
   "cell_type": "markdown",
   "source": [
    "##### Test set evaluation: WA and MCD"
   ],
   "metadata": {
    "collapsed": false
   },
   "id": "f3888030aa7ac13b"
  },
  {
   "cell_type": "code",
   "execution_count": 80,
   "outputs": [],
   "source": [
    "from src.training.train_bert_teacher import compute_metrics, compute_mc_dropout_metrics\n",
    "from src.distribution_distillation.uncertainty_distillation import compute_student_metrics, compute_student_mc_dropout_metrics"
   ],
   "metadata": {
    "collapsed": false,
    "ExecuteTime": {
     "end_time": "2024-01-13T14:51:03.456985Z",
     "start_time": "2024-01-13T14:51:03.447212Z"
    }
   },
   "id": "2a79107d0e93af94"
  },
  {
   "cell_type": "code",
   "execution_count": 55,
   "outputs": [],
   "source": [
    "### weight averaging"
   ],
   "metadata": {
    "collapsed": false,
    "ExecuteTime": {
     "end_time": "2024-01-13T14:43:37.784786Z",
     "start_time": "2024-01-13T14:43:34.557730Z"
    }
   },
   "id": "fc709915987b8261"
  },
  {
   "cell_type": "code",
   "execution_count": 60,
   "outputs": [],
   "source": [
    "# evaluate teacher model on test set\n",
    "teacher_metrics_wa = compute_metrics(teacher, test_data)"
   ],
   "metadata": {
    "collapsed": false,
    "ExecuteTime": {
     "end_time": "2024-01-13T14:45:44.365975Z",
     "start_time": "2024-01-13T14:45:44.139423Z"
    }
   },
   "id": "26eec50a31abdb8a"
  },
  {
   "cell_type": "code",
   "execution_count": 61,
   "outputs": [
    {
     "data": {
      "text/plain": "dict_keys(['y_true', 'y_pred', 'y_prob', 'variance', 'average_inference_time', 'accuracy_score', 'precision_score', 'recall_score', 'f1_score', 'nll_score', 'brier_score', 'ece_score'])"
     },
     "execution_count": 61,
     "metadata": {},
     "output_type": "execute_result"
    }
   ],
   "source": [
    "teacher_metrics_wa.keys()"
   ],
   "metadata": {
    "collapsed": false,
    "ExecuteTime": {
     "end_time": "2024-01-13T14:45:45.715620Z",
     "start_time": "2024-01-13T14:45:45.711232Z"
    }
   },
   "id": "b9a6c60773544a06"
  },
  {
   "cell_type": "code",
   "execution_count": 62,
   "outputs": [
    {
     "data": {
      "text/plain": "0.9787234042553191"
     },
     "execution_count": 62,
     "metadata": {},
     "output_type": "execute_result"
    }
   ],
   "source": [
    "teacher_metrics_wa['f1_score']"
   ],
   "metadata": {
    "collapsed": false,
    "ExecuteTime": {
     "end_time": "2024-01-13T14:45:46.269666Z",
     "start_time": "2024-01-13T14:45:46.267570Z"
    }
   },
   "id": "536b069ac9dfa9b7"
  },
  {
   "cell_type": "code",
   "execution_count": 63,
   "outputs": [],
   "source": [
    "# evaluate student model on test set\n",
    "student_metrics_wa = compute_metrics(student, test_data)"
   ],
   "metadata": {
    "collapsed": false,
    "ExecuteTime": {
     "end_time": "2024-01-13T14:45:47.388279Z",
     "start_time": "2024-01-13T14:45:47.018619Z"
    }
   },
   "id": "d8f6212094afcb20"
  },
  {
   "cell_type": "code",
   "execution_count": 64,
   "outputs": [
    {
     "data": {
      "text/plain": "0.9787234042553191"
     },
     "execution_count": 64,
     "metadata": {},
     "output_type": "execute_result"
    }
   ],
   "source": [
    "student_metrics_wa['f1_score']"
   ],
   "metadata": {
    "collapsed": false,
    "ExecuteTime": {
     "end_time": "2024-01-13T14:45:55.723012Z",
     "start_time": "2024-01-13T14:45:55.712406Z"
    }
   },
   "id": "52f74814adeb7488"
  },
  {
   "cell_type": "code",
   "execution_count": 65,
   "outputs": [],
   "source": [
    "### mc dropout"
   ],
   "metadata": {
    "collapsed": false,
    "ExecuteTime": {
     "end_time": "2024-01-13T14:45:56.350006Z",
     "start_time": "2024-01-13T14:45:56.343602Z"
    }
   },
   "id": "42be65f3d2d272a9"
  },
  {
   "cell_type": "code",
   "execution_count": 66,
   "outputs": [],
   "source": [
    "teacher_metrics_mcd = compute_mc_dropout_metrics(teacher, test_data, n=5)"
   ],
   "metadata": {
    "collapsed": false,
    "ExecuteTime": {
     "end_time": "2024-01-13T14:46:44.305428Z",
     "start_time": "2024-01-13T14:45:56.681066Z"
    }
   },
   "id": "9fb2ff1bfa7a3f45"
  },
  {
   "cell_type": "code",
   "execution_count": 67,
   "outputs": [
    {
     "data": {
      "text/plain": "dict_keys(['y_true', 'y_pred', 'y_prob', 'variance', 'total_uncertainty', 'average_inference_time', 'accuracy_score', 'precision_score', 'recall_score', 'f1_score', 'nll_score', 'brier_score', 'avg_pred_entropy_score', 'ece_score'])"
     },
     "execution_count": 67,
     "metadata": {},
     "output_type": "execute_result"
    }
   ],
   "source": [
    "teacher_metrics_mcd.keys()"
   ],
   "metadata": {
    "collapsed": false,
    "ExecuteTime": {
     "end_time": "2024-01-13T14:47:09.130601Z",
     "start_time": "2024-01-13T14:47:09.122330Z"
    }
   },
   "id": "f6ba68abb1e408de"
  },
  {
   "cell_type": "code",
   "execution_count": 68,
   "outputs": [
    {
     "data": {
      "text/plain": "0.9787234042553191"
     },
     "execution_count": 68,
     "metadata": {},
     "output_type": "execute_result"
    }
   ],
   "source": [
    "teacher_metrics_mcd['f1_score']"
   ],
   "metadata": {
    "collapsed": false,
    "ExecuteTime": {
     "end_time": "2024-01-13T14:47:10.017080Z",
     "start_time": "2024-01-13T14:47:10.012876Z"
    }
   },
   "id": "9036d0bed11ac5a0"
  },
  {
   "cell_type": "code",
   "execution_count": 71,
   "outputs": [
    {
     "data": {
      "text/plain": "1899.8313617706299"
     },
     "execution_count": 71,
     "metadata": {},
     "output_type": "execute_result"
    }
   ],
   "source": [
    "teacher_metrics_mcd['average_inference_time']"
   ],
   "metadata": {
    "collapsed": false,
    "ExecuteTime": {
     "end_time": "2024-01-13T14:48:07.766838Z",
     "start_time": "2024-01-13T14:48:07.758185Z"
    }
   },
   "id": "7efd06cca0a62090"
  },
  {
   "cell_type": "code",
   "execution_count": 77,
   "outputs": [
    {
     "data": {
      "text/plain": "(0.30245292514562605, 0.09658627212047577)"
     },
     "execution_count": 77,
     "metadata": {},
     "output_type": "execute_result"
    }
   ],
   "source": [
    "np.mean(teacher_metrics_mcd['total_uncertainty']), teacher_metrics_mcd['avg_pred_entropy_score']"
   ],
   "metadata": {
    "collapsed": false,
    "ExecuteTime": {
     "end_time": "2024-01-13T14:49:34.956240Z",
     "start_time": "2024-01-13T14:49:34.953198Z"
    }
   },
   "id": "52caba3773a913d9"
  },
  {
   "cell_type": "markdown",
   "source": [
    "## REQUIRE CUSTOM STUDENT FUNCTION FOR MCD METRICS THAT TAKES INTO ACCOUNT BODY CACHING "
   ],
   "metadata": {
    "collapsed": false
   },
   "id": "cafdb07363f1c00c"
  },
  {
   "cell_type": "code",
   "execution_count": 81,
   "outputs": [
    {
     "ename": "ValueError",
     "evalue": "too many values to unpack (expected 2)",
     "output_type": "error",
     "traceback": [
      "\u001B[0;31m---------------------------------------------------------------------------\u001B[0m",
      "\u001B[0;31mValueError\u001B[0m                                Traceback (most recent call last)",
      "Input \u001B[0;32mIn [81]\u001B[0m, in \u001B[0;36m<cell line: 1>\u001B[0;34m()\u001B[0m\n\u001B[0;32m----> 1\u001B[0m student_metrics_mcd \u001B[38;5;241m=\u001B[39m \u001B[43mcompute_student_mc_dropout_metrics\u001B[49m\u001B[43m(\u001B[49m\u001B[43mstudent\u001B[49m\u001B[43m,\u001B[49m\u001B[43m \u001B[49m\u001B[43mtest_data\u001B[49m\u001B[43m,\u001B[49m\u001B[43m \u001B[49m\u001B[43mn\u001B[49m\u001B[38;5;241;43m=\u001B[39;49m\u001B[38;5;241;43m5\u001B[39;49m\u001B[43m)\u001B[49m\n",
      "File \u001B[0;32m~/Documents/Uni/real-time-uncertainty-text-classification/src/distribution_distillation/uncertainty_distillation.py:91\u001B[0m, in \u001B[0;36mcompute_student_mc_dropout_metrics\u001B[0;34m(model, eval_data, n)\u001B[0m\n\u001B[1;32m     89\u001B[0m start_time \u001B[38;5;241m=\u001B[39m time\u001B[38;5;241m.\u001B[39mtime()\n\u001B[1;32m     90\u001B[0m \u001B[38;5;28;01mfor\u001B[39;00m batch \u001B[38;5;129;01min\u001B[39;00m eval_data:\n\u001B[0;32m---> 91\u001B[0m     features, (labels, predictions) \u001B[38;5;241m=\u001B[39m batch\n\u001B[1;32m     92\u001B[0m     outputs \u001B[38;5;241m=\u001B[39m model\u001B[38;5;241m.\u001B[39mcached_mc_dropout_predict(features, n\u001B[38;5;241m=\u001B[39mn)\n\u001B[1;32m     93\u001B[0m     logits \u001B[38;5;241m=\u001B[39m outputs[\u001B[38;5;124m'\u001B[39m\u001B[38;5;124mlogits\u001B[39m\u001B[38;5;124m'\u001B[39m]\n",
      "\u001B[0;31mValueError\u001B[0m: too many values to unpack (expected 2)"
     ]
    }
   ],
   "source": [
    "student_metrics_mcd = compute_student_mc_dropout_metrics(student, test_data, n=5)"
   ],
   "metadata": {
    "collapsed": false,
    "ExecuteTime": {
     "end_time": "2024-01-13T14:51:05.871391Z",
     "start_time": "2024-01-13T14:51:05.800922Z"
    }
   },
   "id": "4db7af10a63245a7"
  },
  {
   "cell_type": "code",
   "execution_count": 70,
   "outputs": [
    {
     "data": {
      "text/plain": "0.9787234042553191"
     },
     "execution_count": 70,
     "metadata": {},
     "output_type": "execute_result"
    }
   ],
   "source": [
    "student_metrics_mcd['f1_score']"
   ],
   "metadata": {
    "collapsed": false,
    "ExecuteTime": {
     "end_time": "2024-01-13T14:48:05.977285Z",
     "start_time": "2024-01-13T14:48:05.965795Z"
    }
   },
   "id": "f15481f961350a7e"
  },
  {
   "cell_type": "code",
   "execution_count": 72,
   "outputs": [
    {
     "data": {
      "text/plain": "1937.8099250793457"
     },
     "execution_count": 72,
     "metadata": {},
     "output_type": "execute_result"
    }
   ],
   "source": [
    "student_metrics_mcd['average_inference_time']"
   ],
   "metadata": {
    "collapsed": false,
    "ExecuteTime": {
     "end_time": "2024-01-13T14:48:18.521966Z",
     "start_time": "2024-01-13T14:48:18.518977Z"
    }
   },
   "id": "2395665a54dc2ba8"
  },
  {
   "cell_type": "code",
   "execution_count": 78,
   "outputs": [
    {
     "data": {
      "text/plain": "(0.2996355628967285, 0.8415776491165161)"
     },
     "execution_count": 78,
     "metadata": {},
     "output_type": "execute_result"
    }
   ],
   "source": [
    "np.mean(student_metrics_mcd['total_uncertainty']), student_metrics_mcd['avg_pred_entropy_score']"
   ],
   "metadata": {
    "collapsed": false,
    "ExecuteTime": {
     "end_time": "2024-01-13T14:49:39.656933Z",
     "start_time": "2024-01-13T14:49:39.653783Z"
    }
   },
   "id": "caf8d52dfa0f6467"
  },
  {
   "cell_type": "markdown",
   "source": [
    "##### Test set evaluation: Predictive distribution"
   ],
   "metadata": {
    "collapsed": false
   },
   "id": "5891802337768410"
  },
  {
   "cell_type": "code",
   "execution_count": null,
   "outputs": [],
   "source": [],
   "metadata": {
    "collapsed": false
   },
   "id": "44c92c034cb01c99"
  }
 ],
 "metadata": {
  "kernelspec": {
   "display_name": "Python 3",
   "language": "python",
   "name": "python3"
  },
  "language_info": {
   "codemirror_mode": {
    "name": "ipython",
    "version": 2
   },
   "file_extension": ".py",
   "mimetype": "text/x-python",
   "name": "python",
   "nbconvert_exporter": "python",
   "pygments_lexer": "ipython2",
   "version": "2.7.6"
  }
 },
 "nbformat": 4,
 "nbformat_minor": 5
}

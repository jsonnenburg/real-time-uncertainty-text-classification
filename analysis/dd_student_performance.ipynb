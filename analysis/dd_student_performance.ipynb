{
 "cells": [
  {
   "cell_type": "markdown",
   "source": [
    "After having obtained a fine-tuned student model, we now want to evaluate its performance on the non-augmented test set and compare it to the teacher model's performance.\n",
    "\n",
    "For this purpose, we would like to compare the predictive distribution for input samples (preferably from the test set) of the teacher and student model. We can then compare the two distributions visually and quantitatively using the Kullback-Leibler divergence."
   ],
   "metadata": {
    "collapsed": false
   },
   "id": "1f7972f08344d688"
  },
  {
   "cell_type": "code",
   "execution_count": 79,
   "outputs": [],
   "source": [
    "import os\n",
    "import json\n",
    "\n",
    "import pandas as pd\n",
    "import numpy as np\n",
    "import matplotlib.pyplot as plt\n",
    "%matplotlib inline\n",
    "\n",
    "import tensorflow as tf\n",
    "\n",
    "from src.utils.data import Dataset\n",
    "from src.utils.inference import mc_dropout_predict\n",
    "from src.data.robustness_study.bert_data_preprocessing import bert_preprocess, get_tf_dataset\n",
    "from src.models.bert_model import AleatoricMCDropoutBERT, create_bert_config\n",
    "from src.utils.loss_functions import aleatoric_loss, null_loss"
   ],
   "metadata": {
    "collapsed": false,
    "ExecuteTime": {
     "end_time": "2024-01-14T17:40:49.875728Z",
     "start_time": "2024-01-14T17:40:49.850641Z"
    }
   },
   "id": "e8d6c830e8f82826"
  },
  {
   "cell_type": "code",
   "execution_count": 3,
   "outputs": [
    {
     "data": {
      "text/plain": "                                                text  target\n0  in class still drunk from last night and this ...       1\n1  sighs of relief from beijing guoan fans <hasht...       0\n2  <user> <user> <user> they do why else do teach...       1\n3  preparing to be called a nigger all night i me...       1\n4           rt <user> we dont love these hoes <url>        1",
      "text/html": "<div>\n<style scoped>\n    .dataframe tbody tr th:only-of-type {\n        vertical-align: middle;\n    }\n\n    .dataframe tbody tr th {\n        vertical-align: top;\n    }\n\n    .dataframe thead th {\n        text-align: right;\n    }\n</style>\n<table border=\"1\" class=\"dataframe\">\n  <thead>\n    <tr style=\"text-align: right;\">\n      <th></th>\n      <th>text</th>\n      <th>target</th>\n    </tr>\n  </thead>\n  <tbody>\n    <tr>\n      <th>0</th>\n      <td>in class still drunk from last night and this ...</td>\n      <td>1</td>\n    </tr>\n    <tr>\n      <th>1</th>\n      <td>sighs of relief from beijing guoan fans &lt;hasht...</td>\n      <td>0</td>\n    </tr>\n    <tr>\n      <th>2</th>\n      <td>&lt;user&gt; &lt;user&gt; &lt;user&gt; they do why else do teach...</td>\n      <td>1</td>\n    </tr>\n    <tr>\n      <th>3</th>\n      <td>preparing to be called a nigger all night i me...</td>\n      <td>1</td>\n    </tr>\n    <tr>\n      <th>4</th>\n      <td>rt &lt;user&gt; we dont love these hoes &lt;url&gt;</td>\n      <td>1</td>\n    </tr>\n  </tbody>\n</table>\n</div>"
     },
     "execution_count": 3,
     "metadata": {},
     "output_type": "execute_result"
    }
   ],
   "source": [
    "# load and preprocess test data\n",
    "df_test = pd.read_csv('../data/robustness_study/preprocessed/test.csv', sep='\\t', index_col=0)\n",
    "df_test.head()"
   ],
   "metadata": {
    "collapsed": false,
    "ExecuteTime": {
     "end_time": "2024-01-14T11:04:11.429063Z",
     "start_time": "2024-01-14T11:04:11.414125Z"
    }
   },
   "id": "6f4cf0a9bedb5d1c"
  },
  {
   "cell_type": "code",
   "execution_count": 4,
   "outputs": [],
   "source": [
    "MAX_LENGTH = 48\n",
    "BATCH_SIZE = 16\n",
    "\n",
    "dataset = Dataset()\n",
    "dataset.test = df_test\n",
    "\n",
    "subset_size = 25\n",
    "dataset.test = dataset.test.sample(n=min(subset_size, len(dataset.test)), random_state=42)\n",
    "\n",
    "tokenized_dataset = {\n",
    "    'test': bert_preprocess(dataset.test, max_length=MAX_LENGTH)\n",
    "}\n",
    "test_data = get_tf_dataset(tokenized_dataset, 'test')\n",
    "test_data = test_data.batch(BATCH_SIZE).cache().prefetch(tf.data.AUTOTUNE)"
   ],
   "metadata": {
    "collapsed": false,
    "ExecuteTime": {
     "end_time": "2024-01-14T11:04:12.053567Z",
     "start_time": "2024-01-14T11:04:12.044613Z"
    }
   },
   "id": "b6f08cd4a7de3770"
  },
  {
   "cell_type": "code",
   "execution_count": 5,
   "outputs": [
    {
     "name": "stderr",
     "output_type": "stream",
     "text": [
      "Some weights of the PyTorch model were not used when initializing the TF 2.0 model TFBertModel: ['cls.seq_relationship.bias', 'cls.predictions.transform.dense.bias', 'cls.seq_relationship.weight', 'cls.predictions.transform.LayerNorm.bias', 'cls.predictions.bias', 'cls.predictions.transform.LayerNorm.weight', 'cls.predictions.transform.dense.weight']\n",
      "- This IS expected if you are initializing TFBertModel from a PyTorch model trained on another task or with another architecture (e.g. initializing a TFBertForSequenceClassification model from a BertForPreTraining model).\n",
      "- This IS NOT expected if you are initializing TFBertModel from a PyTorch model that you expect to be exactly identical (e.g. initializing a TFBertForSequenceClassification model from a BertForSequenceClassification model).\n",
      "All the weights of TFBertModel were initialized from the PyTorch model.\n",
      "If your task is similar to the task the model of the checkpoint was trained on, you can already use TFBertModel for predictions without further training.\n"
     ]
    },
    {
     "name": "stdout",
     "output_type": "stream",
     "text": [
      "Loading weights from ../out/bert_teacher/final_hd030_ad020_cd035/model\n"
     ]
    },
    {
     "name": "stderr",
     "output_type": "stream",
     "text": [
      "WARNING:absl:At this time, the v2.11+ optimizer `tf.keras.optimizers.Adam` runs slowly on M1/M2 Macs, please use the legacy Keras optimizer instead, located at `tf.keras.optimizers.legacy.Adam`.\n",
      "WARNING:absl:There is a known slowdown when using v2.11+ Keras optimizers on M1/M2 Macs. Falling back to the legacy Keras optimizer, i.e., `tf.keras.optimizers.legacy.Adam`.\n"
     ]
    }
   ],
   "source": [
    "# load and initialize teacher model\n",
    "TEACHER_PATH = '../out/bert_teacher/final_hd030_ad020_cd035/model'\n",
    "\n",
    "with open(os.path.join(TEACHER_PATH, 'config.json'), 'r') as f:\n",
    "    teacher_config = json.load(f)\n",
    "    \n",
    "config = create_bert_config(teacher_config['hidden_dropout_prob'],\n",
    "                            teacher_config['attention_probs_dropout_prob'],\n",
    "                            teacher_config['classifier_dropout'])\n",
    "\n",
    "teacher = AleatoricMCDropoutBERT(config=config, custom_loss_fn=aleatoric_loss)\n",
    "checkpoint_path = os.path.join(TEACHER_PATH, 'cp-{epoch:02d}.ckpt')\n",
    "checkpoint_dir = os.path.dirname(checkpoint_path)\n",
    "\n",
    "latest_checkpoint = tf.train.latest_checkpoint(checkpoint_dir)\n",
    "if latest_checkpoint:\n",
    "    print(\"Loading weights from\", checkpoint_dir)\n",
    "    teacher.load_weights(latest_checkpoint)\n",
    "\n",
    "teacher.compile(\n",
    "        optimizer=tf.keras.optimizers.Adam(learning_rate=2e-5),\n",
    "        loss={'classifier': aleatoric_loss, 'log_variance': null_loss},\n",
    "        metrics=[tf.keras.metrics.BinaryAccuracy(), tf.keras.metrics.Precision(), tf.keras.metrics.Recall()],\n",
    "        run_eagerly=True\n",
    "    )"
   ],
   "metadata": {
    "collapsed": false,
    "ExecuteTime": {
     "end_time": "2024-01-14T11:04:15.531054Z",
     "start_time": "2024-01-14T11:04:12.579805Z"
    }
   },
   "id": "c6479c89e660aef6"
  },
  {
   "cell_type": "code",
   "execution_count": 6,
   "outputs": [
    {
     "name": "stderr",
     "output_type": "stream",
     "text": [
      "Some weights of the PyTorch model were not used when initializing the TF 2.0 model TFBertModel: ['cls.seq_relationship.bias', 'cls.predictions.transform.dense.bias', 'cls.seq_relationship.weight', 'cls.predictions.transform.LayerNorm.bias', 'cls.predictions.bias', 'cls.predictions.transform.LayerNorm.weight', 'cls.predictions.transform.dense.weight']\n",
      "- This IS expected if you are initializing TFBertModel from a PyTorch model trained on another task or with another architecture (e.g. initializing a TFBertForSequenceClassification model from a BertForPreTraining model).\n",
      "- This IS NOT expected if you are initializing TFBertModel from a PyTorch model that you expect to be exactly identical (e.g. initializing a TFBertForSequenceClassification model from a BertForSequenceClassification model).\n",
      "All the weights of TFBertModel were initialized from the PyTorch model.\n",
      "If your task is similar to the task the model of the checkpoint was trained on, you can already use TFBertModel for predictions without further training.\n"
     ]
    },
    {
     "name": "stdout",
     "output_type": "stream",
     "text": [
      "Loading weights from ../out/bert_student/aleatoric_and_epistemic/m5_k5/2epochs/model\n"
     ]
    },
    {
     "name": "stderr",
     "output_type": "stream",
     "text": [
      "WARNING:absl:At this time, the v2.11+ optimizer `tf.keras.optimizers.Adam` runs slowly on M1/M2 Macs, please use the legacy Keras optimizer instead, located at `tf.keras.optimizers.legacy.Adam`.\n",
      "WARNING:absl:There is a known slowdown when using v2.11+ Keras optimizers on M1/M2 Macs. Falling back to the legacy Keras optimizer, i.e., `tf.keras.optimizers.legacy.Adam`.\n"
     ]
    }
   ],
   "source": [
    "# load and initialize student model\n",
    "STUDENT_PATH = '../out/bert_student/aleatoric_and_epistemic/m5_k5/2epochs/model'\n",
    "\n",
    "with open(os.path.join(STUDENT_PATH, 'config.json'), 'r') as f:\n",
    "    student_config = json.load(f)\n",
    "    \n",
    "config = create_bert_config(teacher_config['hidden_dropout_prob'],\n",
    "                            teacher_config['attention_probs_dropout_prob'],\n",
    "                            teacher_config['classifier_dropout'])\n",
    "\n",
    "student = AleatoricMCDropoutBERT(config=config, custom_loss_fn=aleatoric_loss)\n",
    "checkpoint_path = os.path.join(STUDENT_PATH, 'cp-{epoch:02d}.ckpt')\n",
    "checkpoint_dir = os.path.dirname(checkpoint_path)\n",
    "\n",
    "latest_checkpoint = tf.train.latest_checkpoint(checkpoint_dir)\n",
    "if latest_checkpoint:\n",
    "    print(\"Loading weights from\", checkpoint_dir)\n",
    "    student.load_weights(latest_checkpoint)\n",
    "    \n",
    "student.compile(\n",
    "        optimizer=tf.keras.optimizers.Adam(learning_rate=2e-5),\n",
    "        loss={'classifier': aleatoric_loss, 'log_variance': null_loss},\n",
    "        metrics=[tf.keras.metrics.BinaryAccuracy(), tf.keras.metrics.Precision(), tf.keras.metrics.Recall()],\n",
    "        run_eagerly=True\n",
    "    )"
   ],
   "metadata": {
    "collapsed": false,
    "ExecuteTime": {
     "end_time": "2024-01-14T11:04:17.524973Z",
     "start_time": "2024-01-14T11:04:15.530753Z"
    }
   },
   "id": "9a6238d1c6b98f72"
  },
  {
   "cell_type": "markdown",
   "source": [
    "##### Test set evaluation: WA and MCD"
   ],
   "metadata": {
    "collapsed": false
   },
   "id": "f3888030aa7ac13b"
  },
  {
   "cell_type": "code",
   "execution_count": 7,
   "outputs": [],
   "source": [
    "from src.training.train_bert_teacher import compute_metrics, compute_mc_dropout_metrics\n",
    "from src.distribution_distillation.uncertainty_distillation import compute_student_metrics, compute_student_mc_dropout_metrics"
   ],
   "metadata": {
    "collapsed": false,
    "ExecuteTime": {
     "end_time": "2024-01-14T11:04:17.538446Z",
     "start_time": "2024-01-14T11:04:17.525961Z"
    }
   },
   "id": "2a79107d0e93af94"
  },
  {
   "cell_type": "code",
   "execution_count": 8,
   "outputs": [],
   "source": [
    "### weight averaging"
   ],
   "metadata": {
    "collapsed": false,
    "ExecuteTime": {
     "end_time": "2024-01-14T11:04:17.554422Z",
     "start_time": "2024-01-14T11:04:17.537185Z"
    }
   },
   "id": "fc709915987b8261"
  },
  {
   "cell_type": "code",
   "execution_count": 9,
   "outputs": [],
   "source": [
    "# evaluate teacher model on test set\n",
    "teacher_metrics_wa = compute_metrics(teacher, test_data)"
   ],
   "metadata": {
    "collapsed": false,
    "ExecuteTime": {
     "end_time": "2024-01-14T11:04:18.153374Z",
     "start_time": "2024-01-14T11:04:17.539744Z"
    }
   },
   "id": "26eec50a31abdb8a"
  },
  {
   "cell_type": "code",
   "execution_count": 10,
   "outputs": [
    {
     "data": {
      "text/plain": "dict_keys(['y_true', 'y_pred', 'y_prob', 'variance', 'average_inference_time', 'accuracy_score', 'precision_score', 'recall_score', 'f1_score', 'nll_score', 'brier_score', 'ece_score'])"
     },
     "execution_count": 10,
     "metadata": {},
     "output_type": "execute_result"
    }
   ],
   "source": [
    "teacher_metrics_wa.keys()"
   ],
   "metadata": {
    "collapsed": false,
    "ExecuteTime": {
     "end_time": "2024-01-14T11:04:18.158346Z",
     "start_time": "2024-01-14T11:04:18.154043Z"
    }
   },
   "id": "b9a6c60773544a06"
  },
  {
   "cell_type": "code",
   "execution_count": 11,
   "outputs": [
    {
     "data": {
      "text/plain": "0.9787234042553191"
     },
     "execution_count": 11,
     "metadata": {},
     "output_type": "execute_result"
    }
   ],
   "source": [
    "teacher_metrics_wa['f1_score']"
   ],
   "metadata": {
    "collapsed": false,
    "ExecuteTime": {
     "end_time": "2024-01-14T11:04:24.256431Z",
     "start_time": "2024-01-14T11:04:24.252786Z"
    }
   },
   "id": "536b069ac9dfa9b7"
  },
  {
   "cell_type": "code",
   "execution_count": 12,
   "outputs": [],
   "source": [
    "# evaluate student model on test set\n",
    "student_metrics_wa = compute_metrics(student, test_data)"
   ],
   "metadata": {
    "collapsed": false,
    "ExecuteTime": {
     "end_time": "2024-01-14T11:04:24.946851Z",
     "start_time": "2024-01-14T11:04:24.713703Z"
    }
   },
   "id": "d8f6212094afcb20"
  },
  {
   "cell_type": "code",
   "execution_count": 13,
   "outputs": [
    {
     "data": {
      "text/plain": "0.9787234042553191"
     },
     "execution_count": 13,
     "metadata": {},
     "output_type": "execute_result"
    }
   ],
   "source": [
    "student_metrics_wa['f1_score']"
   ],
   "metadata": {
    "collapsed": false,
    "ExecuteTime": {
     "end_time": "2024-01-14T11:04:25.349621Z",
     "start_time": "2024-01-14T11:04:25.339959Z"
    }
   },
   "id": "52f74814adeb7488"
  },
  {
   "cell_type": "code",
   "execution_count": 14,
   "outputs": [],
   "source": [
    "### mc dropout"
   ],
   "metadata": {
    "collapsed": false,
    "ExecuteTime": {
     "end_time": "2024-01-14T11:04:25.754882Z",
     "start_time": "2024-01-14T11:04:25.746873Z"
    }
   },
   "id": "42be65f3d2d272a9"
  },
  {
   "cell_type": "code",
   "execution_count": 24,
   "outputs": [],
   "source": [
    "teacher_metrics_mcd = compute_mc_dropout_metrics(teacher, test_data, n=20)"
   ],
   "metadata": {
    "collapsed": false,
    "ExecuteTime": {
     "end_time": "2024-01-14T11:09:50.821050Z",
     "start_time": "2024-01-14T11:09:26.731817Z"
    }
   },
   "id": "9fb2ff1bfa7a3f45"
  },
  {
   "cell_type": "code",
   "execution_count": 25,
   "outputs": [
    {
     "data": {
      "text/plain": "dict_keys(['y_true', 'y_pred', 'y_prob', 'variance', 'total_uncertainty', 'average_inference_time', 'accuracy_score', 'precision_score', 'recall_score', 'f1_score', 'nll_score', 'brier_score', 'avg_pred_entropy_score', 'ece_score'])"
     },
     "execution_count": 25,
     "metadata": {},
     "output_type": "execute_result"
    }
   ],
   "source": [
    "teacher_metrics_mcd.keys()"
   ],
   "metadata": {
    "collapsed": false,
    "ExecuteTime": {
     "end_time": "2024-01-14T11:09:50.825134Z",
     "start_time": "2024-01-14T11:09:50.823601Z"
    }
   },
   "id": "f6ba68abb1e408de"
  },
  {
   "cell_type": "code",
   "execution_count": 26,
   "outputs": [
    {
     "data": {
      "text/plain": "0.9787234042553191"
     },
     "execution_count": 26,
     "metadata": {},
     "output_type": "execute_result"
    }
   ],
   "source": [
    "teacher_metrics_mcd['f1_score']"
   ],
   "metadata": {
    "collapsed": false,
    "ExecuteTime": {
     "end_time": "2024-01-14T11:09:50.849800Z",
     "start_time": "2024-01-14T11:09:50.825498Z"
    }
   },
   "id": "9036d0bed11ac5a0"
  },
  {
   "cell_type": "code",
   "execution_count": 27,
   "outputs": [
    {
     "data": {
      "text/plain": "962.7158451080322"
     },
     "execution_count": 27,
     "metadata": {},
     "output_type": "execute_result"
    }
   ],
   "source": [
    "teacher_metrics_mcd['average_inference_time']"
   ],
   "metadata": {
    "collapsed": false,
    "ExecuteTime": {
     "end_time": "2024-01-14T11:09:50.849993Z",
     "start_time": "2024-01-14T11:09:50.828268Z"
    }
   },
   "id": "7efd06cca0a62090"
  },
  {
   "cell_type": "code",
   "execution_count": 28,
   "outputs": [
    {
     "data": {
      "text/plain": "(0.3001903396844864, 0.09715518355369568)"
     },
     "execution_count": 28,
     "metadata": {},
     "output_type": "execute_result"
    }
   ],
   "source": [
    "np.mean(teacher_metrics_mcd['total_uncertainty']), teacher_metrics_mcd['avg_pred_entropy_score']"
   ],
   "metadata": {
    "collapsed": false,
    "ExecuteTime": {
     "end_time": "2024-01-14T11:09:50.850099Z",
     "start_time": "2024-01-14T11:09:50.830853Z"
    }
   },
   "id": "52caba3773a913d9"
  },
  {
   "cell_type": "code",
   "execution_count": 29,
   "outputs": [],
   "source": [
    "student_metrics_mcd = compute_student_mc_dropout_metrics(student, test_data, n=20)"
   ],
   "metadata": {
    "collapsed": false,
    "ExecuteTime": {
     "end_time": "2024-01-14T11:10:00.142437Z",
     "start_time": "2024-01-14T11:09:57.222458Z"
    }
   },
   "id": "4db7af10a63245a7"
  },
  {
   "cell_type": "code",
   "execution_count": 30,
   "outputs": [
    {
     "data": {
      "text/plain": "0.9583333333333334"
     },
     "execution_count": 30,
     "metadata": {},
     "output_type": "execute_result"
    }
   ],
   "source": [
    "student_metrics_mcd['f1_score']"
   ],
   "metadata": {
    "collapsed": false,
    "ExecuteTime": {
     "end_time": "2024-01-14T11:10:00.143247Z",
     "start_time": "2024-01-14T11:10:00.139257Z"
    }
   },
   "id": "f15481f961350a7e"
  },
  {
   "cell_type": "code",
   "execution_count": 31,
   "outputs": [
    {
     "data": {
      "text/plain": "115.55851936340332"
     },
     "execution_count": 31,
     "metadata": {},
     "output_type": "execute_result"
    }
   ],
   "source": [
    "student_metrics_mcd['average_inference_time']"
   ],
   "metadata": {
    "collapsed": false,
    "ExecuteTime": {
     "end_time": "2024-01-14T11:10:00.159329Z",
     "start_time": "2024-01-14T11:10:00.143709Z"
    }
   },
   "id": "2395665a54dc2ba8"
  },
  {
   "cell_type": "code",
   "execution_count": 32,
   "outputs": [
    {
     "data": {
      "text/plain": "(0.25594785749912263, 0.8029887080192566)"
     },
     "execution_count": 32,
     "metadata": {},
     "output_type": "execute_result"
    }
   ],
   "source": [
    "np.mean(student_metrics_mcd['total_uncertainty']), student_metrics_mcd['avg_pred_entropy_score']"
   ],
   "metadata": {
    "collapsed": false,
    "ExecuteTime": {
     "end_time": "2024-01-14T11:10:00.159519Z",
     "start_time": "2024-01-14T11:10:00.148604Z"
    }
   },
   "id": "caf8d52dfa0f6467"
  },
  {
   "cell_type": "markdown",
   "source": [
    "##### Test set evaluation: Predictive distribution"
   ],
   "metadata": {
    "collapsed": false
   },
   "id": "5891802337768410"
  },
  {
   "cell_type": "code",
   "execution_count": 69,
   "outputs": [],
   "source": [
    "# for some test sequences, save mc dropout predictive samples (all samples, as well as mean and variance), aleatoric and epistemic uncertainty (epistemic as total uncertainty - aleatoric)\n",
    "def get_student_predictive_distribution_info(model, eval_data, n=20, num_samples=500):\n",
    "    eval_data = eval_data.unbatch().take(num_samples).batch(32)\n",
    "    \n",
    "    total_logits = []\n",
    "    total_mean_logits = []  # mean prediction (logit space)\n",
    "    total_mean_variances = []  # aleatoric uncertainty\n",
    "    total_variances = []  # epistemic uncertainty (?) - variance of predictive distribution\n",
    "    total_labels = []\n",
    "    total_uncertainties = []\n",
    "\n",
    "    for batch in eval_data:\n",
    "        features, labels = batch\n",
    "        outputs = model.cached_mc_dropout_predict(features, n=n)\n",
    "        logits = outputs['logits']\n",
    "        mean_predictions = outputs['mean_predictions']\n",
    "        mean_variances = outputs['mean_variances']\n",
    "        var_predictions = outputs['var_predictions']\n",
    "        total_uncertainty = outputs['total_uncertainty']\n",
    "        total_logits.append(logits.numpy())\n",
    "        total_mean_logits.extend(mean_predictions.numpy())\n",
    "        total_mean_variances.extend(mean_variances.numpy())\n",
    "        total_variances.extend(var_predictions.numpy())\n",
    "        total_uncertainties.extend(total_uncertainty.numpy())\n",
    "        total_labels.extend(labels.numpy())\n",
    "        \n",
    "    total_logits = np.concatenate(total_logits, axis=1)  \n",
    "    transposed_logits = list(zip(*total_logits))\n",
    "    transposed_logits = [item for item in transposed_logits]\n",
    "    # Convert each tuple of arrays into a single list of raw values\n",
    "    transposed_logits_raw = [ [value for array in tup for value in array.tolist()] for tup in transposed_logits ]\n",
    "    \n",
    "    if total_mean_logits and total_labels:\n",
    "        all_labels = np.array(total_labels)\n",
    "        mean_prob_predictions_np = tf.nn.sigmoid(total_mean_logits).numpy().reshape(all_labels.shape)\n",
    "        mean_class_predictions_np = mean_prob_predictions_np.round(0).astype(int)\n",
    "        mean_variances_np = np.array(total_mean_variances).reshape(all_labels.shape)\n",
    "        total_uncertainties_np = np.array(total_uncertainties).reshape(all_labels.shape)\n",
    "        labels_np = all_labels\n",
    "\n",
    "        return {\n",
    "            \"logits\": transposed_logits_raw,\n",
    "            \"y_true\": labels_np.astype(int).tolist(),\n",
    "            \"y_pred\": mean_class_predictions_np.tolist(),\n",
    "            \"y_prob\": mean_prob_predictions_np.tolist(),\n",
    "            \"aleatoric_uncertainty\": mean_variances_np.tolist(),\n",
    "            \"epistemic_uncertainty\": (total_uncertainties_np - mean_variances_np).tolist(),\n",
    "            \"total_uncertainty\": total_uncertainties_np.tolist()\n",
    "        }\n",
    "    \n",
    "student_predictive_dist_info = get_student_predictive_distribution_info(student, test_data, n=20, num_samples=25)"
   ],
   "metadata": {
    "collapsed": false,
    "ExecuteTime": {
     "end_time": "2024-01-14T17:26:25.971911Z",
     "start_time": "2024-01-14T17:26:21.622667Z"
    }
   },
   "id": "44c92c034cb01c99"
  },
  {
   "cell_type": "code",
   "execution_count": 72,
   "outputs": [],
   "source": [
    "# for some test sequences, save mc dropout predictive samples (all samples, as well as mean and variance), aleatoric and epistemic uncertainty (epistemic as total uncertainty - aleatoric)\n",
    "def get_teacher_predictive_distribution_info(model, eval_data, n=20, num_samples=500) -> dict:\n",
    "    eval_data = eval_data.unbatch().take(num_samples).batch(32)\n",
    "    \n",
    "    total_logits = []\n",
    "    total_mean_logits = []  # mean prediction (logit space)\n",
    "    total_mean_variances = []  # aleatoric uncertainty\n",
    "    total_variances = []  # epistemic uncertainty (?) - variance of predictive distribution\n",
    "    total_labels = []\n",
    "    total_uncertainties = []\n",
    "\n",
    "    for batch in eval_data:\n",
    "        features, labels = batch\n",
    "        logits, mean_variances, mean_predictions, var_predictions, total_uncertainty = mc_dropout_predict(model, features, n=n)\n",
    "        total_logits.append(logits.numpy())\n",
    "        total_mean_variances.extend(mean_variances.numpy())\n",
    "        total_mean_logits.extend(mean_predictions.numpy())\n",
    "        total_variances.extend(var_predictions.numpy())\n",
    "        total_uncertainties.extend(total_uncertainty.numpy())\n",
    "        total_labels.extend(labels.numpy())\n",
    "        \n",
    "    total_logits = np.concatenate(total_logits, axis=1)  \n",
    "    transposed_logits = list(zip(*total_logits))\n",
    "    transposed_logits = [item for item in transposed_logits]\n",
    "    # Convert each tuple of arrays into a single list of raw values\n",
    "    transposed_logits_raw = [ [value for array in tup for value in array.tolist()] for tup in transposed_logits ]\n",
    "    \n",
    "    if total_mean_logits and total_labels:\n",
    "        all_labels = np.array(total_labels)\n",
    "        mean_prob_predictions_np = tf.nn.sigmoid(total_mean_logits).numpy().reshape(all_labels.shape)\n",
    "        mean_class_predictions_np = mean_prob_predictions_np.round(0).astype(int)\n",
    "        mean_variances_np = np.array(total_mean_variances).reshape(all_labels.shape)\n",
    "        total_uncertainties_np = np.array(total_uncertainties).reshape(all_labels.shape)\n",
    "        labels_np = all_labels\n",
    "\n",
    "        return {\n",
    "            \"logits\": transposed_logits_raw,\n",
    "            \"y_true\": labels_np.astype(int).tolist(),\n",
    "            \"y_pred\": mean_class_predictions_np.tolist(),\n",
    "            \"y_prob\": mean_prob_predictions_np.tolist(),\n",
    "            \"aleatoric_uncertainty\": mean_variances_np.tolist(),\n",
    "            \"epistemic_uncertainty\": (total_uncertainties_np - mean_variances_np).tolist(),\n",
    "            \"total_uncertainty\": total_uncertainties_np.tolist()\n",
    "        }\n",
    "    \n",
    "teacher_predictive_dist_info = get_teacher_predictive_distribution_info(student, test_data, n=20, num_samples=25)"
   ],
   "metadata": {
    "collapsed": false,
    "ExecuteTime": {
     "end_time": "2024-01-14T17:30:11.481305Z",
     "start_time": "2024-01-14T17:29:20.870263Z"
    }
   },
   "id": "1f30e53e5405a535"
  },
  {
   "cell_type": "code",
   "execution_count": 75,
   "outputs": [],
   "source": [
    "with open(os.path.join('../tests/analysis', 'teacher_predictive_distribution.json'), 'w') as f:\n",
    "    json.dump(teacher_predictive_dist_info, f)"
   ],
   "metadata": {
    "collapsed": false,
    "ExecuteTime": {
     "end_time": "2024-01-14T17:37:04.071399Z",
     "start_time": "2024-01-14T17:37:04.061611Z"
    }
   },
   "id": "45cd1aa40e8839c4"
  },
  {
   "cell_type": "code",
   "execution_count": 76,
   "outputs": [],
   "source": [
    "with open(os.path.join('../tests/analysis', 'student_predictive_distribution.json'), 'w') as f:\n",
    "    json.dump(student_predictive_dist_info, f)"
   ],
   "metadata": {
    "collapsed": false,
    "ExecuteTime": {
     "end_time": "2024-01-14T17:37:57.009388Z",
     "start_time": "2024-01-14T17:37:56.989516Z"
    }
   },
   "id": "16999fc7f66c495"
  },
  {
   "cell_type": "markdown",
   "source": [
    "#### Visualize predictive distribution"
   ],
   "metadata": {
    "collapsed": false
   },
   "id": "397697e9b0101b31"
  },
  {
   "cell_type": "code",
   "execution_count": null,
   "outputs": [],
   "source": [
    "# see what the predictive distribution looks like for some samples\n",
    "\n",
    "# load predictive distribution info\n",
    "with open(os.path.join('../tests/analysis', 'teacher_predictive_distribution.json'), 'r') as f:\n",
    "    teacher_predictive_dist_info = json.load(f)\n",
    "    \n",
    "with open(os.path.join('../tests/analysis', 'student_predictive_distribution.json'), 'r') as f:\n",
    "    student_predictive_dist_info = json.load(f)\n",
    "    \n"
   ],
   "metadata": {
    "collapsed": false
   },
   "id": "451db97f5096a6e0"
  },
  {
   "cell_type": "code",
   "execution_count": 80,
   "outputs": [],
   "source": [
    "# plot predictive distribution for some samples\n",
    "def plot_predictive_distribution(teacher_predictive_dist_info, student_predictive_dist_info, sample_idx):\n",
    "    fig, ax = plt.subplots(1, 2, figsize=(12, 4))\n",
    "    fig.suptitle(f\"Predictive distribution for sample {sample_idx}\")\n",
    "    \n",
    "    # teacher\n",
    "    teacher_logits = teacher_predictive_dist_info['logits'][sample_idx]\n",
    "    teacher_y_true = teacher_predictive_dist_info['y_true'][sample_idx]\n",
    "    teacher_y_pred = teacher_predictive_dist_info['y_pred'][sample_idx]\n",
    "    teacher_y_prob = teacher_predictive_dist_info['y_prob'][sample_idx]\n",
    "    teacher_aleatoric_uncertainty = teacher_predictive_dist_info['aleatoric_uncertainty'][sample_idx]\n",
    "    teacher_epistemic_uncertainty = teacher_predictive_dist_info['epistemic_uncertainty'][sample_idx]\n",
    "    teacher_total_uncertainty = teacher_predictive_dist_info['total_uncertainty'][sample_idx]\n",
    "    \n",
    "    ax[0].hist(teacher_logits, bins=20)\n",
    "    ax[0].set_title(\"Teacher predictive distribution\")\n",
    "    ax[0].set_xlabel(\"Logits\")\n",
    "    ax[0].set_ylabel(\"Frequency\")\n",
    "    \n",
    "    # student\n",
    "    student_logits = student_predictive_dist_info['logits'][sample_idx]\n",
    "    student_y_true = student_predictive_dist_info['y_true'][sample_idx]\n",
    "    student_y_pred = student_predictive_dist_info['y_pred'][sample_idx]\n",
    "    student_y_prob = student_predictive_dist_info['y_prob'][sample_idx]\n",
    "    student_aleatoric_uncertainty = student_predictive_dist_info['aleatoric_uncertainty'][sample_idx]\n",
    "    student_epistemic_uncertainty = student_predictive_dist_info['epistemic_uncertainty'][sample_idx]\n",
    "    student_total_uncertainty = student_predictive_dist_info['total_uncertainty'][sample_idx]\n",
    "    \n",
    "    ax[1].hist(student_logits, bins=20)\n",
    "    ax[1].set_title(\"Student predictive distribution\")\n",
    "    ax[1].set_xlabel(\"Logits\")\n",
    "    ax[1].set_ylabel(\"Frequency\")\n",
    "    \n",
    "    plt.show()\n",
    "    \n",
    "    print(f\"Teacher: y_true={teacher_y_true}, y_pred={teacher_y_pred}, y_prob={teacher_y_prob}, aleatoric_uncertainty={teacher_aleatoric_uncertainty}, epistemic_uncertainty={teacher_epistemic_uncertainty}, total_uncertainty={teacher_total_uncertainty}\")\n",
    "    print(f\"Student: y_true={student_y_true}, y_pred={student_y_pred}, y_prob={student_y_prob}, aleatoric_uncertainty={student_aleatoric_uncertainty}, epistemic_uncertainty={student_epistemic_uncertainty}, total_uncertainty={student_total_uncertainty}\")"
   ],
   "metadata": {
    "collapsed": false,
    "ExecuteTime": {
     "end_time": "2024-01-14T17:40:53.009637Z",
     "start_time": "2024-01-14T17:40:53.001905Z"
    }
   },
   "id": "d14538a05fe3942c"
  },
  {
   "cell_type": "code",
   "execution_count": 81,
   "outputs": [
    {
     "data": {
      "text/plain": "<Figure size 864x288 with 2 Axes>",
      "image/png": "[encoded data removed]"
     },
     "metadata": {
      "needs_background": "light"
     },
     "output_type": "display_data"
    },
    {
     "name": "stdout",
     "output_type": "stream",
     "text": [
      "Teacher: y_true=1, y_pred=1, y_prob=0.7357932329177856, aleatoric_uncertainty=0.2881074845790863, epistemic_uncertainty=0.0007064342498779297, total_uncertainty=0.28881391882896423\n",
      "Student: y_true=1, y_pred=1, y_prob=0.7604193687438965, aleatoric_uncertainty=0.2470196783542633, epistemic_uncertainty=0.0006642341613769531, total_uncertainty=0.24768391251564026\n"
     ]
    }
   ],
   "source": [
    "plot_predictive_distribution(teacher_predictive_dist_info, student_predictive_dist_info, sample_idx=0)"
   ],
   "metadata": {
    "collapsed": false,
    "ExecuteTime": {
     "end_time": "2024-01-14T17:41:02.275443Z",
     "start_time": "2024-01-14T17:41:02.117335Z"
    }
   },
   "id": "b1d4b9c8ba431244"
  },
  {
   "cell_type": "code",
   "execution_count": 83,
   "outputs": [
    {
     "data": {
      "text/plain": "(25,)"
     },
     "execution_count": 83,
     "metadata": {},
     "output_type": "execute_result"
    }
   ],
   "source": [
    "# find teacher idx with highest total uncertainty\n",
    "teacher_total_uncertainty = teacher_predictive_dist_info['total_uncertainty']\n",
    "teacher_total_uncertainty = np.array(teacher_total_uncertainty)\n",
    "teacher_total_uncertainty.shape"
   ],
   "metadata": {
    "collapsed": false,
    "ExecuteTime": {
     "end_time": "2024-01-14T17:42:37.602296Z",
     "start_time": "2024-01-14T17:42:37.592383Z"
    }
   },
   "id": "6699b4826ec0f0a7"
  },
  {
   "cell_type": "code",
   "execution_count": null,
   "outputs": [],
   "source": [
    "teacher_total_uncertainty.argmax()"
   ],
   "metadata": {
    "collapsed": false
   },
   "id": "a08ea87f916ee0b1"
  },
  {
   "cell_type": "code",
   "execution_count": null,
   "outputs": [],
   "source": [
    "# find corresponding student output\n",
    "student_predictive_dist_info['total_uncertainty'][teacher_total_uncertainty.argmax()]"
   ],
   "metadata": {
    "collapsed": false
   },
   "id": "f409fe670034bdb2"
  },
  {
   "cell_type": "code",
   "execution_count": 84,
   "outputs": [
    {
     "data": {
      "text/plain": "<Figure size 864x288 with 2 Axes>",
      "image/png": "[encoded data removed]"
     },
     "metadata": {
      "needs_background": "light"
     },
     "output_type": "display_data"
    },
    {
     "name": "stdout",
     "output_type": "stream",
     "text": [
      "Teacher: y_true=0, y_pred=1, y_prob=0.5009537935256958, aleatoric_uncertainty=0.4696027934551239, epistemic_uncertainty=0.005046099424362183, total_uncertainty=0.4746488928794861\n",
      "Student: y_true=0, y_pred=1, y_prob=0.50090092420578, aleatoric_uncertainty=0.4353446066379547, epistemic_uncertainty=0.0022932887077331543, total_uncertainty=0.43763789534568787\n"
     ]
    }
   ],
   "source": [
    "# plot predictive distribution for sample with highest total uncertainty\n",
    "plot_predictive_distribution(teacher_predictive_dist_info, student_predictive_dist_info, sample_idx=teacher_total_uncertainty.argmax())"
   ],
   "metadata": {
    "collapsed": false,
    "ExecuteTime": {
     "end_time": "2024-01-14T17:42:38.852765Z",
     "start_time": "2024-01-14T17:42:38.745935Z"
    }
   },
   "id": "b81b2e53b8584b35"
  },
  {
   "cell_type": "code",
   "execution_count": null,
   "outputs": [],
   "source": [],
   "metadata": {
    "collapsed": false
   },
   "id": "cf8079696eda9178"
  }
 ],
 "metadata": {
  "kernelspec": {
   "display_name": "Python 3",
   "language": "python",
   "name": "python3"
  },
  "language_info": {
   "codemirror_mode": {
    "name": "ipython",
    "version": 2
   },
   "file_extension": ".py",
   "mimetype": "text/x-python",
   "name": "python",
   "nbconvert_exporter": "python",
   "pygments_lexer": "ipython2",
   "version": "2.7.6"
  }
 },
 "nbformat": 4,
 "nbformat_minor": 5
}

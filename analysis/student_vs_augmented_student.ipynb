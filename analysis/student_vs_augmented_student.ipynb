{
 "cells": [
  {
   "cell_type": "code",
   "execution_count": 36,
   "id": "initial_id",
   "metadata": {
    "collapsed": true,
    "ExecuteTime": {
     "end_time": "2024-03-08T13:41:46.705971Z",
     "start_time": "2024-03-08T13:41:46.684400Z"
    }
   },
   "outputs": [],
   "source": [
    "import json\n",
    "import os\n",
    "\n",
    "import numpy as np\n",
    "import matplotlib.pyplot as plt\n",
    "import pandas as pd\n",
    "%matplotlib inline\n",
    "\n",
    "SAVE_PLOTS = True\n",
    "\n",
    "# image save path\n",
    "image_save_path = 'plots'"
   ]
  },
  {
   "cell_type": "code",
   "execution_count": 9,
   "outputs": [],
   "source": [
    "# load the predictions\n",
    "# student\n",
    "with open('../out/bert_student/m5_k10/shen_2_lr0.0002_e4/results/results.json', 'r') as f:\n",
    "    student_mc_results = json.load(f)\n",
    "    \n",
    "# augmented student\n",
    "# shen=2, lr=0.0002, e=2\n",
    "with open('../out/bert_student_augmented/m5_k10/shen_2_lr0.0002_e2_augmented/results/results.json', 'r') as f:\n",
    "    student_augmented_mc_results = json.load(f)"
   ],
   "metadata": {
    "collapsed": false,
    "ExecuteTime": {
     "end_time": "2024-03-08T13:32:02.575636Z",
     "start_time": "2024-03-08T13:32:02.565509Z"
    }
   },
   "id": "10bad592be03dd9b"
  },
  {
   "cell_type": "code",
   "execution_count": 10,
   "outputs": [],
   "source": [
    "SMALL_SIZE = 12\n",
    "MEDIUM_SIZE = 14\n",
    "BIGGER_SIZE = 16\n",
    "\n",
    "plt.rc('font', size=SMALL_SIZE)          # controls default text sizes\n",
    "plt.rc('axes', titlesize=SMALL_SIZE)     # fontsize of the axes title\n",
    "plt.rc('axes', labelsize=MEDIUM_SIZE)    # fontsize of the x and y labels\n",
    "plt.rc('xtick', labelsize=SMALL_SIZE)    # fontsize of the tick labels\n",
    "plt.rc('ytick', labelsize=SMALL_SIZE)    # fontsize of the tick labels\n",
    "plt.rc('legend', fontsize=SMALL_SIZE)    # legend fontsize\n",
    "plt.rc('figure', titlesize=BIGGER_SIZE)  # fontsize of the figure title\n",
    "\n",
    "plt.rcParams[\"font.family\"] = \"serif\""
   ],
   "metadata": {
    "collapsed": false,
    "ExecuteTime": {
     "end_time": "2024-03-08T13:32:02.854091Z",
     "start_time": "2024-03-08T13:32:02.851393Z"
    }
   },
   "id": "9814c65452f25aa3"
  },
  {
   "cell_type": "code",
   "execution_count": 11,
   "outputs": [
    {
     "name": "stdout",
     "output_type": "stream",
     "text": [
      "Student F1: 0.9807\n",
      "Augmented Student F1: 0.9820\n",
      "Student AUC: 0.9915\n",
      "Augmented Student AUC: 0.9916\n"
     ]
    }
   ],
   "source": [
    "# predictive performance\n",
    "\n",
    "# f1\n",
    "print(f\"Student F1: {student_mc_results['f1_score']:.4f}\")\n",
    "print(f\"Augmented Student F1: {student_augmented_mc_results['f1_score']:.4f}\")\n",
    "\n",
    "# auc\n",
    "print(f\"Student AUC: {student_mc_results['auc_score']:.4f}\")\n",
    "print(f\"Augmented Student AUC: {student_augmented_mc_results['auc_score']:.4f}\")"
   ],
   "metadata": {
    "collapsed": false,
    "ExecuteTime": {
     "end_time": "2024-03-08T13:32:03.188581Z",
     "start_time": "2024-03-08T13:32:03.184568Z"
    }
   },
   "id": "467d9e09cbbec141"
  },
  {
   "cell_type": "code",
   "execution_count": 28,
   "outputs": [
    {
     "name": "stdout",
     "output_type": "stream",
     "text": [
      "Student ECE: 0.3441\n",
      "Augmented Student ECE: 0.3446\n",
      "Student Brier: 0.0249\n",
      "Augmented Student Brier: 0.0240\n"
     ]
    }
   ],
   "source": [
    "# uncertainty performance\n",
    "\n",
    "# ece\n",
    "print(f\"Student ECE: {student_mc_results['ece_score']:.4f}\")\n",
    "print(f\"Augmented Student ECE: {student_augmented_mc_results['ece_score']:.4f}\")\n",
    "\n",
    "# brier\n",
    "print(f\"Student Brier: {student_mc_results['brier_score']:.4f}\")\n",
    "print(f\"Augmented Student Brier: {student_augmented_mc_results['brier_score']:.4f}\")"
   ],
   "metadata": {
    "collapsed": false,
    "ExecuteTime": {
     "end_time": "2024-03-08T13:39:23.371294Z",
     "start_time": "2024-03-08T13:39:23.362370Z"
    }
   },
   "id": "921c452152d97abd"
  },
  {
   "cell_type": "code",
   "execution_count": 29,
   "outputs": [],
   "source": [
    "student_results = {\n",
    "    'f1': student_mc_results['f1_score'],\n",
    "    'auc': student_mc_results['auc_score'],\n",
    "    'ece': student_mc_results['ece_score'],\n",
    "    'brier': student_mc_results['brier_score']\n",
    "}\n",
    "\n",
    "student_augmented_results = {\n",
    "    'f1': student_augmented_mc_results['f1_score'],\n",
    "    'auc': student_augmented_mc_results['auc_score'],\n",
    "    'ece': student_augmented_mc_results['ece_score'],\n",
    "    'brier': student_augmented_mc_results['brier_score']\n",
    "}\n",
    "\n",
    "results_df = pd.DataFrame([student_results, student_augmented_results], index=['Student', 'Augmented Student'])"
   ],
   "metadata": {
    "collapsed": false,
    "ExecuteTime": {
     "end_time": "2024-03-08T13:39:24.233459Z",
     "start_time": "2024-03-08T13:39:24.226250Z"
    }
   },
   "id": "af4da3473c19e761"
  },
  {
   "cell_type": "code",
   "execution_count": 35,
   "outputs": [
    {
     "name": "stdout",
     "output_type": "stream",
     "text": [
      "\\begin{tabular}{lrrrr}\n",
      "\\toprule\n",
      "{} &    f1 &   auc &   ece &  brier \\\\\n",
      "\\midrule\n",
      "Student           & 0.981 & 0.992 & 0.344 &  0.025 \\\\\n",
      "Augmented Student & 0.982 & 0.992 & 0.345 &  0.024 \\\\\n",
      "\\bottomrule\n",
      "\\end{tabular}\n"
     ]
    },
    {
     "name": "stderr",
     "output_type": "stream",
     "text": [
      "<ipython-input-35-e61befb4f460>:2: FutureWarning: In future versions `DataFrame.to_latex` is expected to utilise the base implementation of `Styler.to_latex` for formatting and rendering. The arguments signature may therefore change. It is recommended instead to use `DataFrame.style.to_latex` which also contains additional functionality.\n",
      "  print(results_df.to_latex(index=True, float_format=\"{:.3f}\".format))\n"
     ]
    }
   ],
   "source": [
    "# round all values to 3 decimal places\n",
    "print(results_df.to_latex(index=True, float_format=\"{:.3f}\".format))"
   ],
   "metadata": {
    "collapsed": false,
    "ExecuteTime": {
     "end_time": "2024-03-08T13:41:32.924122Z",
     "start_time": "2024-03-08T13:41:32.874941Z"
    }
   },
   "id": "8dbf65bf94ec3bad"
  },
  {
   "cell_type": "code",
   "execution_count": 13,
   "outputs": [
    {
     "name": "stdout",
     "output_type": "stream",
     "text": [
      "Student avg. BALD score:  0.006128525281914432\n",
      "Augmented Student avg. BALD score:  0.006784983642710002\n"
     ]
    }
   ],
   "source": [
    "print(\"Student avg. BALD score: \", np.mean(student_mc_results['bald_score']))\n",
    "print(\"Augmented Student avg. BALD score: \", np.mean(student_augmented_mc_results['bald_score']))"
   ],
   "metadata": {
    "collapsed": false,
    "ExecuteTime": {
     "end_time": "2024-03-08T13:32:03.918710Z",
     "start_time": "2024-03-08T13:32:03.915120Z"
    }
   },
   "id": "e6b95d86cbdf18e9"
  },
  {
   "cell_type": "code",
   "execution_count": 37,
   "outputs": [],
   "source": [
    "# calibration plot\n",
    "from sklearn.calibration import calibration_curve\n",
    "\n",
    "with open(f'../out/bert_teacher/final_e3_lr2_hd020_ad020_cd030/results/results.json', 'r') as f:\n",
    "        teacher_results = json.load(f) # these are actually the results from the MCD model!\n",
    "\n",
    "plt.figure(figsize=(10, 8))\n",
    "\n",
    "# student\n",
    "fop, mpv = calibration_curve(y_true=student_mc_results['y_true'], y_prob=student_mc_results['y_prob'], n_bins=10, normalize=True)\n",
    "plt.plot(mpv, fop, marker='.', lw=3, label='Student', color='darkorange')\n",
    "# augmented student\n",
    "fop, mpv = calibration_curve(y_true=student_augmented_mc_results['y_true'], y_prob=student_augmented_mc_results['y_prob'], n_bins=10, normalize=True)\n",
    "plt.plot(mpv, fop, marker='.', lw=3, label='Augmented Student', color='green')\n",
    "\n",
    "plt.plot([0, 1], [0, 1], linestyle='--', color='grey', label='Perfect Calibration')\n",
    "\n",
    "plt.xlabel('Mean Predicted Probability')\n",
    "plt.ylabel('Fraction of Positives')\n",
    "plt.title('Model Calibration')\n",
    "plt.legend()\n",
    "if SAVE_PLOTS:\n",
    "    plt.tight_layout()\n",
    "    plt.savefig(os.path.join(image_save_path, f\"plot_calibration_plot_student_augmented_student.pdf\"))\n",
    "    plt.close()"
   ],
   "metadata": {
    "collapsed": false,
    "ExecuteTime": {
     "end_time": "2024-03-08T13:41:52.996513Z",
     "start_time": "2024-03-08T13:41:52.929478Z"
    }
   },
   "id": "51a1b4d1a1cb6cf5"
  },
  {
   "cell_type": "code",
   "execution_count": 15,
   "outputs": [
    {
     "data": {
      "text/plain": "(0.9799758745476479, 0.9806576402321083, 0.9820213799805636)"
     },
     "execution_count": 15,
     "metadata": {},
     "output_type": "execute_result"
    }
   ],
   "source": [
    "# f1 score\n",
    "teacher_results['f1_score'], student_mc_results['f1_score'], student_augmented_mc_results['f1_score']\n",
    "# augmented student > student > teacher"
   ],
   "metadata": {
    "collapsed": false,
    "ExecuteTime": {
     "end_time": "2024-03-08T13:32:04.588972Z",
     "start_time": "2024-03-08T13:32:04.584213Z"
    }
   },
   "id": "aace2d462dbb870c"
  },
  {
   "cell_type": "code",
   "execution_count": 16,
   "outputs": [
    {
     "data": {
      "text/plain": "(0.02421403987034935, 0.024903782388658317, 0.02403716299954644)"
     },
     "execution_count": 16,
     "metadata": {},
     "output_type": "execute_result"
    }
   ],
   "source": [
    "# brier score\n",
    "teacher_results['brier_score'], student_mc_results['brier_score'], student_augmented_mc_results['brier_score']\n",
    "# augmented student > teacher > student"
   ],
   "metadata": {
    "collapsed": false,
    "ExecuteTime": {
     "end_time": "2024-03-08T13:32:05.473961Z",
     "start_time": "2024-03-08T13:32:05.464187Z"
    }
   },
   "id": "d026ba8121466bba"
  },
  {
   "cell_type": "code",
   "execution_count": 17,
   "outputs": [
    {
     "data": {
      "text/plain": "(0.3457771061929799, 0.3441301544278075, 0.34460585905099667)"
     },
     "execution_count": 17,
     "metadata": {},
     "output_type": "execute_result"
    }
   ],
   "source": [
    "# ece score\n",
    "teacher_results['ece_score'], student_mc_results['ece_score'], student_augmented_mc_results['ece_score']\n",
    "# student > augmented student > teacher"
   ],
   "metadata": {
    "collapsed": false,
    "ExecuteTime": {
     "end_time": "2024-03-08T13:32:06.266477Z",
     "start_time": "2024-03-08T13:32:06.262623Z"
    }
   },
   "id": "9b0c74517b709381"
  },
  {
   "cell_type": "code",
   "execution_count": 50,
   "outputs": [
    {
     "data": {
      "text/plain": "(0.07662550488332917, 0.07719258805670362, 0.07883733879906366)"
     },
     "execution_count": 50,
     "metadata": {},
     "output_type": "execute_result"
    }
   ],
   "source": [
    "# entropy\n",
    "from scipy.stats import entropy\n",
    "\n",
    "teacher_entropy = np.mean([entropy([p, 1-p])  for p in teacher_results['y_prob']])\n",
    "student_entropy = np.mean([entropy([p, 1-p])  for p in student_mc_results['y_prob']])\n",
    "student_augmented_entropy = np.mean([entropy([p, 1-p])  for p in student_augmented_mc_results['y_prob']])\n",
    "\n",
    "teacher_entropy, student_entropy, student_augmented_entropy # the higher, the more uncertain (flatter distribution)\n",
    "# augmented student > student > teacher \n",
    "\n",
    "# corresponds to high-entropy posterior distribution"
   ],
   "metadata": {
    "collapsed": false,
    "ExecuteTime": {
     "end_time": "2024-03-08T16:17:00.179475Z",
     "start_time": "2024-03-08T16:17:00.176780Z"
    }
   },
   "id": "561a344fc7e19c68"
  },
  {
   "cell_type": "code",
   "execution_count": 51,
   "outputs": [],
   "source": [
    "# similarity of predictive distributions - cdf plot\n",
    "from scipy.special import logit\n",
    "import seaborn as sns\n",
    "\n",
    "# Transforming data using logit function to better visualize skewed data\n",
    "student_logit_dist = logit(np.array(student_mc_results['y_prob']))\n",
    "augmented_student_logit_dist = logit(np.array(student_augmented_mc_results['y_prob']))\n",
    "\n",
    "plt.figure(figsize=(10, 8))\n",
    "sns.kdeplot(student_logit_dist, bw_adjust=0.5, lw=3, label=f'Student (Entropy: {student_entropy:.3f})', color='darkorange')\n",
    "sns.kdeplot(student_logit_dist, bw_adjust=0.5, lw=3, label=f'Augmented Student (Entropy: {student_entropy:.3f})', color='green')\n",
    "#sns.kdeplot(logit_dist3, bw_adjust=0.5, label='Distribution 3')\n",
    "plt.xlabel('Logit of Predictive Probability')\n",
    "plt.ylabel('Density')\n",
    "plt.title('Predictive Distributions (Logit Scale)')\n",
    "plt.legend()\n",
    "plt.grid(True)\n",
    "if SAVE_PLOTS:\n",
    "    plt.tight_layout()\n",
    "    plt.savefig(os.path.join(image_save_path, f\"plot_density_logit_student_augmented_student.pdf\"))\n",
    "    plt.close()"
   ],
   "metadata": {
    "collapsed": false,
    "ExecuteTime": {
     "end_time": "2024-03-08T16:17:22.931186Z",
     "start_time": "2024-03-08T16:17:22.762264Z"
    }
   },
   "id": "11e525bd064bba8d"
  },
  {
   "cell_type": "code",
   "execution_count": 24,
   "outputs": [
    {
     "data": {
      "text/plain": "<Figure size 720x576 with 1 Axes>",
      "image/png": "[encoded data removed]"
     },
     "metadata": {
      "needs_background": "light"
     },
     "output_type": "display_data"
    }
   ],
   "source": [
    "def calculate_cdf(data):\n",
    "    # Sort data\n",
    "    data_sorted = np.sort(data)\n",
    "    # Calculate CDF values\n",
    "    cdf = np.arange(1, len(data) + 1) / len(data)\n",
    "    return data_sorted, cdf\n",
    "\n",
    "# Calculate CDF for each distribution\n",
    "data_sorted2, cdf2 = calculate_cdf(np.array(student_mc_results['y_prob']))\n",
    "data_sorted3, cdf3 = calculate_cdf(np.array(student_augmented_mc_results['y_prob']))\n",
    "\n",
    "plt.figure(figsize=(10, 8))\n",
    "plt.plot(data_sorted2, cdf2, label='CDF Student', color='darkorange')\n",
    "plt.plot(data_sorted3, cdf3, label='CDF Augmented Student', color='green')\n",
    "plt.xlabel('Predictive Probability')\n",
    "plt.ylabel('CDF')\n",
    "plt.title('CDF Plot of Predictive Distributions')\n",
    "plt.legend()\n",
    "plt.grid(True)\n",
    "plt.show()"
   ],
   "metadata": {
    "collapsed": false,
    "ExecuteTime": {
     "end_time": "2024-03-08T13:34:22.723462Z",
     "start_time": "2024-03-08T13:34:22.648925Z"
    }
   },
   "id": "6a20b9257b7b818f"
  },
  {
   "cell_type": "code",
   "execution_count": 25,
   "outputs": [
    {
     "data": {
      "text/plain": "<Figure size 720x576 with 1 Axes>",
      "image/png": "[encoded data removed]"
     },
     "metadata": {
      "needs_background": "light"
     },
     "output_type": "display_data"
    }
   ],
   "source": [
    "# histogram of difference between predicted probability and true label\n",
    "plt.figure(figsize=(10, 8))\n",
    "# need to turn lists in np arrays   \n",
    "student_mc_results['y_true'] = np.array(student_mc_results['y_true'])\n",
    "student_mc_results['y_prob'] = np.array(student_mc_results['y_prob'])\n",
    "student_augmented_mc_results['y_true'] = np.array(student_augmented_mc_results['y_true'])\n",
    "student_augmented_mc_results['y_prob'] = np.array(student_augmented_mc_results['y_prob'])\n",
    "\n",
    "diff_student = np.abs(student_mc_results['y_true'] - student_mc_results['y_prob'])\n",
    "diff_augmented_student = np.abs(student_augmented_mc_results['y_true'] - student_augmented_mc_results['y_prob'])\n",
    "\n",
    "cropped_diff_student = diff_student[diff_student > 0.05]\n",
    "cropped_diff_augmented_student = diff_augmented_student[diff_augmented_student > 0.05]\n",
    "\n",
    "plt.hist(diff_student[diff_student > 0.05], bins=20, alpha=0.5, label='Student', density=True, color='darkorange')\n",
    "plt.hist(diff_augmented_student[diff_augmented_student > 0.05], bins=20, alpha=0.5, label='Augmented Student', density=True, color='green')\n",
    "plt.xlabel('Difference between Predicted Probability and True Label')\n",
    "plt.ylabel('Frequency')\n",
    "plt.title('Histogram of Difference between Predicted Probability and True Label')\n",
    "plt.legend();"
   ],
   "metadata": {
    "collapsed": false,
    "ExecuteTime": {
     "end_time": "2024-03-08T13:35:02.307246Z",
     "start_time": "2024-03-08T13:35:02.175602Z"
    }
   },
   "id": "f77e73ea30f7fd83"
  },
  {
   "cell_type": "code",
   "execution_count": 41,
   "outputs": [
    {
     "data": {
      "text/plain": "dict_keys(['y_true', 'y_pred', 'y_prob', 'predictive_variance', 'average_inference_time', 'accuracy_score', 'precision_score', 'recall_score', 'f1_score', 'auc_score', 'nll_score', 'brier_score', 'ece_score', 'bald_score'])"
     },
     "execution_count": 41,
     "metadata": {},
     "output_type": "execute_result"
    }
   ],
   "source": [
    "student_augmented_mc_results.keys()"
   ],
   "metadata": {
    "collapsed": false,
    "ExecuteTime": {
     "end_time": "2024-03-08T13:45:28.087608Z",
     "start_time": "2024-03-08T13:45:28.068978Z"
    }
   },
   "id": "761362580b1ce459"
  },
  {
   "cell_type": "code",
   "execution_count": 48,
   "outputs": [
    {
     "data": {
      "text/plain": "<Figure size 720x576 with 1 Axes>",
      "image/png": "[encoded data removed]"
     },
     "metadata": {
      "needs_background": "light"
     },
     "output_type": "display_data"
    }
   ],
   "source": [
    "# clipped histogram between 0.05 and 0.95 of student and augmented student prob.\n",
    "plt.figure(figsize=(10, 8))\n",
    "\n",
    "prob_student = student_mc_results['y_prob']\n",
    "prob_augmented_student = student_augmented_mc_results['y_prob']\n",
    "\n",
    "plt.hist(prob_student, bins=20, alpha=0.5, label='Student', density=True, color='darkorange', range=(0.05, 0.95))\n",
    "plt.hist(prob_augmented_student, bins=20, alpha=0.5, label='Augmented Student', density=True, color='green', range=(0.05, 0.95))\n",
    "plt.xlabel('Predicted Probability (Values between 0.05 and 0.95)')\n",
    "plt.ylabel('Frequency')\n",
    "plt.title('Posterior Predictive Distribution')\n",
    "plt.legend();"
   ],
   "metadata": {
    "collapsed": false,
    "ExecuteTime": {
     "end_time": "2024-03-08T13:47:35.971800Z",
     "start_time": "2024-03-08T13:47:35.842574Z"
    }
   },
   "id": "f5493a556781293f"
  },
  {
   "cell_type": "code",
   "execution_count": null,
   "outputs": [],
   "source": [],
   "metadata": {
    "collapsed": false
   },
   "id": "a4409283e4a481f4"
  }
 ],
 "metadata": {
  "kernelspec": {
   "display_name": "Python 3",
   "language": "python",
   "name": "python3"
  },
  "language_info": {
   "codemirror_mode": {
    "name": "ipython",
    "version": 2
   },
   "file_extension": ".py",
   "mimetype": "text/x-python",
   "name": "python",
   "nbconvert_exporter": "python",
   "pygments_lexer": "ipython2",
   "version": "2.7.6"
  }
 },
 "nbformat": 4,
 "nbformat_minor": 5
}

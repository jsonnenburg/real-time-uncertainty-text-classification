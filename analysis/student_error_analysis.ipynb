{
 "cells": [
  {
   "cell_type": "markdown",
   "source": [
    "where does student fail? is it the harder or easier sequences? uncertainty?\n",
    "- is it the harder or easier sequences? (as indicated by the teacher uncertainty)\n",
    "- to this end, we can use the teacher uncertainty as a proxy for the difficulty of the sequence, and inspect teacher uncertainty for the sequences where the student fails"
   ],
   "metadata": {
    "collapsed": false
   },
   "id": "1d1ced8a5a9eac0d"
  },
  {
   "cell_type": "code",
   "execution_count": 1,
   "id": "initial_id",
   "metadata": {
    "collapsed": true,
    "ExecuteTime": {
     "end_time": "2024-01-30T17:10:47.424642Z",
     "start_time": "2024-01-30T17:10:46.465670Z"
    }
   },
   "outputs": [],
   "source": [
    "import os\n",
    "import json\n",
    "\n",
    "import pandas as pd\n",
    "import numpy as np\n",
    "import matplotlib.pyplot as plt\n",
    "%matplotlib inline"
   ]
  },
  {
   "cell_type": "code",
   "execution_count": 2,
   "outputs": [
    {
     "data": {
      "text/plain": "                                                text  target\n0  in class still drunk from last night and this ...       1\n1  sighs of relief from beijing guoan fans <hasht...       0\n2  <user> <user> <user> they do why else do teach...       1\n3  preparing to be called a nigger all night i me...       1\n4           rt <user> we dont love these hoes <url>        1",
      "text/html": "<div>\n<style scoped>\n    .dataframe tbody tr th:only-of-type {\n        vertical-align: middle;\n    }\n\n    .dataframe tbody tr th {\n        vertical-align: top;\n    }\n\n    .dataframe thead th {\n        text-align: right;\n    }\n</style>\n<table border=\"1\" class=\"dataframe\">\n  <thead>\n    <tr style=\"text-align: right;\">\n      <th></th>\n      <th>text</th>\n      <th>target</th>\n    </tr>\n  </thead>\n  <tbody>\n    <tr>\n      <th>0</th>\n      <td>in class still drunk from last night and this ...</td>\n      <td>1</td>\n    </tr>\n    <tr>\n      <th>1</th>\n      <td>sighs of relief from beijing guoan fans &lt;hasht...</td>\n      <td>0</td>\n    </tr>\n    <tr>\n      <th>2</th>\n      <td>&lt;user&gt; &lt;user&gt; &lt;user&gt; they do why else do teach...</td>\n      <td>1</td>\n    </tr>\n    <tr>\n      <th>3</th>\n      <td>preparing to be called a nigger all night i me...</td>\n      <td>1</td>\n    </tr>\n    <tr>\n      <th>4</th>\n      <td>rt &lt;user&gt; we dont love these hoes &lt;url&gt;</td>\n      <td>1</td>\n    </tr>\n  </tbody>\n</table>\n</div>"
     },
     "execution_count": 2,
     "metadata": {},
     "output_type": "execute_result"
    }
   ],
   "source": [
    "# load the dataset\n",
    "df_test = pd.read_csv('../data/robustness_study/preprocessed/test.csv', sep='\\t', index_col=0)\n",
    "df_test.head()"
   ],
   "metadata": {
    "collapsed": false,
    "ExecuteTime": {
     "end_time": "2024-01-30T17:10:47.462081Z",
     "start_time": "2024-01-30T17:10:47.416306Z"
    }
   },
   "id": "8a50ac8f81854c7b"
  },
  {
   "cell_type": "code",
   "execution_count": 3,
   "outputs": [],
   "source": [
    "# load the predictions - focus on MC dropout\n",
    "# teacher predictions\n",
    "with open('../out/bert_teacher/final_hd020_ad030_cd020/results/results.json', 'r') as f:\n",
    "    teacher_mcd_results = json.load(f)\n",
    "    \n",
    "# student predictions\n",
    "with open('../out/bert_student/aleatoric_and_epistemic/m5_k10/e2/results/results.json', 'r') as f:\n",
    "    student_mcd_results = json.load(f)"
   ],
   "metadata": {
    "collapsed": false,
    "ExecuteTime": {
     "end_time": "2024-01-30T17:10:50.200277Z",
     "start_time": "2024-01-30T17:10:50.190403Z"
    }
   },
   "id": "c48a94a3c39aae5e"
  },
  {
   "cell_type": "code",
   "execution_count": 4,
   "outputs": [
    {
     "data": {
      "text/plain": "   y_true  y_pred    y_prob  total_uncertainty\n0       1       1  0.997665           0.076296\n1       0       0  0.027636           0.089676\n2       1       1  0.997591           0.099287\n3       1       1  0.995800           0.344908\n4       1       1  0.998120           0.033533",
      "text/html": "<div>\n<style scoped>\n    .dataframe tbody tr th:only-of-type {\n        vertical-align: middle;\n    }\n\n    .dataframe tbody tr th {\n        vertical-align: top;\n    }\n\n    .dataframe thead th {\n        text-align: right;\n    }\n</style>\n<table border=\"1\" class=\"dataframe\">\n  <thead>\n    <tr style=\"text-align: right;\">\n      <th></th>\n      <th>y_true</th>\n      <th>y_pred</th>\n      <th>y_prob</th>\n      <th>total_uncertainty</th>\n    </tr>\n  </thead>\n  <tbody>\n    <tr>\n      <th>0</th>\n      <td>1</td>\n      <td>1</td>\n      <td>0.997665</td>\n      <td>0.076296</td>\n    </tr>\n    <tr>\n      <th>1</th>\n      <td>0</td>\n      <td>0</td>\n      <td>0.027636</td>\n      <td>0.089676</td>\n    </tr>\n    <tr>\n      <th>2</th>\n      <td>1</td>\n      <td>1</td>\n      <td>0.997591</td>\n      <td>0.099287</td>\n    </tr>\n    <tr>\n      <th>3</th>\n      <td>1</td>\n      <td>1</td>\n      <td>0.995800</td>\n      <td>0.344908</td>\n    </tr>\n    <tr>\n      <th>4</th>\n      <td>1</td>\n      <td>1</td>\n      <td>0.998120</td>\n      <td>0.033533</td>\n    </tr>\n  </tbody>\n</table>\n</div>"
     },
     "execution_count": 4,
     "metadata": {},
     "output_type": "execute_result"
    }
   ],
   "source": [
    "teacher_mcd_predictions = pd.DataFrame({'y_true': teacher_mcd_results['y_true'],\n",
    "                                        'y_pred': teacher_mcd_results['y_pred'],\n",
    "                                        'y_prob': teacher_mcd_results['y_prob'],\n",
    "                                        'total_uncertainty': teacher_mcd_results['total_uncertainty'],\n",
    "                                       },\n",
    "                                       index=df_test.index)\n",
    "\n",
    "teacher_mcd_predictions.head()"
   ],
   "metadata": {
    "collapsed": false,
    "ExecuteTime": {
     "end_time": "2024-01-30T17:10:52.785583Z",
     "start_time": "2024-01-30T17:10:52.778963Z"
    }
   },
   "id": "55429dfa0292f87d"
  },
  {
   "cell_type": "code",
   "execution_count": 5,
   "outputs": [
    {
     "data": {
      "text/plain": "   y_true  y_pred    y_prob  total_uncertainty\n0       1       1  0.998567          33.030453\n1       0       0  0.015383          44.247200\n2       1       1  0.998516          31.581087\n3       1       1  0.998464          33.331455\n4       1       1  0.998553          28.962753",
      "text/html": "<div>\n<style scoped>\n    .dataframe tbody tr th:only-of-type {\n        vertical-align: middle;\n    }\n\n    .dataframe tbody tr th {\n        vertical-align: top;\n    }\n\n    .dataframe thead th {\n        text-align: right;\n    }\n</style>\n<table border=\"1\" class=\"dataframe\">\n  <thead>\n    <tr style=\"text-align: right;\">\n      <th></th>\n      <th>y_true</th>\n      <th>y_pred</th>\n      <th>y_prob</th>\n      <th>total_uncertainty</th>\n    </tr>\n  </thead>\n  <tbody>\n    <tr>\n      <th>0</th>\n      <td>1</td>\n      <td>1</td>\n      <td>0.998567</td>\n      <td>33.030453</td>\n    </tr>\n    <tr>\n      <th>1</th>\n      <td>0</td>\n      <td>0</td>\n      <td>0.015383</td>\n      <td>44.247200</td>\n    </tr>\n    <tr>\n      <th>2</th>\n      <td>1</td>\n      <td>1</td>\n      <td>0.998516</td>\n      <td>31.581087</td>\n    </tr>\n    <tr>\n      <th>3</th>\n      <td>1</td>\n      <td>1</td>\n      <td>0.998464</td>\n      <td>33.331455</td>\n    </tr>\n    <tr>\n      <th>4</th>\n      <td>1</td>\n      <td>1</td>\n      <td>0.998553</td>\n      <td>28.962753</td>\n    </tr>\n  </tbody>\n</table>\n</div>"
     },
     "execution_count": 5,
     "metadata": {},
     "output_type": "execute_result"
    }
   ],
   "source": [
    "student_mcd_predictions = pd.DataFrame({'y_true': student_mcd_results['y_true'],\n",
    "                                        'y_pred': student_mcd_results['y_pred'],\n",
    "                                        'y_prob': student_mcd_results['y_prob'],\n",
    "                                        'total_uncertainty': student_mcd_results['total_uncertainty'],\n",
    "                                       },\n",
    "                                       index=df_test.index)\n",
    "\n",
    "student_mcd_predictions.head()"
   ],
   "metadata": {
    "collapsed": false,
    "ExecuteTime": {
     "end_time": "2024-01-30T17:10:56.843376Z",
     "start_time": "2024-01-30T17:10:56.836981Z"
    }
   },
   "id": "406e020929b57082"
  },
  {
   "cell_type": "code",
   "execution_count": 6,
   "outputs": [],
   "source": [
    "# TODO: how do we compute total uncertainty, this seems incorrect "
   ],
   "metadata": {
    "collapsed": false,
    "ExecuteTime": {
     "end_time": "2024-01-30T17:11:11.392809Z",
     "start_time": "2024-01-30T17:11:11.385539Z"
    }
   },
   "id": "fdc2eaa9c20233c0"
  },
  {
   "cell_type": "code",
   "execution_count": 7,
   "outputs": [],
   "source": [
    "# get all sequences that teacher gets right and student gets wrong\n",
    "# teacher gets right\n",
    "teacher_correct = teacher_mcd_predictions[teacher_mcd_predictions['y_true'] == teacher_mcd_predictions['y_pred']]\n",
    "# student gets wrong\n",
    "student_wrong = student_mcd_predictions[student_mcd_predictions['y_true'] != student_mcd_predictions['y_pred']]"
   ],
   "metadata": {
    "collapsed": false,
    "ExecuteTime": {
     "end_time": "2024-01-30T17:11:14.481587Z",
     "start_time": "2024-01-30T17:11:14.472266Z"
    }
   },
   "id": "5578ffb0da8f076"
  },
  {
   "cell_type": "code",
   "execution_count": 8,
   "outputs": [],
   "source": [
    "# get the sequences where the teacher gets right and the student gets wrong\n",
    "teacher_correct_student_wrong = teacher_correct[teacher_correct.index.isin(student_wrong.index)]"
   ],
   "metadata": {
    "collapsed": false,
    "ExecuteTime": {
     "end_time": "2024-01-30T17:11:16.628184Z",
     "start_time": "2024-01-30T17:11:16.622628Z"
    }
   },
   "id": "aa3b2b01bc01f26a"
  },
  {
   "cell_type": "code",
   "execution_count": 9,
   "outputs": [],
   "source": [
    "# subset corresponding student predictions\n",
    "student_wrong_teacher_correct = student_wrong.loc[teacher_correct_student_wrong.index]"
   ],
   "metadata": {
    "collapsed": false,
    "ExecuteTime": {
     "end_time": "2024-01-30T17:11:17.165222Z",
     "start_time": "2024-01-30T17:11:17.159527Z"
    }
   },
   "id": "ed1fb98e14bed8c4"
  },
  {
   "cell_type": "code",
   "execution_count": 10,
   "outputs": [
    {
     "data": {
      "text/plain": "<Figure size 864x432 with 1 Axes>",
      "image/png": "[encoded data removed]"
     },
     "metadata": {
      "needs_background": "light"
     },
     "output_type": "display_data"
    }
   ],
   "source": [
    "# plot teacher y_prob for the sequences where the teacher gets right and the student gets wrong along with mean\n",
    "plt.figure(figsize=(12, 6))\n",
    "plt.hist(teacher_correct_student_wrong['y_prob'], bins=30, alpha=0.5, label='teacher')\n",
    "plt.axvline(teacher_correct_student_wrong['y_prob'].mean(), color='blue')\n",
    "plt.hist(student_wrong_teacher_correct['y_prob'], bins=30, alpha=0.5, label='student')\n",
    "plt.axvline(student_wrong_teacher_correct['y_prob'].mean(), color='brown')\n",
    "plt.xlabel('y_prob')\n",
    "plt.ylabel('count')\n",
    "plt.xlim(0, 1)\n",
    "plt.legend();"
   ],
   "metadata": {
    "collapsed": false,
    "ExecuteTime": {
     "end_time": "2024-01-30T17:11:18.274658Z",
     "start_time": "2024-01-30T17:11:18.132186Z"
    }
   },
   "id": "40b73ca62157e42b"
  },
  {
   "cell_type": "code",
   "execution_count": 11,
   "outputs": [
    {
     "data": {
      "text/plain": "<Figure size 864x432 with 1 Axes>",
      "image/png": "[encoded data removed]"
     },
     "metadata": {
      "needs_background": "light"
     },
     "output_type": "display_data"
    }
   ],
   "source": [
    "# total uncertainty - overall teacher vs student and for the sequences where the teacher gets right and the student gets wrong\n",
    "plt.figure(figsize=(12, 6))\n",
    "plt.hist(teacher_mcd_predictions['total_uncertainty'], bins=30, alpha=0.5, label='teacher')\n",
    "plt.axvline(teacher_mcd_predictions['total_uncertainty'].mean(), color='blue')\n",
    "plt.hist(student_mcd_predictions['total_uncertainty'], alpha=0.5, label='student')\n",
    "plt.axvline(student_mcd_predictions['total_uncertainty'].mean(), color='brown')\n",
    "plt.xlabel('total_uncertainty')\n",
    "plt.ylabel('count')\n",
    "plt.legend();"
   ],
   "metadata": {
    "collapsed": false,
    "ExecuteTime": {
     "end_time": "2024-01-30T17:11:49.667048Z",
     "start_time": "2024-01-30T17:11:49.545771Z"
    }
   },
   "id": "35f2c6e276ae41d5"
  },
  {
   "cell_type": "code",
   "execution_count": 12,
   "outputs": [
    {
     "data": {
      "text/plain": "<Figure size 432x288 with 1 Axes>",
      "image/png": "[encoded data removed]"
     },
     "metadata": {
      "needs_background": "light"
     },
     "output_type": "display_data"
    }
   ],
   "source": [
    "plt.hist(student_mcd_predictions['y_prob'], bins=10);"
   ],
   "metadata": {
    "collapsed": false,
    "ExecuteTime": {
     "end_time": "2024-01-30T17:12:12.676686Z",
     "start_time": "2024-01-30T17:12:12.618984Z"
    }
   },
   "id": "44fd31ea4e1ef879"
  },
  {
   "cell_type": "code",
   "execution_count": null,
   "outputs": [],
   "source": [],
   "metadata": {
    "collapsed": false
   },
   "id": "a81b61e65e05597f"
  }
 ],
 "metadata": {
  "kernelspec": {
   "display_name": "Python 3",
   "language": "python",
   "name": "python3"
  },
  "language_info": {
   "codemirror_mode": {
    "name": "ipython",
    "version": 2
   },
   "file_extension": ".py",
   "mimetype": "text/x-python",
   "name": "python",
   "nbconvert_exporter": "python",
   "pygments_lexer": "ipython2",
   "version": "2.7.6"
  }
 },
 "nbformat": 4,
 "nbformat_minor": 5
}

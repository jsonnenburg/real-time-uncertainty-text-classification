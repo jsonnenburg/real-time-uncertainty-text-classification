{
 "cells": [
  {
   "cell_type": "markdown",
   "source": [
    "where does student fail? is it the harder or easier sequences? uncertainty?\n",
    "- is it the harder or easier sequences? (as indicated by the teacher uncertainty)\n",
    "- to this end, we can use the teacher uncertainty as a proxy for the difficulty of the sequence, and inspect teacher uncertainty for the sequences where the student fails"
   ],
   "metadata": {
    "collapsed": false
   },
   "id": "1d1ced8a5a9eac0d"
  },
  {
   "cell_type": "code",
   "execution_count": 1,
   "id": "initial_id",
   "metadata": {
    "collapsed": true,
    "ExecuteTime": {
     "end_time": "2024-02-01T08:53:31.142711Z",
     "start_time": "2024-02-01T08:53:28.718235Z"
    }
   },
   "outputs": [],
   "source": [
    "import os\n",
    "import json\n",
    "\n",
    "import pandas as pd\n",
    "import numpy as np\n",
    "import matplotlib.pyplot as plt\n",
    "%matplotlib inline"
   ]
  },
  {
   "cell_type": "code",
   "execution_count": 2,
   "outputs": [
    {
     "data": {
      "text/plain": "                                                text  target\n0  in class still drunk from last night and this ...       1\n1  sighs of relief from beijing guoan fans <hasht...       0\n2  <user> <user> <user> they do why else do teach...       1\n3  preparing to be called a nigger all night i me...       1\n4           rt <user> we dont love these hoes <url>        1",
      "text/html": "<div>\n<style scoped>\n    .dataframe tbody tr th:only-of-type {\n        vertical-align: middle;\n    }\n\n    .dataframe tbody tr th {\n        vertical-align: top;\n    }\n\n    .dataframe thead th {\n        text-align: right;\n    }\n</style>\n<table border=\"1\" class=\"dataframe\">\n  <thead>\n    <tr style=\"text-align: right;\">\n      <th></th>\n      <th>text</th>\n      <th>target</th>\n    </tr>\n  </thead>\n  <tbody>\n    <tr>\n      <th>0</th>\n      <td>in class still drunk from last night and this ...</td>\n      <td>1</td>\n    </tr>\n    <tr>\n      <th>1</th>\n      <td>sighs of relief from beijing guoan fans &lt;hasht...</td>\n      <td>0</td>\n    </tr>\n    <tr>\n      <th>2</th>\n      <td>&lt;user&gt; &lt;user&gt; &lt;user&gt; they do why else do teach...</td>\n      <td>1</td>\n    </tr>\n    <tr>\n      <th>3</th>\n      <td>preparing to be called a nigger all night i me...</td>\n      <td>1</td>\n    </tr>\n    <tr>\n      <th>4</th>\n      <td>rt &lt;user&gt; we dont love these hoes &lt;url&gt;</td>\n      <td>1</td>\n    </tr>\n  </tbody>\n</table>\n</div>"
     },
     "execution_count": 2,
     "metadata": {},
     "output_type": "execute_result"
    }
   ],
   "source": [
    "# load the dataset\n",
    "df_test = pd.read_csv('../data/robustness_study/preprocessed/test.csv', sep='\\t', index_col=0)\n",
    "df_test.head()"
   ],
   "metadata": {
    "collapsed": false,
    "ExecuteTime": {
     "end_time": "2024-02-01T08:53:32.065164Z",
     "start_time": "2024-02-01T08:53:32.030572Z"
    }
   },
   "id": "8a50ac8f81854c7b"
  },
  {
   "cell_type": "code",
   "execution_count": 4,
   "outputs": [],
   "source": [
    "# load the predictions - focus on MC dropout\n",
    "# teacher predictions\n",
    "with open('../out/bert_teacher/final_hd020_ad030_cd020/results/results.json', 'r') as f:\n",
    "    teacher_mcd_results = json.load(f)\n",
    "    \n",
    "# student predictions\n",
    "with open('../out/bert_student/m5_k10/e2/results/results.json', 'r') as f:\n",
    "    student_mcd_results = json.load(f)"
   ],
   "metadata": {
    "collapsed": false,
    "ExecuteTime": {
     "end_time": "2024-02-01T08:54:34.255591Z",
     "start_time": "2024-02-01T08:54:34.237494Z"
    }
   },
   "id": "c48a94a3c39aae5e"
  },
  {
   "cell_type": "code",
   "execution_count": 6,
   "outputs": [
    {
     "data": {
      "text/plain": "   y_true  y_pred    y_prob    bald_score\n0       1       1  0.998835  6.274786e-08\n1       0       0  0.015718  1.977161e-04\n2       1       1  0.998872  4.237518e-08\n3       1       1  0.998842  4.470348e-08\n4       1       1  0.998899  5.366746e-08",
      "text/html": "<div>\n<style scoped>\n    .dataframe tbody tr th:only-of-type {\n        vertical-align: middle;\n    }\n\n    .dataframe tbody tr th {\n        vertical-align: top;\n    }\n\n    .dataframe thead th {\n        text-align: right;\n    }\n</style>\n<table border=\"1\" class=\"dataframe\">\n  <thead>\n    <tr style=\"text-align: right;\">\n      <th></th>\n      <th>y_true</th>\n      <th>y_pred</th>\n      <th>y_prob</th>\n      <th>bald_score</th>\n    </tr>\n  </thead>\n  <tbody>\n    <tr>\n      <th>0</th>\n      <td>1</td>\n      <td>1</td>\n      <td>0.998835</td>\n      <td>6.274786e-08</td>\n    </tr>\n    <tr>\n      <th>1</th>\n      <td>0</td>\n      <td>0</td>\n      <td>0.015718</td>\n      <td>1.977161e-04</td>\n    </tr>\n    <tr>\n      <th>2</th>\n      <td>1</td>\n      <td>1</td>\n      <td>0.998872</td>\n      <td>4.237518e-08</td>\n    </tr>\n    <tr>\n      <th>3</th>\n      <td>1</td>\n      <td>1</td>\n      <td>0.998842</td>\n      <td>4.470348e-08</td>\n    </tr>\n    <tr>\n      <th>4</th>\n      <td>1</td>\n      <td>1</td>\n      <td>0.998899</td>\n      <td>5.366746e-08</td>\n    </tr>\n  </tbody>\n</table>\n</div>"
     },
     "execution_count": 6,
     "metadata": {},
     "output_type": "execute_result"
    }
   ],
   "source": [
    "teacher_mcd_predictions = pd.DataFrame({'y_true': teacher_mcd_results['y_true'],\n",
    "                                        'y_pred': teacher_mcd_results['y_pred'],\n",
    "                                        'y_prob': teacher_mcd_results['y_prob'],\n",
    "                                        'bald_score': teacher_mcd_results['bald_score'],\n",
    "                                       },\n",
    "                                       index=df_test.index)\n",
    "\n",
    "teacher_mcd_predictions.head()"
   ],
   "metadata": {
    "collapsed": false,
    "ExecuteTime": {
     "end_time": "2024-02-01T08:54:45.891415Z",
     "start_time": "2024-02-01T08:54:45.884326Z"
    }
   },
   "id": "55429dfa0292f87d"
  },
  {
   "cell_type": "code",
   "execution_count": 7,
   "outputs": [
    {
     "data": {
      "text/plain": "   y_true  y_pred    y_prob  bald_score\n0       1       1  0.998972    0.000007\n1       0       0  0.011629    0.035872\n2       1       1  0.999027    0.000002\n3       1       1  0.998862    0.000009\n4       1       1  0.999005    0.000004",
      "text/html": "<div>\n<style scoped>\n    .dataframe tbody tr th:only-of-type {\n        vertical-align: middle;\n    }\n\n    .dataframe tbody tr th {\n        vertical-align: top;\n    }\n\n    .dataframe thead th {\n        text-align: right;\n    }\n</style>\n<table border=\"1\" class=\"dataframe\">\n  <thead>\n    <tr style=\"text-align: right;\">\n      <th></th>\n      <th>y_true</th>\n      <th>y_pred</th>\n      <th>y_prob</th>\n      <th>bald_score</th>\n    </tr>\n  </thead>\n  <tbody>\n    <tr>\n      <th>0</th>\n      <td>1</td>\n      <td>1</td>\n      <td>0.998972</td>\n      <td>0.000007</td>\n    </tr>\n    <tr>\n      <th>1</th>\n      <td>0</td>\n      <td>0</td>\n      <td>0.011629</td>\n      <td>0.035872</td>\n    </tr>\n    <tr>\n      <th>2</th>\n      <td>1</td>\n      <td>1</td>\n      <td>0.999027</td>\n      <td>0.000002</td>\n    </tr>\n    <tr>\n      <th>3</th>\n      <td>1</td>\n      <td>1</td>\n      <td>0.998862</td>\n      <td>0.000009</td>\n    </tr>\n    <tr>\n      <th>4</th>\n      <td>1</td>\n      <td>1</td>\n      <td>0.999005</td>\n      <td>0.000004</td>\n    </tr>\n  </tbody>\n</table>\n</div>"
     },
     "execution_count": 7,
     "metadata": {},
     "output_type": "execute_result"
    }
   ],
   "source": [
    "student_mcd_predictions = pd.DataFrame({'y_true': student_mcd_results['y_true'],\n",
    "                                        'y_pred': student_mcd_results['y_pred'],\n",
    "                                        'y_prob': student_mcd_results['y_prob'],\n",
    "                                        'bald_score': student_mcd_results['bald_score'],\n",
    "                                       },\n",
    "                                       index=df_test.index)\n",
    "\n",
    "student_mcd_predictions.head()"
   ],
   "metadata": {
    "collapsed": false,
    "ExecuteTime": {
     "end_time": "2024-02-01T08:55:00.893397Z",
     "start_time": "2024-02-01T08:55:00.884648Z"
    }
   },
   "id": "406e020929b57082"
  },
  {
   "cell_type": "code",
   "execution_count": 8,
   "outputs": [],
   "source": [
    "# get all sequences that teacher gets right and student gets wrong\n",
    "# teacher gets right\n",
    "teacher_correct = teacher_mcd_predictions[teacher_mcd_predictions['y_true'] == teacher_mcd_predictions['y_pred']]\n",
    "# student gets wrong\n",
    "student_wrong = student_mcd_predictions[student_mcd_predictions['y_true'] != student_mcd_predictions['y_pred']]"
   ],
   "metadata": {
    "collapsed": false,
    "ExecuteTime": {
     "end_time": "2024-02-01T08:55:12.806346Z",
     "start_time": "2024-02-01T08:55:12.798732Z"
    }
   },
   "id": "5578ffb0da8f076"
  },
  {
   "cell_type": "code",
   "execution_count": 10,
   "outputs": [],
   "source": [
    "# get the sequences where the teacher gets right and the student gets wrong\n",
    "teacher_correct_student_wrong = teacher_correct[teacher_correct.index.isin(student_wrong.index)]"
   ],
   "metadata": {
    "collapsed": false,
    "ExecuteTime": {
     "end_time": "2024-02-01T08:55:37.409288Z",
     "start_time": "2024-02-01T08:55:37.395661Z"
    }
   },
   "id": "aa3b2b01bc01f26a"
  },
  {
   "cell_type": "code",
   "execution_count": 11,
   "outputs": [
    {
     "data": {
      "text/plain": "      y_true  y_pred    y_prob  bald_score\n68         0       0  0.488641    0.001451\n135        0       0  0.368691    0.002035\n471        1       1  0.559307    0.001240\n518        0       0  0.463860    0.001741\n941        0       0  0.212170    0.001622\n1206       0       0  0.172989    0.001387\n1669       0       0  0.315525    0.001297\n1911       0       0  0.268331    0.002172\n1929       0       0  0.497736    0.001507\n2077       1       1  0.529206    0.001589",
      "text/html": "<div>\n<style scoped>\n    .dataframe tbody tr th:only-of-type {\n        vertical-align: middle;\n    }\n\n    .dataframe tbody tr th {\n        vertical-align: top;\n    }\n\n    .dataframe thead th {\n        text-align: right;\n    }\n</style>\n<table border=\"1\" class=\"dataframe\">\n  <thead>\n    <tr style=\"text-align: right;\">\n      <th></th>\n      <th>y_true</th>\n      <th>y_pred</th>\n      <th>y_prob</th>\n      <th>bald_score</th>\n    </tr>\n  </thead>\n  <tbody>\n    <tr>\n      <th>68</th>\n      <td>0</td>\n      <td>0</td>\n      <td>0.488641</td>\n      <td>0.001451</td>\n    </tr>\n    <tr>\n      <th>135</th>\n      <td>0</td>\n      <td>0</td>\n      <td>0.368691</td>\n      <td>0.002035</td>\n    </tr>\n    <tr>\n      <th>471</th>\n      <td>1</td>\n      <td>1</td>\n      <td>0.559307</td>\n      <td>0.001240</td>\n    </tr>\n    <tr>\n      <th>518</th>\n      <td>0</td>\n      <td>0</td>\n      <td>0.463860</td>\n      <td>0.001741</td>\n    </tr>\n    <tr>\n      <th>941</th>\n      <td>0</td>\n      <td>0</td>\n      <td>0.212170</td>\n      <td>0.001622</td>\n    </tr>\n    <tr>\n      <th>1206</th>\n      <td>0</td>\n      <td>0</td>\n      <td>0.172989</td>\n      <td>0.001387</td>\n    </tr>\n    <tr>\n      <th>1669</th>\n      <td>0</td>\n      <td>0</td>\n      <td>0.315525</td>\n      <td>0.001297</td>\n    </tr>\n    <tr>\n      <th>1911</th>\n      <td>0</td>\n      <td>0</td>\n      <td>0.268331</td>\n      <td>0.002172</td>\n    </tr>\n    <tr>\n      <th>1929</th>\n      <td>0</td>\n      <td>0</td>\n      <td>0.497736</td>\n      <td>0.001507</td>\n    </tr>\n    <tr>\n      <th>2077</th>\n      <td>1</td>\n      <td>1</td>\n      <td>0.529206</td>\n      <td>0.001589</td>\n    </tr>\n  </tbody>\n</table>\n</div>"
     },
     "execution_count": 11,
     "metadata": {},
     "output_type": "execute_result"
    }
   ],
   "source": [
    "teacher_correct_student_wrong"
   ],
   "metadata": {
    "collapsed": false,
    "ExecuteTime": {
     "end_time": "2024-02-01T08:55:40.792189Z",
     "start_time": "2024-02-01T08:55:40.783524Z"
    }
   },
   "id": "cf8210c247b5905d"
  },
  {
   "cell_type": "code",
   "execution_count": 12,
   "outputs": [],
   "source": [
    "# subset corresponding student predictions\n",
    "student_wrong_teacher_correct = student_wrong.loc[teacher_correct_student_wrong.index]"
   ],
   "metadata": {
    "collapsed": false,
    "ExecuteTime": {
     "end_time": "2024-02-01T08:55:59.736979Z",
     "start_time": "2024-02-01T08:55:59.732522Z"
    }
   },
   "id": "ed1fb98e14bed8c4"
  },
  {
   "cell_type": "code",
   "execution_count": 13,
   "outputs": [
    {
     "data": {
      "text/plain": "      y_true  y_pred    y_prob  bald_score\n68         0       1  0.574930    0.049890\n135        0       1  0.594946    0.054184\n471        1       0  0.073583    0.064164\n518        0       1  0.551004    0.067020\n941        0       1  0.972752    0.003407\n1206       0       1  0.775340    0.030223\n1669       0       1  0.657361    0.073200\n1911       0       1  0.823263    0.029335\n1929       0       1  0.506555    0.050085\n2077       1       0  0.232624    0.077314",
      "text/html": "<div>\n<style scoped>\n    .dataframe tbody tr th:only-of-type {\n        vertical-align: middle;\n    }\n\n    .dataframe tbody tr th {\n        vertical-align: top;\n    }\n\n    .dataframe thead th {\n        text-align: right;\n    }\n</style>\n<table border=\"1\" class=\"dataframe\">\n  <thead>\n    <tr style=\"text-align: right;\">\n      <th></th>\n      <th>y_true</th>\n      <th>y_pred</th>\n      <th>y_prob</th>\n      <th>bald_score</th>\n    </tr>\n  </thead>\n  <tbody>\n    <tr>\n      <th>68</th>\n      <td>0</td>\n      <td>1</td>\n      <td>0.574930</td>\n      <td>0.049890</td>\n    </tr>\n    <tr>\n      <th>135</th>\n      <td>0</td>\n      <td>1</td>\n      <td>0.594946</td>\n      <td>0.054184</td>\n    </tr>\n    <tr>\n      <th>471</th>\n      <td>1</td>\n      <td>0</td>\n      <td>0.073583</td>\n      <td>0.064164</td>\n    </tr>\n    <tr>\n      <th>518</th>\n      <td>0</td>\n      <td>1</td>\n      <td>0.551004</td>\n      <td>0.067020</td>\n    </tr>\n    <tr>\n      <th>941</th>\n      <td>0</td>\n      <td>1</td>\n      <td>0.972752</td>\n      <td>0.003407</td>\n    </tr>\n    <tr>\n      <th>1206</th>\n      <td>0</td>\n      <td>1</td>\n      <td>0.775340</td>\n      <td>0.030223</td>\n    </tr>\n    <tr>\n      <th>1669</th>\n      <td>0</td>\n      <td>1</td>\n      <td>0.657361</td>\n      <td>0.073200</td>\n    </tr>\n    <tr>\n      <th>1911</th>\n      <td>0</td>\n      <td>1</td>\n      <td>0.823263</td>\n      <td>0.029335</td>\n    </tr>\n    <tr>\n      <th>1929</th>\n      <td>0</td>\n      <td>1</td>\n      <td>0.506555</td>\n      <td>0.050085</td>\n    </tr>\n    <tr>\n      <th>2077</th>\n      <td>1</td>\n      <td>0</td>\n      <td>0.232624</td>\n      <td>0.077314</td>\n    </tr>\n  </tbody>\n</table>\n</div>"
     },
     "execution_count": 13,
     "metadata": {},
     "output_type": "execute_result"
    }
   ],
   "source": [
    "student_wrong_teacher_correct"
   ],
   "metadata": {
    "collapsed": false,
    "ExecuteTime": {
     "end_time": "2024-02-01T08:56:03.818246Z",
     "start_time": "2024-02-01T08:56:03.812299Z"
    }
   },
   "id": "8eb4487ab3773a22"
  },
  {
   "cell_type": "code",
   "execution_count": 16,
   "outputs": [
    {
     "data": {
      "text/plain": "<Figure size 864x432 with 1 Axes>",
      "image/png": "[encoded data removed]"
     },
     "metadata": {
      "needs_background": "light"
     },
     "output_type": "display_data"
    }
   ],
   "source": [
    "# plot teacher y_prob for the sequences where the teacher gets right and the student gets wrong along with mean\n",
    "plt.figure(figsize=(12, 6))\n",
    "plt.hist(teacher_correct_student_wrong['y_prob'], bins=10, alpha=0.5, label='teacher')\n",
    "plt.axvline(teacher_correct_student_wrong['y_prob'].mean(), color='blue')\n",
    "plt.hist(student_wrong_teacher_correct['y_prob'], bins=10, alpha=0.5, label='student')\n",
    "plt.axvline(student_wrong_teacher_correct['y_prob'].mean(), color='brown')\n",
    "plt.xlabel('y_prob')\n",
    "plt.ylabel('count')\n",
    "plt.xlim(0, 1)\n",
    "plt.legend();"
   ],
   "metadata": {
    "collapsed": false,
    "ExecuteTime": {
     "end_time": "2024-02-01T08:56:31.890952Z",
     "start_time": "2024-02-01T08:56:31.802409Z"
    }
   },
   "id": "40b73ca62157e42b"
  },
  {
   "cell_type": "code",
   "execution_count": 33,
   "outputs": [
    {
     "data": {
      "text/plain": "<Figure size 864x432 with 1 Axes>",
      "image/png": "[encoded data removed]"
     },
     "metadata": {
      "needs_background": "light"
     },
     "output_type": "display_data"
    }
   ],
   "source": [
    "# bald score - overall tea cher vs student and for the sequences where the teacher gets right and the student gets wrong\n",
    "plt.figure(figsize=(12, 6))\n",
    "plt.hist(teacher_mcd_predictions['bald_score'], bins=30, alpha=0.5, label='teacher')\n",
    "plt.axvline(teacher_mcd_predictions['bald_score'].mean(), color='blue')\n",
    "plt.hist(student_mcd_predictions['bald_score'], bins=30, alpha=0.5, label='student')\n",
    "plt.axvline(student_mcd_predictions['bald_score'].mean(), color='brown')\n",
    "plt.xlabel('bald_score')\n",
    "plt.ylabel('count')\n",
    "plt.legend();"
   ],
   "metadata": {
    "collapsed": false,
    "ExecuteTime": {
     "end_time": "2024-02-01T09:07:36.366152Z",
     "start_time": "2024-02-01T09:07:36.254597Z"
    }
   },
   "id": "35f2c6e276ae41d5"
  },
  {
   "cell_type": "code",
   "execution_count": 25,
   "outputs": [
    {
     "data": {
      "text/plain": "<Figure size 864x432 with 1 Axes>",
      "image/png": "[encoded data removed]"
     },
     "metadata": {
      "needs_background": "light"
     },
     "output_type": "display_data"
    }
   ],
   "source": [
    "# student bald score distribution for sequences that are wrong vs right\n",
    "plt.figure(figsize=(12, 6))\n",
    "plt.hist(student_mcd_predictions[student_mcd_predictions['y_true'] == student_mcd_predictions['y_pred']]['bald_score'], bins=30, alpha=0.5, label='student correct', density=True)    \n",
    "plt.hist(student_mcd_predictions[student_mcd_predictions['y_true'] != student_mcd_predictions['y_pred']]['bald_score'], bins=30, alpha=0.5, label='student wrong', density=True)\n",
    "plt.xlabel('bald_score')\n",
    "plt.ylabel('frequency')\n",
    "plt.legend();"
   ],
   "metadata": {
    "collapsed": false,
    "ExecuteTime": {
     "end_time": "2024-02-01T09:04:14.000145Z",
     "start_time": "2024-02-01T09:04:13.891343Z"
    }
   },
   "id": "fa4244cdbf840f59"
  },
  {
   "cell_type": "code",
   "execution_count": 26,
   "outputs": [
    {
     "data": {
      "text/plain": "<Figure size 864x432 with 1 Axes>",
      "image/png": "[encoded data removed]"
     },
     "metadata": {
      "needs_background": "light"
     },
     "output_type": "display_data"
    }
   ],
   "source": [
    "# teacher bald score distribution for sequences that are wrong vs right\n",
    "plt.figure(figsize=(12, 6))\n",
    "plt.hist(teacher_mcd_predictions[teacher_mcd_predictions['y_true'] == teacher_mcd_predictions['y_pred']]['bald_score'], bins=30, alpha=0.5, label='teacher correct', density=True)  \n",
    "plt.hist(teacher_mcd_predictions[teacher_mcd_predictions['y_true'] != teacher_mcd_predictions['y_pred']]['bald_score'], bins=30, alpha=0.5, label='teacher wrong', density=True)\n",
    "plt.xlabel('bald_score')\n",
    "plt.ylabel('frequency')\n",
    "plt.legend();"
   ],
   "metadata": {
    "collapsed": false,
    "ExecuteTime": {
     "end_time": "2024-02-01T09:05:08.247856Z",
     "start_time": "2024-02-01T09:05:08.134764Z"
    }
   },
   "id": "4ce3cda5d5cf5882"
  },
  {
   "cell_type": "code",
   "execution_count": null,
   "outputs": [],
   "source": [
    "# TODO: are teacher bald scores computed correctly? -> yes, they are, just need to be interpreted in relative terms (i.e. relative to the teacher)"
   ],
   "metadata": {
    "collapsed": false
   },
   "id": "74249be74d791444"
  }
 ],
 "metadata": {
  "kernelspec": {
   "display_name": "Python 3",
   "language": "python",
   "name": "python3"
  },
  "language_info": {
   "codemirror_mode": {
    "name": "ipython",
    "version": 2
   },
   "file_extension": ".py",
   "mimetype": "text/x-python",
   "name": "python",
   "nbconvert_exporter": "python",
   "pygments_lexer": "ipython2",
   "version": "2.7.6"
  }
 },
 "nbformat": 4,
 "nbformat_minor": 5
}

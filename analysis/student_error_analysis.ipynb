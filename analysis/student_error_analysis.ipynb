{
 "cells": [
  {
   "cell_type": "markdown",
   "source": [
    "where does student fail? is it the harder or easier sequences? uncertainty?\n",
    "- is it the harder or easier sequences? (as indicated by the teacher uncertainty)\n",
    "- to this end, we can use the teacher uncertainty as a proxy for the difficulty of the sequence, and inspect teacher uncertainty for the sequences where the student fails"
   ],
   "metadata": {
    "collapsed": false
   },
   "id": "1d1ced8a5a9eac0d"
  },
  {
   "cell_type": "code",
   "execution_count": 1,
   "id": "initial_id",
   "metadata": {
    "collapsed": true,
    "ExecuteTime": {
     "end_time": "2024-01-29T20:07:53.136400Z",
     "start_time": "2024-01-29T20:07:52.265494Z"
    }
   },
   "outputs": [],
   "source": [
    "import os\n",
    "import json\n",
    "\n",
    "import pandas as pd\n",
    "import numpy as np\n",
    "import matplotlib.pyplot as plt\n",
    "%matplotlib inline"
   ]
  },
  {
   "cell_type": "code",
   "execution_count": 2,
   "outputs": [
    {
     "data": {
      "text/plain": "                                                text  target\n0  in class still drunk from last night and this ...       1\n1  sighs of relief from beijing guoan fans <hasht...       0\n2  <user> <user> <user> they do why else do teach...       1\n3  preparing to be called a nigger all night i me...       1\n4           rt <user> we dont love these hoes <url>        1",
      "text/html": "<div>\n<style scoped>\n    .dataframe tbody tr th:only-of-type {\n        vertical-align: middle;\n    }\n\n    .dataframe tbody tr th {\n        vertical-align: top;\n    }\n\n    .dataframe thead th {\n        text-align: right;\n    }\n</style>\n<table border=\"1\" class=\"dataframe\">\n  <thead>\n    <tr style=\"text-align: right;\">\n      <th></th>\n      <th>text</th>\n      <th>target</th>\n    </tr>\n  </thead>\n  <tbody>\n    <tr>\n      <th>0</th>\n      <td>in class still drunk from last night and this ...</td>\n      <td>1</td>\n    </tr>\n    <tr>\n      <th>1</th>\n      <td>sighs of relief from beijing guoan fans &lt;hasht...</td>\n      <td>0</td>\n    </tr>\n    <tr>\n      <th>2</th>\n      <td>&lt;user&gt; &lt;user&gt; &lt;user&gt; they do why else do teach...</td>\n      <td>1</td>\n    </tr>\n    <tr>\n      <th>3</th>\n      <td>preparing to be called a nigger all night i me...</td>\n      <td>1</td>\n    </tr>\n    <tr>\n      <th>4</th>\n      <td>rt &lt;user&gt; we dont love these hoes &lt;url&gt;</td>\n      <td>1</td>\n    </tr>\n  </tbody>\n</table>\n</div>"
     },
     "execution_count": 2,
     "metadata": {},
     "output_type": "execute_result"
    }
   ],
   "source": [
    "# load the dataset\n",
    "df_test = pd.read_csv('../data/robustness_study/preprocessed/test.csv', sep='\\t', index_col=0)\n",
    "df_test.head()"
   ],
   "metadata": {
    "collapsed": false,
    "ExecuteTime": {
     "end_time": "2024-01-29T20:07:53.686880Z",
     "start_time": "2024-01-29T20:07:53.661005Z"
    }
   },
   "id": "8a50ac8f81854c7b"
  },
  {
   "cell_type": "code",
   "execution_count": 3,
   "outputs": [],
   "source": [
    "# load the predictions - focus on MC dropout\n",
    "# teacher predictions\n",
    "with open('../out/bert_teacher/final_hd030_ad020_cd035/results/mc_dropout_results.json', 'r') as f:\n",
    "    teacher_mcd_results = json.load(f)\n",
    "    \n",
    "# student predictions\n",
    "with open('../out/bert_student/aleatoric_and_epistemic/m5_k5/shen_e2_dropout010_weight050/results/student_mc_dropout_metrics.json', 'r') as f:\n",
    "    student_mcd_results = json.load(f)"
   ],
   "metadata": {
    "collapsed": false,
    "ExecuteTime": {
     "end_time": "2024-01-29T20:07:55.405230Z",
     "start_time": "2024-01-29T20:07:55.391310Z"
    }
   },
   "id": "c48a94a3c39aae5e"
  },
  {
   "cell_type": "code",
   "execution_count": 4,
   "outputs": [
    {
     "data": {
      "text/plain": "   y_true  y_pred    y_prob  total_uncertainty\n0       1       1  0.996263           0.354926\n1       0       0  0.024107           0.260913\n2       1       1  0.997565           0.192467\n3       1       1  0.988607           1.119761\n4       1       1  0.997114           0.169674",
      "text/html": "<div>\n<style scoped>\n    .dataframe tbody tr th:only-of-type {\n        vertical-align: middle;\n    }\n\n    .dataframe tbody tr th {\n        vertical-align: top;\n    }\n\n    .dataframe thead th {\n        text-align: right;\n    }\n</style>\n<table border=\"1\" class=\"dataframe\">\n  <thead>\n    <tr style=\"text-align: right;\">\n      <th></th>\n      <th>y_true</th>\n      <th>y_pred</th>\n      <th>y_prob</th>\n      <th>total_uncertainty</th>\n    </tr>\n  </thead>\n  <tbody>\n    <tr>\n      <th>0</th>\n      <td>1</td>\n      <td>1</td>\n      <td>0.996263</td>\n      <td>0.354926</td>\n    </tr>\n    <tr>\n      <th>1</th>\n      <td>0</td>\n      <td>0</td>\n      <td>0.024107</td>\n      <td>0.260913</td>\n    </tr>\n    <tr>\n      <th>2</th>\n      <td>1</td>\n      <td>1</td>\n      <td>0.997565</td>\n      <td>0.192467</td>\n    </tr>\n    <tr>\n      <th>3</th>\n      <td>1</td>\n      <td>1</td>\n      <td>0.988607</td>\n      <td>1.119761</td>\n    </tr>\n    <tr>\n      <th>4</th>\n      <td>1</td>\n      <td>1</td>\n      <td>0.997114</td>\n      <td>0.169674</td>\n    </tr>\n  </tbody>\n</table>\n</div>"
     },
     "execution_count": 4,
     "metadata": {},
     "output_type": "execute_result"
    }
   ],
   "source": [
    "teacher_mcd_predictions = pd.DataFrame({'y_true': teacher_mcd_results['y_true'],\n",
    "                                        'y_pred': teacher_mcd_results['y_pred'],\n",
    "                                        'y_prob': teacher_mcd_results['y_prob'],\n",
    "                                        'total_uncertainty': teacher_mcd_results['total_uncertainty'],\n",
    "                                       },\n",
    "                                       index=df_test.index)\n",
    "\n",
    "teacher_mcd_predictions.head()"
   ],
   "metadata": {
    "collapsed": false,
    "ExecuteTime": {
     "end_time": "2024-01-29T20:08:04.282575Z",
     "start_time": "2024-01-29T20:08:04.277404Z"
    }
   },
   "id": "55429dfa0292f87d"
  },
  {
   "cell_type": "code",
   "execution_count": 5,
   "outputs": [
    {
     "data": {
      "text/plain": "   y_true  y_pred    y_prob  total_uncertainty\n0       1       1  0.711133           0.268370\n1       0       1  0.592719           0.332975\n2       1       1  0.713503           0.267971\n3       1       1  0.711658           0.268220\n4       1       1  0.713041           0.265172",
      "text/html": "<div>\n<style scoped>\n    .dataframe tbody tr th:only-of-type {\n        vertical-align: middle;\n    }\n\n    .dataframe tbody tr th {\n        vertical-align: top;\n    }\n\n    .dataframe thead th {\n        text-align: right;\n    }\n</style>\n<table border=\"1\" class=\"dataframe\">\n  <thead>\n    <tr style=\"text-align: right;\">\n      <th></th>\n      <th>y_true</th>\n      <th>y_pred</th>\n      <th>y_prob</th>\n      <th>total_uncertainty</th>\n    </tr>\n  </thead>\n  <tbody>\n    <tr>\n      <th>0</th>\n      <td>1</td>\n      <td>1</td>\n      <td>0.711133</td>\n      <td>0.268370</td>\n    </tr>\n    <tr>\n      <th>1</th>\n      <td>0</td>\n      <td>1</td>\n      <td>0.592719</td>\n      <td>0.332975</td>\n    </tr>\n    <tr>\n      <th>2</th>\n      <td>1</td>\n      <td>1</td>\n      <td>0.713503</td>\n      <td>0.267971</td>\n    </tr>\n    <tr>\n      <th>3</th>\n      <td>1</td>\n      <td>1</td>\n      <td>0.711658</td>\n      <td>0.268220</td>\n    </tr>\n    <tr>\n      <th>4</th>\n      <td>1</td>\n      <td>1</td>\n      <td>0.713041</td>\n      <td>0.265172</td>\n    </tr>\n  </tbody>\n</table>\n</div>"
     },
     "execution_count": 5,
     "metadata": {},
     "output_type": "execute_result"
    }
   ],
   "source": [
    "student_mcd_predictions = pd.DataFrame({'y_true': student_mcd_results['y_true'],\n",
    "                                        'y_pred': student_mcd_results['y_pred'],\n",
    "                                        'y_prob': student_mcd_results['y_prob'],\n",
    "                                        'total_uncertainty': student_mcd_results['total_uncertainty'],\n",
    "                                       },\n",
    "                                       index=df_test.index)\n",
    "\n",
    "student_mcd_predictions.head()"
   ],
   "metadata": {
    "collapsed": false,
    "ExecuteTime": {
     "end_time": "2024-01-29T20:08:04.765446Z",
     "start_time": "2024-01-29T20:08:04.763592Z"
    }
   },
   "id": "406e020929b57082"
  },
  {
   "cell_type": "code",
   "execution_count": 6,
   "outputs": [
    {
     "data": {
      "text/plain": "<AxesSubplot:>"
     },
     "execution_count": 6,
     "metadata": {},
     "output_type": "execute_result"
    },
    {
     "data": {
      "text/plain": "<Figure size 432x288 with 1 Axes>",
      "image/png": "[encoded data removed]"
     },
     "metadata": {
      "needs_background": "light"
     },
     "output_type": "display_data"
    }
   ],
   "source": [
    "# TODO: how do we compute total uncertainty, this seems incorrect "
   ],
   "metadata": {
    "collapsed": false,
    "ExecuteTime": {
     "end_time": "2024-01-29T20:08:14.876966Z",
     "start_time": "2024-01-29T20:08:14.781202Z"
    }
   },
   "id": "fdc2eaa9c20233c0"
  },
  {
   "cell_type": "code",
   "execution_count": 74,
   "outputs": [],
   "source": [
    "# get all sequences that teacher gets right and student gets wrong\n",
    "# teacher gets right\n",
    "teacher_correct = teacher_mcd_predictions[teacher_mcd_predictions['y_true'] == teacher_mcd_predictions['y_pred']]\n",
    "# student gets wrong\n",
    "student_wrong = student_mcd_predictions[student_mcd_predictions['y_true'] != student_mcd_predictions['y_pred']]"
   ],
   "metadata": {
    "collapsed": false,
    "ExecuteTime": {
     "end_time": "2024-01-17T20:30:09.043935Z",
     "start_time": "2024-01-17T20:30:09.036435Z"
    }
   },
   "id": "5578ffb0da8f076"
  },
  {
   "cell_type": "code",
   "execution_count": 75,
   "outputs": [],
   "source": [
    "# get the sequences where the teacher gets right and the student gets wrong\n",
    "teacher_correct_student_wrong = teacher_correct[teacher_correct.index.isin(student_wrong.index)]"
   ],
   "metadata": {
    "collapsed": false,
    "ExecuteTime": {
     "end_time": "2024-01-17T20:30:10.069430Z",
     "start_time": "2024-01-17T20:30:10.058807Z"
    }
   },
   "id": "aa3b2b01bc01f26a"
  },
  {
   "cell_type": "code",
   "execution_count": 76,
   "outputs": [],
   "source": [
    "# subset corresponding student predictions\n",
    "student_wrong_teacher_correct = student_wrong.loc[teacher_correct_student_wrong.index]"
   ],
   "metadata": {
    "collapsed": false,
    "ExecuteTime": {
     "end_time": "2024-01-17T20:30:11.197816Z",
     "start_time": "2024-01-17T20:30:11.190787Z"
    }
   },
   "id": "ed1fb98e14bed8c4"
  },
  {
   "cell_type": "code",
   "execution_count": 77,
   "outputs": [
    {
     "data": {
      "text/plain": "<Figure size 864x432 with 1 Axes>",
      "image/png": "[encoded data removed]"
     },
     "metadata": {
      "needs_background": "light"
     },
     "output_type": "display_data"
    }
   ],
   "source": [
    "# plot teacher y_prob for the sequences where the teacher gets right and the student gets wrong along with mean\n",
    "plt.figure(figsize=(12, 6))\n",
    "plt.hist(teacher_correct_student_wrong['y_prob'], bins=30, alpha=0.5, label='teacher')\n",
    "plt.axvline(teacher_correct_student_wrong['y_prob'].mean(), color='blue')\n",
    "plt.hist(student_wrong_teacher_correct['y_prob'], bins=30, alpha=0.5, label='student')\n",
    "plt.axvline(student_wrong_teacher_correct['y_prob'].mean(), color='brown')\n",
    "plt.xlabel('y_prob')\n",
    "plt.ylabel('count')\n",
    "plt.xlim(0, 1)\n",
    "plt.legend();"
   ],
   "metadata": {
    "collapsed": false,
    "ExecuteTime": {
     "end_time": "2024-01-17T20:30:12.902461Z",
     "start_time": "2024-01-17T20:30:12.769887Z"
    }
   },
   "id": "40b73ca62157e42b"
  },
  {
   "cell_type": "code",
   "execution_count": 78,
   "outputs": [
    {
     "data": {
      "text/plain": "<Figure size 864x432 with 1 Axes>",
      "image/png": "[encoded data removed]"
     },
     "metadata": {
      "needs_background": "light"
     },
     "output_type": "display_data"
    }
   ],
   "source": [
    "# total uncertainty - overall teacher vs student and for the sequences where the teacher gets right and the student gets wrong\n",
    "plt.figure(figsize=(12, 6))\n",
    "plt.hist(teacher_mcd_predictions['total_uncertainty'], bins=30, alpha=0.5, label='teacher')\n",
    "plt.axvline(teacher_mcd_predictions['total_uncertainty'].mean(), color='blue')\n",
    "plt.hist(student_mcd_predictions['total_uncertainty'], alpha=0.5, label='student')\n",
    "plt.axvline(student_mcd_predictions['total_uncertainty'].mean(), color='brown')\n",
    "plt.xlabel('total_uncertainty')\n",
    "plt.ylabel('count')\n",
    "plt.legend();"
   ],
   "metadata": {
    "collapsed": false,
    "ExecuteTime": {
     "end_time": "2024-01-17T20:30:21.843580Z",
     "start_time": "2024-01-17T20:30:21.726555Z"
    }
   },
   "id": "35f2c6e276ae41d5"
  },
  {
   "cell_type": "code",
   "execution_count": 79,
   "outputs": [
    {
     "data": {
      "text/plain": "<Figure size 432x288 with 1 Axes>",
      "image/png": "[encoded data removed]"
     },
     "metadata": {
      "needs_background": "light"
     },
     "output_type": "display_data"
    }
   ],
   "source": [
    "plt.hist(student_mcd_predictions['y_prob'], bins=10);"
   ],
   "metadata": {
    "collapsed": false,
    "ExecuteTime": {
     "end_time": "2024-01-17T20:30:25.183996Z",
     "start_time": "2024-01-17T20:30:24.896332Z"
    }
   },
   "id": "44fd31ea4e1ef879"
  },
  {
   "cell_type": "code",
   "execution_count": null,
   "outputs": [],
   "source": [],
   "metadata": {
    "collapsed": false
   },
   "id": "a81b61e65e05597f"
  }
 ],
 "metadata": {
  "kernelspec": {
   "display_name": "Python 3",
   "language": "python",
   "name": "python3"
  },
  "language_info": {
   "codemirror_mode": {
    "name": "ipython",
    "version": 2
   },
   "file_extension": ".py",
   "mimetype": "text/x-python",
   "name": "python",
   "nbconvert_exporter": "python",
   "pygments_lexer": "ipython2",
   "version": "2.7.6"
  }
 },
 "nbformat": 4,
 "nbformat_minor": 5
}

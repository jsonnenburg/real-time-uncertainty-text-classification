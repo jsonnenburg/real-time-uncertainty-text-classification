{
 "cells": [
  {
   "cell_type": "markdown",
   "source": [
    "### Quantifying and Visualizing Distribution Shift in Augmented Test Sets\n",
    "Now that we have generated perturbed variants of the test set, we would like to investigate how the noise affects the distribution of the data. \n",
    "\n",
    "#### 1. Quantifying Distribution Shift\n",
    "- Extract relevant features from both the original and noisy datasets. These features might include word frequencies, sentence lengths, POS tag distributions, etc., depending on what aspects of the data the noise might affect.\n",
    "\n",
    "#### 2. Visualizing Distribution Shift\n",
    "a) Histograms:\n",
    "- Plot histograms for features like sentence length, word frequency, etc., for both datasets. Overlaying these histograms can provide a visual comparison.\n",
    "\n",
    "b) Box Plots:\n",
    "- Box plots are useful for visualizing the distribution of numerical features (e.g., sentence length).\n",
    "\n",
    "c) Word Clouds:\n",
    "- Generate word clouds for the original and noisy datasets to visually compare the most frequent words.\n",
    "\n",
    "d) POS Tag Distribution:\n",
    "- If you have POS tag features, visualize their distribution in both datasets using bar plots."
   ],
   "metadata": {
    "collapsed": false
   },
   "id": "42e866e83b810c50"
  },
  {
   "cell_type": "code",
   "execution_count": 1,
   "id": "initial_id",
   "metadata": {
    "collapsed": true,
    "ExecuteTime": {
     "end_time": "2024-03-29T14:28:57.779767Z",
     "start_time": "2024-03-29T14:28:56.638515Z"
    }
   },
   "outputs": [
    {
     "data": {
      "text/plain": "'/Users/johann/Documents/Uni/real-time-uncertainty-text-classification/analysis'"
     },
     "execution_count": 1,
     "metadata": {},
     "output_type": "execute_result"
    }
   ],
   "source": [
    "import os\n",
    "import pandas as pd\n",
    "import matplotlib.pyplot as plt\n",
    "import nltk\n",
    "from collections import Counter\n",
    "import re\n",
    "from tqdm import tqdm\n",
    "from typing import Dict"
   ]
  },
  {
   "cell_type": "code",
   "execution_count": 22,
   "outputs": [],
   "source": [
    "SAVE_PLOTS = True\n",
    "\n",
    "image_save_path = 'plots/robustness_study'\n",
    "os.makedirs(image_save_path, exist_ok=True)\n",
    "\n",
    "SMALL_SIZE = 12\n",
    "MEDIUM_SIZE = 14\n",
    "BIGGER_SIZE = 16\n",
    "\n",
    "plt.rc('font', size=SMALL_SIZE)          # controls default text sizes\n",
    "plt.rc('axes', titlesize=SMALL_SIZE)     # fontsize of the axes title\n",
    "plt.rc('axes', labelsize=MEDIUM_SIZE)    # fontsize of the x and y labels\n",
    "plt.rc('xtick', labelsize=SMALL_SIZE)    # fontsize of the tick labels\n",
    "plt.rc('ytick', labelsize=SMALL_SIZE)    # fontsize of the tick labels\n",
    "plt.rc('legend', fontsize=SMALL_SIZE)    # legend fontsize\n",
    "plt.rc('figure', titlesize=BIGGER_SIZE)  # fontsize of the figure title\n",
    "\n",
    "plt.rcParams[\"font.family\"] = \"serif\""
   ],
   "metadata": {
    "collapsed": false,
    "ExecuteTime": {
     "end_time": "2024-03-29T14:40:00.269180Z",
     "start_time": "2024-03-29T14:40:00.249173Z"
    }
   },
   "id": "1b01ccf09d22970f"
  },
  {
   "cell_type": "markdown",
   "source": [
    "### Load data and generate features"
   ],
   "metadata": {
    "collapsed": false
   },
   "id": "ad569a5f5f67d2c8"
  },
  {
   "cell_type": "code",
   "execution_count": 23,
   "outputs": [],
   "source": [
    "def load_datasets(input_dir):\n",
    "    datasets = {}\n",
    "    for file in os.listdir(input_dir):\n",
    "        if file.endswith(\".csv\"):\n",
    "            noise_levels = re.findall(r'_(psr|ppr|pri|prs|prd)(\\d{3})', file)\n",
    "            noise_dict = {typ: int(level) / 100 for typ, level in noise_levels}\n",
    "\n",
    "            df = pd.read_csv(os.path.join(input_dir, file), sep='\\t')\n",
    "            datasets[file] = {'data': df, 'noises': noise_dict}\n",
    "\n",
    "    return datasets\n",
    "\n",
    "datasets = load_datasets('../data/robustness_study/preprocessed_noisy')\n"
   ],
   "metadata": {
    "collapsed": false,
    "ExecuteTime": {
     "end_time": "2024-03-29T14:40:01.011540Z",
     "start_time": "2024-03-29T14:40:00.847712Z"
    }
   },
   "id": "4ffc78fba7eb1e4d"
  },
  {
   "cell_type": "code",
   "execution_count": 24,
   "outputs": [],
   "source": [
    "def load_datasets(input_dir):\n",
    "    datasets = {}\n",
    "\n",
    "    for file in os.listdir(input_dir):\n",
    "        if file.endswith(\".csv\"):\n",
    "            # Extract noise levels from filename\n",
    "            noise_levels = re.findall(r'_(psr|ppr|pri|prs|prd)(\\d{3})', file)\n",
    "            for typ, level in noise_levels:\n",
    "                level = int(level) / 100  # Convert level to a more readable format\n",
    "                \n",
    "                # Read the CSV file\n",
    "                df = pd.read_csv(os.path.join(input_dir, file), sep='\\t')\n",
    "                \n",
    "                # Check if the noise type is already in the dictionary\n",
    "                if typ not in datasets:\n",
    "                    datasets[typ] = {}\n",
    "                # Check if the noise level is already under this noise type\n",
    "                if level not in datasets[typ]:\n",
    "                    datasets[typ][level] = []\n",
    "                \n",
    "                # Append the dataframe and file name to the list under the specific noise type and level\n",
    "                datasets[typ][level].append({'file': file, 'data': df})\n",
    "\n",
    "    return datasets"
   ],
   "metadata": {
    "collapsed": false,
    "ExecuteTime": {
     "end_time": "2024-03-29T14:40:01.017158Z",
     "start_time": "2024-03-29T14:40:01.012234Z"
    }
   },
   "id": "5654afe848bbfdac"
  },
  {
   "cell_type": "code",
   "execution_count": 25,
   "outputs": [],
   "source": [
    "# features\n",
    "def calculate_word_frequencies(df):\n",
    "    word_freq = {}\n",
    "    for text in df['text']:\n",
    "        words = text.split()\n",
    "        for word in words:\n",
    "            if word in word_freq:\n",
    "                word_freq[word] += 1\n",
    "            else:\n",
    "                word_freq[word] = 1\n",
    "    return word_freq\n",
    "\n",
    "def calculate_sentence_lengths(df):\n",
    "    sentence_lengths = df['text'].apply(lambda x: len(x.split()))\n",
    "    return sentence_lengths\n",
    "\n",
    "def calculate_pos_distributions(df):\n",
    "    pos_counts = Counter()\n",
    "    for text in df['text']:\n",
    "        tokens = nltk.word_tokenize(text)\n",
    "        tags = nltk.pos_tag(tokens)\n",
    "        pos_counts.update([tag for _, tag in tags])\n",
    "    return pos_counts\n"
   ],
   "metadata": {
    "collapsed": false,
    "ExecuteTime": {
     "end_time": "2024-03-29T14:40:01.207938Z",
     "start_time": "2024-03-29T14:40:01.203132Z"
    }
   },
   "id": "a76efbefca5cec23"
  },
  {
   "cell_type": "code",
   "execution_count": 26,
   "outputs": [
    {
     "name": "stderr",
     "output_type": "stream",
     "text": [
      "Calculating features: 100%|██████████| 50/50 [01:05<00:00,  1.32s/it]\n"
     ]
    }
   ],
   "source": [
    "# compute features for each dataset\n",
    "# use tqdm to show progress bar\n",
    "\n",
    "for filename, content in tqdm(datasets.items(), desc='Calculating features'):\n",
    "    df = content['data']\n",
    "\n",
    "    word_frequencies = calculate_word_frequencies(df)\n",
    "    sentence_lengths = calculate_sentence_lengths(df)\n",
    "    pos_distributions = calculate_pos_distributions(df)\n",
    "\n",
    "    datasets[filename]['word_freq'] = word_frequencies\n",
    "    datasets[filename]['sentence_lengths'] = sentence_lengths\n",
    "    datasets[filename]['pos_distributions'] = pos_distributions\n"
   ],
   "metadata": {
    "collapsed": false,
    "ExecuteTime": {
     "end_time": "2024-03-29T14:41:07.353391Z",
     "start_time": "2024-03-29T14:40:01.384035Z"
    }
   },
   "id": "7e2170bef82e86e8"
  },
  {
   "cell_type": "markdown",
   "source": [
    "### Visualize distribution shift\n",
    "\n",
    "#### Sentence Lengths"
   ],
   "metadata": {
    "collapsed": false
   },
   "id": "26b6fb0b8ead115b"
  },
  {
   "cell_type": "code",
   "execution_count": 27,
   "outputs": [],
   "source": [
    "def get_average_sentence_lengths(datasets, noise_type=None):\n",
    "    \"\"\"\n",
    "    Get average sentence lengths for all datasets/noise types or for a specific noise type.\n",
    "    :param datasets: Dictionary of datasets\n",
    "    :param noise_type: Optional; specific noise type to filter by\n",
    "    :return: Dictionary of average sentence lengths\n",
    "    \"\"\"\n",
    "    avg_sentence_lengths = {}\n",
    "\n",
    "    for filename, data in datasets.items():\n",
    "        if noise_type is None:\n",
    "            # Calculate for all noise types\n",
    "            for n_type, n_level in data['noises'].items():\n",
    "                if n_type not in avg_sentence_lengths:\n",
    "                    avg_sentence_lengths[n_type] = {}\n",
    "                if n_level == 0:  # For noise level of zero, match specific dataset value\n",
    "                    if filename == 'test_psr000_ppr000_pri000_prs000_prd000.csv':\n",
    "                        avg_sentence_lengths[n_type][n_level] = data['sentence_lengths'].mean()\n",
    "                else:\n",
    "                    avg_sentence_lengths[n_type][n_level] = data['sentence_lengths'].mean()\n",
    "        else:\n",
    "            # Calculate for a specific noise type\n",
    "            if noise_type in data['noises']:\n",
    "                noise_levels = data['noises'][noise_type]\n",
    "                for n_level in noise_levels:\n",
    "                    if n_level == 0 and filename == 'test_psr000_ppr000_pri000_prs000_prd000.csv':\n",
    "                        avg_sentence_lengths[n_level] = data['sentence_lengths'].mean()\n",
    "                    elif n_level not in avg_sentence_lengths:\n",
    "                        avg_sentence_lengths[n_level] = data['sentence_lengths'].mean()\n",
    "\n",
    "    return avg_sentence_lengths\n"
   ],
   "metadata": {
    "collapsed": false,
    "ExecuteTime": {
     "end_time": "2024-03-29T14:41:07.358517Z",
     "start_time": "2024-03-29T14:41:07.352457Z"
    }
   },
   "id": "2c650db7fc36ebd9"
  },
  {
   "cell_type": "code",
   "execution_count": 8,
   "outputs": [],
   "source": [
    "avg_sentence_lengths = get_average_sentence_lengths(datasets)"
   ],
   "metadata": {
    "collapsed": false,
    "ExecuteTime": {
     "end_time": "2024-03-29T14:30:15.469743Z",
     "start_time": "2024-03-29T14:30:15.467191Z"
    }
   },
   "id": "e29051a6efb3a8c0"
  },
  {
   "cell_type": "code",
   "execution_count": 9,
   "outputs": [],
   "source": [
    "def map_noise_type(noise_type):\n",
    "    mapping = {\n",
    "        'psr': 'Synonym Replacement',\n",
    "        'ppr': 'POS-Tag Replacement',\n",
    "        'pri': 'Random Insertion',\n",
    "        'prs': 'Random Swap',\n",
    "        'prd': 'Random Deletion'\n",
    "    }\n",
    "    return mapping[noise_type]"
   ],
   "metadata": {
    "collapsed": false,
    "ExecuteTime": {
     "end_time": "2024-03-29T14:30:15.847511Z",
     "start_time": "2024-03-29T14:30:15.843867Z"
    }
   },
   "id": "2c8e5ff86666c781"
  },
  {
   "cell_type": "code",
   "execution_count": 10,
   "outputs": [],
   "source": [
    "# read in normal, unmodified test set, compute average sentence length\n",
    "unperturbed_test_set = pd.read_csv('../data/robustness_study/preprocessed/test.csv', sep='\\t', index_col=0)"
   ],
   "metadata": {
    "collapsed": false,
    "ExecuteTime": {
     "end_time": "2024-03-29T14:30:16.200227Z",
     "start_time": "2024-03-29T14:30:16.189821Z"
    }
   },
   "id": "d7e7332d1149831d"
  },
  {
   "cell_type": "code",
   "execution_count": 11,
   "outputs": [],
   "source": [
    "unperturbed_test_set['sentence_lengths'] = calculate_sentence_lengths(unperturbed_test_set)"
   ],
   "metadata": {
    "collapsed": false,
    "ExecuteTime": {
     "end_time": "2024-03-29T14:30:16.464295Z",
     "start_time": "2024-03-29T14:30:16.462435Z"
    }
   },
   "id": "1ab83f2b936f1b16"
  },
  {
   "cell_type": "code",
   "execution_count": 12,
   "outputs": [
    {
     "data": {
      "text/plain": "14.474788221056878"
     },
     "execution_count": 12,
     "metadata": {},
     "output_type": "execute_result"
    }
   ],
   "source": [
    "zero_noise_mean = unperturbed_test_set['sentence_lengths'].mean(); zero_noise_mean"
   ],
   "metadata": {
    "collapsed": false,
    "ExecuteTime": {
     "end_time": "2024-03-29T14:30:16.858512Z",
     "start_time": "2024-03-29T14:30:16.854816Z"
    }
   },
   "id": "a51bec02f105b4ee"
  },
  {
   "cell_type": "code",
   "execution_count": 13,
   "outputs": [],
   "source": [
    "# order the dictionary by noise level\n",
    "avg_sentence_lengths = {k: dict(sorted(v.items())) for k, v in avg_sentence_lengths.items()}"
   ],
   "metadata": {
    "collapsed": false,
    "ExecuteTime": {
     "end_time": "2024-03-29T14:30:17.177820Z",
     "start_time": "2024-03-29T14:30:17.173419Z"
    }
   },
   "id": "cf8807cb74e914f9"
  },
  {
   "cell_type": "code",
   "execution_count": 20,
   "outputs": [],
   "source": [
    "def plot_sentence_length_distribution(zero_noise_mean, avg_sentence_lengths):\n",
    "    \"\"\"\n",
    "    Plot sentence length distribution for all datasets / noise types or for a specific noise type.\n",
    "    :param zero_noise_mean: The average sentence length for the unperturbed test set.\n",
    "    :param avg_sentence_lengths: \n",
    "    :return: \n",
    "    \"\"\"\n",
    "    plt.figure(figsize=(8,6))\n",
    "    plt.ylim(0,18)\n",
    "    plt.xlabel('Noise Level')\n",
    "    plt.ylabel('Average Number of Tokens')\n",
    "    #plt.title(f'Average Sequence Length per Noise Level')\n",
    "        \n",
    "    for noise_type, noise_levels in avg_sentence_lengths.items():\n",
    "        noise_levels_filtered = {k: v for k, v in noise_levels.items() if k != 0}\n",
    "        noise_levels_filtered = noise_levels\n",
    "        # plt.scatter(list(noise_levels_filtered.keys()), list(noise_levels_filtered.values()), marker='o', label=map_noise_type(noise_type))\n",
    "        # line plot instead of scatter\n",
    "        plt.plot(list(noise_levels_filtered.keys()), list(noise_levels_filtered.values()), label=map_noise_type(noise_type), marker='o', alpha=1, lw=3)\n",
    "        \n",
    "    plt.axhline(y=zero_noise_mean, alpha=0.6, linestyle='--', label='Unperturbed Dataset')\n",
    "    plt.xlim(0, 0.52)\n",
    "    plt.legend()\n",
    "    \n",
    "    if SAVE_PLOTS:\n",
    "        plt.tight_layout()\n",
    "        plt.savefig(os.path.join(image_save_path, 'avg_sentence_length_per_noise_level.pdf'))\n",
    "        plt.close()"
   ],
   "metadata": {
    "collapsed": false,
    "ExecuteTime": {
     "end_time": "2024-03-29T14:31:15.963030Z",
     "start_time": "2024-03-29T14:31:15.942698Z"
    }
   },
   "id": "88c78ffb32882c61"
  },
  {
   "cell_type": "code",
   "execution_count": 21,
   "outputs": [
    {
     "data": {
      "text/plain": "<Figure size 576x432 with 1 Axes>",
      "image/png": "[encoded data removed]"
     },
     "metadata": {},
     "output_type": "display_data"
    }
   ],
   "source": [
    "plot_sentence_length_distribution(zero_noise_mean, avg_sentence_lengths)\n",
    "# shouldn't the average sentence length be the same for all noise types for noise level = 0?"
   ],
   "metadata": {
    "collapsed": false,
    "ExecuteTime": {
     "end_time": "2024-03-29T14:31:16.402857Z",
     "start_time": "2024-03-29T14:31:16.323410Z"
    }
   },
   "id": "fa1bed259f12f705"
  },
  {
   "cell_type": "markdown",
   "source": [
    "#### Word Frequencies"
   ],
   "metadata": {
    "collapsed": false
   },
   "id": "5580fba3bb00696"
  },
  {
   "cell_type": "code",
   "execution_count": 59,
   "outputs": [],
   "source": [
    "def get_word_frequencies(datasets: Dict, noise_type=None):\n",
    "    \"\"\"\n",
    "    Get word frequencies for all datasets / noise types or for a specific noise type.\n",
    "    :param datasets: \n",
    "    :param noise_type: \n",
    "    :return: word_frequencies\n",
    "    \"\"\"\n",
    "    word_frequencies = {}\n",
    "\n",
    "    if noise_type is None:\n",
    "        # get word frequencies for all datasets / noise types\n",
    "        for filename, data in datasets.items():\n",
    "            for noise_type, noise_level in data['noises'].items():\n",
    "                if noise_type not in word_frequencies:\n",
    "                    word_frequencies[noise_type] = {}\n",
    "                word_frequencies[noise_type][noise_level] = data['word_freq']\n",
    "    else:\n",
    "        # get word frequencies for a specific noise type\n",
    "        for filename, data in datasets.items():\n",
    "            if noise_type in data['noises']:\n",
    "                noise_level = data['noises'][noise_type]\n",
    "                word_frequencies[noise_level] = data['word_freq']\n",
    "    \n",
    "    return word_frequencies"
   ],
   "metadata": {
    "collapsed": false,
    "ExecuteTime": {
     "end_time": "2024-03-10T10:25:32.260648Z",
     "start_time": "2024-03-10T10:25:32.242223Z"
    }
   },
   "id": "ec5a82667a21378a"
  },
  {
   "cell_type": "code",
   "execution_count": 60,
   "outputs": [],
   "source": [
    "word_frequencies = get_word_frequencies(datasets)"
   ],
   "metadata": {
    "collapsed": false,
    "ExecuteTime": {
     "end_time": "2024-03-10T10:25:32.652546Z",
     "start_time": "2024-03-10T10:25:32.649309Z"
    }
   },
   "id": "3118d43245490f98"
  },
  {
   "cell_type": "code",
   "execution_count": 61,
   "outputs": [],
   "source": [
    "from collections import defaultdict\n",
    "\n",
    "aggregated_word_freq = defaultdict(int)\n",
    "\n",
    "for filename, content in datasets.items():\n",
    "    for word, freq in content['word_freq'].items():\n",
    "        aggregated_word_freq[word] += freq\n",
    "\n",
    "sorted_word_freq = sorted(aggregated_word_freq.items(), key=lambda x: x[1], reverse=True)\n",
    "\n",
    "top_n = 10\n",
    "top_n_words = sorted_word_freq[:top_n]"
   ],
   "metadata": {
    "collapsed": false,
    "ExecuteTime": {
     "end_time": "2024-03-10T10:25:33.051575Z",
     "start_time": "2024-03-10T10:25:33.050172Z"
    }
   },
   "id": "9560cd3fa6b1f7e2"
  },
  {
   "cell_type": "code",
   "execution_count": 62,
   "outputs": [
    {
     "data": {
      "text/plain": "[('<user>', 95767),\n ('a', 45195),\n ('i', 40435),\n ('bitch', 37475),\n ('rt', 34732),\n ('the', 33215),\n ('<emoji>', 32036),\n ('you', 29687),\n ('to', 24513),\n ('and', 19944)]"
     },
     "execution_count": 62,
     "metadata": {},
     "output_type": "execute_result"
    }
   ],
   "source": [
    "top_n_words"
   ],
   "metadata": {
    "collapsed": false,
    "ExecuteTime": {
     "end_time": "2024-03-10T10:25:33.500126Z",
     "start_time": "2024-03-10T10:25:33.493242Z"
    }
   },
   "id": "2ae4138c230c75f9"
  },
  {
   "cell_type": "markdown",
   "source": [
    "#### POS Tag Distributions"
   ],
   "metadata": {
    "collapsed": false
   },
   "id": "7f7b3c3255296cf"
  },
  {
   "cell_type": "code",
   "execution_count": 63,
   "outputs": [],
   "source": [
    "from src.experiments.robustness_study.noise import WordDistributionByPOSTag"
   ],
   "metadata": {
    "collapsed": false,
    "ExecuteTime": {
     "end_time": "2024-03-10T10:25:36.202805Z",
     "start_time": "2024-03-10T10:25:36.037500Z"
    }
   },
   "id": "1a6dda698b92ac0b"
  },
  {
   "cell_type": "code",
   "execution_count": 64,
   "outputs": [],
   "source": [
    "def get_pos_distributions(datasets: Dict, noise_type=None):\n",
    "    \"\"\"\n",
    "    Get POS tag distributions for all datasets / noise types or for a specific noise type.\n",
    "    :param datasets: \n",
    "    :param noise_type: \n",
    "    :return: pos_distributions\n",
    "    \"\"\"\n",
    "    pos_distributions = {}\n",
    "\n",
    "    if noise_type is None:\n",
    "        # get POS tag distributions for all datasets / noise types\n",
    "        for filename, data in datasets.items():\n",
    "            for noise_type, noise_level in data['noises'].items():\n",
    "                if noise_type not in pos_distributions:\n",
    "                    pos_distributions[noise_type] = {}\n",
    "                pos_distributions[noise_type][noise_level] = data['pos_distributions']\n",
    "    else:\n",
    "        # get POS tag distributions for a specific noise type\n",
    "        for filename, data in datasets.items():\n",
    "            if noise_type in data['noises']:\n",
    "                noise_level = data['noises'][noise_type]\n",
    "                pos_distributions[noise_level] = data['pos_distributions']\n",
    "    \n",
    "    return pos_distributions"
   ],
   "metadata": {
    "collapsed": false,
    "ExecuteTime": {
     "end_time": "2024-03-10T10:25:38.963981Z",
     "start_time": "2024-03-10T10:25:38.952333Z"
    }
   },
   "id": "40f3178843e3f055"
  },
  {
   "cell_type": "code",
   "execution_count": 65,
   "outputs": [],
   "source": [
    "pos_distributions = get_pos_distributions(datasets)"
   ],
   "metadata": {
    "collapsed": false,
    "ExecuteTime": {
     "end_time": "2024-03-10T10:25:39.622237Z",
     "start_time": "2024-03-10T10:25:39.617086Z"
    }
   },
   "id": "26ecd707e2bc281f"
  },
  {
   "cell_type": "code",
   "execution_count": 70,
   "outputs": [],
   "source": [
    "# pick out noise type, remap pos tags using WordDistributionByPOSTag.nltk_to_wordnet_pos, plot chart for increasing noise level\n",
    "def plot_pos_distribution(pos_distributions, noise_type='psr'):\n",
    "    # Assuming pos_distributions is a dict with noise levels as keys\n",
    "    # and Counter objects with POS tags as values\n",
    "    plt.figure(figsize=(10, 6))\n",
    "    \n",
    "    pos_counts = pos_distributions[noise_type]  \n",
    "    \n",
    "    for level, pos_counter in sorted(pos_counts.items()):\n",
    "        print(level, pos_counter)\n",
    "        # Select a few top POS tags for clarity in the plot\n",
    "        top_tags = [tag for tag, count in pos_counter.most_common(5)]\n",
    "        values = [pos_counter[tag] for tag in top_tags]\n",
    "        plt.scatter(top_tags, values, label=f'Noise Level {level}')\n",
    "    \n",
    "    plt.xlabel('POS Tags')\n",
    "    plt.ylabel('Frequency')\n",
    "    plt.title('POS Tag Distribution for Noise Type: ' + noise_type)\n",
    "    plt.legend()\n",
    "    plt.show();"
   ],
   "metadata": {
    "collapsed": false,
    "ExecuteTime": {
     "end_time": "2024-03-10T10:26:13.965791Z",
     "start_time": "2024-03-10T10:26:13.944066Z"
    }
   },
   "id": "3f2ea2f2c130a710"
  },
  {
   "cell_type": "code",
   "execution_count": 71,
   "outputs": [
    {
     "name": "stdout",
     "output_type": "stream",
     "text": [
      "0.0 Counter({'NN': 6906, 'JJ': 2380, 'NNP': 1958, 'NNS': 1680, 'VBP': 1572, 'IN': 1497, 'DT': 1449, 'PRP': 913, 'VB': 895, 'RB': 891, 'VBZ': 635, 'VBD': 568, 'PRP$': 482, 'CC': 354, 'VBG': 341, 'TO': 300, 'VBN': 210, 'WRB': 197, 'RP': 146, 'MD': 134, 'WP': 76, 'WDT': 68, 'CD': 63, 'JJR': 34, 'JJS': 34, 'FW': 28, 'RBR': 28, 'PDT': 16, 'EX': 11, 'UH': 5, 'RBS': 3, 'POS': 1})\n",
      "0.05 Counter({'NN': 12448, 'NNP': 4676, 'JJ': 4144, 'IN': 2727, 'VBP': 2612, 'DT': 2589, 'NNS': 2462, 'PRP': 1673, 'VB': 1638, 'RB': 1623, 'VBZ': 1274, 'VBD': 1030, 'PRP$': 846, 'CC': 659, 'VBG': 631, 'TO': 554, 'VBN': 374, 'WRB': 341, 'RP': 297, 'MD': 251, 'WP': 161, 'WDT': 128, 'CD': 105, 'JJS': 62, 'FW': 55, 'JJR': 52, 'PDT': 52, 'RBR': 45, 'EX': 24, 'RBS': 11, 'UH': 6, 'SYM': 2, 'NNPS': 1, \"''\": 1, 'POS': 1})\n",
      "0.1 Counter({'NN': 12631, 'NNP': 4683, 'JJ': 4199, 'IN': 2763, 'VBP': 2614, 'DT': 2610, 'NNS': 2395, 'PRP': 1683, 'VB': 1617, 'RB': 1613, 'VBZ': 1277, 'VBD': 1029, 'PRP$': 847, 'CC': 660, 'VBG': 624, 'TO': 557, 'VBN': 377, 'WRB': 341, 'RP': 314, 'MD': 249, 'WP': 157, 'WDT': 125, 'CD': 98, 'FW': 58, 'JJR': 55, 'JJS': 55, 'PDT': 54, 'RBR': 47, 'EX': 26, 'RBS': 10, 'UH': 6, \"''\": 2, 'NNPS': 1, 'LS': 1, 'SYM': 1, 'POS': 1})\n",
      "0.15 Counter({'NN': 12769, 'NNP': 4695, 'JJ': 4254, 'IN': 2794, 'VBP': 2626, 'DT': 2619, 'NNS': 2351, 'PRP': 1678, 'VB': 1629, 'RB': 1625, 'VBZ': 1280, 'VBD': 986, 'PRP$': 847, 'CC': 662, 'VBG': 582, 'TO': 561, 'VBN': 361, 'WRB': 341, 'RP': 316, 'MD': 257, 'WP': 159, 'WDT': 124, 'CD': 92, 'JJS': 64, 'JJR': 58, 'FW': 57, 'PDT': 53, 'RBR': 44, 'EX': 25, 'RBS': 10, 'UH': 7, 'SYM': 2, 'NNPS': 1, \"''\": 1, 'POS': 1})\n",
      "0.2 Counter({'NN': 12946, 'NNP': 4700, 'JJ': 4256, 'IN': 2779, 'DT': 2634, 'VBP': 2615, 'NNS': 2298, 'PRP': 1687, 'RB': 1643, 'VB': 1631, 'VBZ': 1272, 'VBD': 998, 'PRP$': 850, 'CC': 663, 'VBG': 597, 'TO': 562, 'VBN': 387, 'RP': 347, 'WRB': 340, 'MD': 246, 'WP': 159, 'WDT': 126, 'CD': 95, 'JJS': 58, 'PDT': 53, 'JJR': 51, 'FW': 49, 'RBR': 47, 'EX': 24, 'RBS': 10, 'UH': 5, 'NNPS': 1, 'SYM': 1, \"''\": 1, 'POS': 1})\n",
      "0.25 Counter({'NN': 13176, 'NNP': 4713, 'JJ': 4330, 'IN': 2801, 'DT': 2664, 'VBP': 2608, 'NNS': 2217, 'PRP': 1687, 'VB': 1652, 'RB': 1650, 'VBZ': 1281, 'VBD': 991, 'PRP$': 848, 'CC': 663, 'TO': 562, 'VBG': 556, 'VBN': 373, 'RP': 350, 'WRB': 342, 'MD': 251, 'WP': 157, 'WDT': 125, 'CD': 89, 'JJS': 62, 'FW': 55, 'JJR': 54, 'PDT': 51, 'RBR': 44, 'EX': 25, 'RBS': 11, 'UH': 5, \"''\": 2, 'NNPS': 1, 'POS': 1})\n",
      "0.3 Counter({'NN': 13322, 'NNP': 4680, 'JJ': 4382, 'IN': 2833, 'DT': 2664, 'VBP': 2634, 'NNS': 2210, 'PRP': 1684, 'VB': 1641, 'RB': 1634, 'VBZ': 1258, 'VBD': 971, 'PRP$': 852, 'CC': 672, 'TO': 563, 'VBG': 541, 'RP': 372, 'WRB': 343, 'VBN': 343, 'MD': 239, 'WP': 159, 'WDT': 124, 'CD': 88, 'FW': 60, 'JJR': 59, 'PDT': 55, 'RBR': 54, 'JJS': 53, 'EX': 26, 'RBS': 11, 'UH': 5, 'SYM': 2, 'NNPS': 1, \"''\": 1, 'POS': 1})\n",
      "0.35 Counter({'NN': 13419, 'NNP': 4715, 'JJ': 4403, 'IN': 2902, 'DT': 2657, 'VBP': 2636, 'NNS': 2129, 'PRP': 1692, 'VB': 1670, 'RB': 1629, 'VBZ': 1258, 'VBD': 956, 'PRP$': 848, 'CC': 668, 'TO': 566, 'VBG': 539, 'RP': 403, 'VBN': 340, 'WRB': 339, 'MD': 242, 'WP': 161, 'WDT': 116, 'CD': 98, 'FW': 61, 'JJR': 58, 'JJS': 55, 'PDT': 54, 'RBR': 48, 'EX': 30, 'RBS': 12, 'UH': 5, 'SYM': 2, \"''\": 1, 'POS': 1})\n",
      "0.4 Counter({'NN': 13636, 'NNP': 4727, 'JJ': 4458, 'IN': 2892, 'DT': 2689, 'VBP': 2605, 'NNS': 2109, 'PRP': 1701, 'VB': 1663, 'RB': 1661, 'VBZ': 1269, 'VBD': 922, 'PRP$': 849, 'CC': 678, 'TO': 571, 'VBG': 551, 'RP': 405, 'VBN': 361, 'WRB': 341, 'MD': 241, 'WP': 164, 'WDT': 120, 'CD': 85, 'FW': 61, 'JJS': 55, 'PDT': 54, 'JJR': 53, 'RBR': 33, 'EX': 22, 'RBS': 11, 'UH': 5, 'SYM': 2, 'POS': 1})\n",
      "0.45 Counter({'NN': 13832, 'NNP': 4723, 'JJ': 4525, 'IN': 2909, 'DT': 2704, 'VBP': 2649, 'NNS': 1982, 'PRP': 1702, 'VB': 1665, 'RB': 1635, 'VBZ': 1233, 'VBD': 879, 'PRP$': 850, 'CC': 673, 'TO': 569, 'VBG': 536, 'RP': 410, 'VBN': 361, 'WRB': 347, 'MD': 242, 'WP': 162, 'WDT': 127, 'CD': 82, 'JJS': 56, 'PDT': 51, 'FW': 50, 'JJR': 44, 'RBR': 35, 'EX': 27, 'RBS': 9, 'UH': 3, 'SYM': 2, \"''\": 2, 'POS': 1})\n",
      "0.5 Counter({'NN': 13980, 'NNP': 4766, 'JJ': 4553, 'IN': 2905, 'DT': 2734, 'VBP': 2563, 'NNS': 1965, 'PRP': 1705, 'VB': 1701, 'RB': 1620, 'VBZ': 1245, 'VBD': 896, 'PRP$': 852, 'CC': 668, 'TO': 588, 'VBG': 524, 'RP': 441, 'VBN': 352, 'WRB': 342, 'MD': 244, 'WP': 160, 'WDT': 121, 'CD': 78, 'FW': 66, 'JJR': 63, 'JJS': 63, 'PDT': 54, 'RBR': 45, 'EX': 28, 'RBS': 12, 'UH': 2, 'SYM': 2, \"''\": 1, 'POS': 1})\n"
     ]
    },
    {
     "data": {
      "text/plain": "<Figure size 720x432 with 1 Axes>",
      "image/png": "[encoded data removed]"
     },
     "metadata": {},
     "output_type": "display_data"
    }
   ],
   "source": [
    "plot_pos_distribution(pos_distributions)"
   ],
   "metadata": {
    "collapsed": false,
    "ExecuteTime": {
     "end_time": "2024-03-10T10:26:14.335321Z",
     "start_time": "2024-03-10T10:26:14.196913Z"
    }
   },
   "id": "c0f14ddeedddc02f"
  },
  {
   "cell_type": "code",
   "execution_count": 72,
   "outputs": [
    {
     "data": {
      "text/plain": "Counter({'IN': 2763,\n         'NN': 12631,\n         'RB': 1613,\n         'VBZ': 1277,\n         'JJ': 4199,\n         'CC': 660,\n         'DT': 2610,\n         'VBG': 624,\n         'MD': 249,\n         'VB': 1617,\n         'NNP': 4683,\n         'VBD': 1029,\n         'PRP': 1683,\n         'NNS': 2395,\n         'VBP': 2614,\n         'WRB': 341,\n         'TO': 557,\n         'VBN': 377,\n         'WP': 157,\n         'RP': 314,\n         'PRP$': 847,\n         'CD': 98,\n         'WDT': 125,\n         'EX': 26,\n         'JJR': 55,\n         'FW': 58,\n         'PDT': 54,\n         'JJS': 55,\n         'RBS': 10,\n         'NNPS': 1,\n         'RBR': 47,\n         'UH': 6,\n         'LS': 1,\n         \"''\": 2,\n         'SYM': 1,\n         'POS': 1})"
     },
     "execution_count": 72,
     "metadata": {},
     "output_type": "execute_result"
    }
   ],
   "source": [
    "pos_distributions['psr'][0.1]"
   ],
   "metadata": {
    "collapsed": false,
    "ExecuteTime": {
     "end_time": "2024-03-10T10:26:26.372097Z",
     "start_time": "2024-03-10T10:26:26.362839Z"
    }
   },
   "id": "b832eaad0fb1bf57"
  },
  {
   "cell_type": "markdown",
   "source": [
    "### Further Illustration\n",
    "\n",
    "Pick out a single sequence from unperturbed test set, show how it changes for increasing noise level for each noise type"
   ],
   "metadata": {
    "collapsed": false
   },
   "id": "4c4edbffd3b2f9ed"
  },
  {
   "cell_type": "code",
   "execution_count": 73,
   "outputs": [],
   "source": [
    "def get_sequence(datasets: Dict, noise_type, noise_level, index):\n",
    "    \"\"\"\n",
    "    Get a single sequence from a dataset for a specific noise type and noise level.\n",
    "    :param datasets: \n",
    "    :param noise_type: \n",
    "    :param noise_level: \n",
    "    :param index: \n",
    "    :return: sequence\n",
    "    \"\"\"\n",
    "    p_sr = 0.0\n",
    "    p_pr = 0.0\n",
    "    p_ri = 0.0\n",
    "    p_rs = 0.0\n",
    "    p_rd = 0.0\n",
    "\n",
    "    if noise_type == 'psr':\n",
    "        p_sr = noise_level\n",
    "    elif noise_type == 'ppr':\n",
    "        p_pr = noise_level\n",
    "    elif noise_type == 'pri':\n",
    "        p_ri = noise_level\n",
    "    elif noise_type == 'prs':\n",
    "        p_rs = noise_level\n",
    "    elif noise_type == 'prd':\n",
    "        p_rd = noise_level\n",
    "    else:\n",
    "        raise ValueError(f'Invalid noise type: {noise_type}')\n",
    "        \n",
    "    format_params = f\"_psr{int(p_sr * 100):03d}_ppr{int(p_pr * 100):03d}_pri{int(p_ri * 100):03d}_prs{int(p_rs * 100):03d}_prd{int(p_rd * 100):03d}\"\n",
    "\n",
    "    sequence = datasets['test' + format_params + '.csv']['data']['text'][index]\n",
    "    return sequence"
   ],
   "metadata": {
    "collapsed": false,
    "ExecuteTime": {
     "end_time": "2024-03-10T10:26:29.770984Z",
     "start_time": "2024-03-10T10:26:29.755869Z"
    }
   },
   "id": "3f638aa769e270d"
  },
  {
   "cell_type": "code",
   "execution_count": 77,
   "outputs": [
    {
     "name": "stdout",
     "output_type": "stream",
     "text": [
      "Unperturbed:\n",
      "sighs of relief from beijing guoan fans <hashtag> chinas govt as club nips japanese rival <number> <number> in tense match <hashtag> football <url> \n",
      "\n",
      "Perturbed - Synonym Replacement:\n",
      "suspire of alleviation from peiping guoan devotee <hashtag> mainland china govt as society nips japanese rival <number> <number> in tense peer <hashtag> football <url>\n",
      "\n",
      "Perturbed - POS-Tag Replacement:\n",
      "sighs of relief from beijing guoan bitch <hashtag> chinas govt as oh o japanese rival <number> <number> in tense prob <hashtag> football <url>\n",
      "\n",
      "Perturbed - Random Insertion:\n",
      "sighs easement mainland china of amp relief from tense up twinge beijing guoan fans <hashtag> chinas govt as club nips japanese rival <number> <number> in tense match <hashtag> football <url>\n",
      "\n",
      "Perturbed - Random Swap:\n",
      "sighs <hashtag> nips match beijing of fans club chinas govt from guoan relief <hashtag> rival <number> <number> in tense as japanese football <url>\n",
      "\n",
      "Perturbed - Random Deletion:\n",
      "of relief beijing guoan fans <hashtag> govt club rival <number> <number> tense match <hashtag> <url>\n"
     ]
    }
   ],
   "source": [
    "example_index = 1\n",
    "# unperturbed\n",
    "print('Unperturbed:')\n",
    "print(unperturbed_test_set['text'][example_index])\n",
    "\n",
    "print('\\nPerturbed - Synonym Replacement:')\n",
    "print(get_sequence(datasets, 'psr', 0.5, example_index))\n",
    "\n",
    "print('\\nPerturbed - POS-Tag Replacement:')\n",
    "print(get_sequence(datasets, 'ppr', 0.5, example_index))\n",
    "\n",
    "print('\\nPerturbed - Random Insertion:')\n",
    "print(get_sequence(datasets, 'pri', 0.5, example_index))\n",
    "\n",
    "print('\\nPerturbed - Random Swap:')\n",
    "print(get_sequence(datasets, 'prs', 0.5, example_index))\n",
    "\n",
    "print('\\nPerturbed - Random Deletion:')\n",
    "print(get_sequence(datasets, 'prd', 0.5, example_index))"
   ],
   "metadata": {
    "collapsed": false,
    "ExecuteTime": {
     "end_time": "2024-03-10T10:28:29.723206Z",
     "start_time": "2024-03-10T10:28:29.716626Z"
    }
   },
   "id": "948a50cc23254285"
  },
  {
   "cell_type": "code",
   "execution_count": null,
   "outputs": [],
   "source": [],
   "metadata": {
    "collapsed": false
   },
   "id": "b53268993df108ef"
  }
 ],
 "metadata": {
  "kernelspec": {
   "display_name": "Python 3",
   "language": "python",
   "name": "python3"
  },
  "language_info": {
   "codemirror_mode": {
    "name": "ipython",
    "version": 2
   },
   "file_extension": ".py",
   "mimetype": "text/x-python",
   "name": "python",
   "nbconvert_exporter": "python",
   "pygments_lexer": "ipython2",
   "version": "2.7.6"
  }
 },
 "nbformat": 4,
 "nbformat_minor": 5
}

{
 "cells": [
  {
   "cell_type": "markdown",
   "source": [
    "### Quantifying and Visualizing Distribution Shift in Augmented Test Sets\n",
    "Now that we have generated perturbed variants of the test set, we would like to investigate how the noise affects the distribution of the data. \n",
    "\n",
    "#### 1. Quantifying Distribution Shift\n",
    "- Extract relevant features from both the original and noisy datasets. These features might include word frequencies, sentence lengths, POS tag distributions, etc., depending on what aspects of the data the noise might affect.\n",
    "\n",
    "#### 2. Visualizing Distribution Shift\n",
    "a) Histograms:\n",
    "- Plot histograms for features like sentence length, word frequency, etc., for both datasets. Overlaying these histograms can provide a visual comparison.\n",
    "\n",
    "b) Box Plots:\n",
    "- Box plots are useful for visualizing the distribution of numerical features (e.g., sentence length).\n",
    "\n",
    "c) Word Clouds:\n",
    "- Generate word clouds for the original and noisy datasets to visually compare the most frequent words.\n",
    "\n",
    "d) POS Tag Distribution:\n",
    "- If you have POS tag features, visualize their distribution in both datasets using bar plots."
   ],
   "metadata": {
    "collapsed": false
   },
   "id": "42e866e83b810c50"
  },
  {
   "cell_type": "code",
   "execution_count": 3,
   "id": "initial_id",
   "metadata": {
    "collapsed": true,
    "ExecuteTime": {
     "end_time": "2024-02-01T10:48:23.062279Z",
     "start_time": "2024-02-01T10:48:23.048766Z"
    }
   },
   "outputs": [
    {
     "data": {
      "text/plain": "'/Users/johann/Documents/Uni/real-time-uncertainty-text-classification/analysis'"
     },
     "execution_count": 3,
     "metadata": {},
     "output_type": "execute_result"
    }
   ],
   "source": [
    "import os\n",
    "import pandas as pd\n",
    "import matplotlib.pyplot as plt\n",
    "import nltk\n",
    "from collections import Counter\n",
    "import re\n",
    "from tqdm import tqdm\n",
    "from typing import Dict\n",
    "\n",
    "os.getcwd()"
   ]
  },
  {
   "cell_type": "markdown",
   "source": [
    "### Load data and generate features"
   ],
   "metadata": {
    "collapsed": false
   },
   "id": "ad569a5f5f67d2c8"
  },
  {
   "cell_type": "code",
   "execution_count": 5,
   "outputs": [],
   "source": [
    "def load_datasets(input_dir):\n",
    "    datasets = {}\n",
    "    for file in os.listdir(input_dir):\n",
    "        if file.endswith(\".csv\"):\n",
    "            noise_levels = re.findall(r'_(psr|ppr|pri|prs|prd)(\\d{3})', file)\n",
    "            noise_dict = {typ: int(level) / 100 for typ, level in noise_levels}\n",
    "\n",
    "            df = pd.read_csv(os.path.join(input_dir, file), sep='\\t')\n",
    "            datasets[file] = {'data': df, 'noises': noise_dict}\n",
    "\n",
    "    return datasets\n",
    "\n",
    "datasets = load_datasets('../data/robustness_study/preprocessed_noisy')\n"
   ],
   "metadata": {
    "collapsed": false,
    "ExecuteTime": {
     "end_time": "2024-02-01T10:48:47.597248Z",
     "start_time": "2024-02-01T10:48:47.357836Z"
    }
   },
   "id": "4ffc78fba7eb1e4d"
  },
  {
   "cell_type": "code",
   "execution_count": 63,
   "outputs": [],
   "source": [
    "def load_datasets(input_dir):\n",
    "    datasets = {}\n",
    "\n",
    "    for file in os.listdir(input_dir):\n",
    "        if file.endswith(\".csv\"):\n",
    "            # Extract noise levels from filename\n",
    "            noise_levels = re.findall(r'_(psr|ppr|pri|prs|prd)(\\d{3})', file)\n",
    "            for typ, level in noise_levels:\n",
    "                level = int(level) / 100  # Convert level to a more readable format\n",
    "                \n",
    "                # Read the CSV file\n",
    "                df = pd.read_csv(os.path.join(input_dir, file), sep='\\t')\n",
    "                \n",
    "                # Check if the noise type is already in the dictionary\n",
    "                if typ not in datasets:\n",
    "                    datasets[typ] = {}\n",
    "                # Check if the noise level is already under this noise type\n",
    "                if level not in datasets[typ]:\n",
    "                    datasets[typ][level] = []\n",
    "                \n",
    "                # Append the dataframe and file name to the list under the specific noise type and level\n",
    "                datasets[typ][level].append({'file': file, 'data': df})\n",
    "\n",
    "    return datasets"
   ],
   "metadata": {
    "collapsed": false,
    "ExecuteTime": {
     "end_time": "2024-02-01T11:40:04.215543Z",
     "start_time": "2024-02-01T11:40:04.206891Z"
    }
   },
   "id": "5654afe848bbfdac"
  },
  {
   "cell_type": "code",
   "execution_count": 6,
   "outputs": [],
   "source": [
    "# features\n",
    "def calculate_word_frequencies(df):\n",
    "    word_freq = {}\n",
    "    for text in df['text']:\n",
    "        words = text.split()\n",
    "        for word in words:\n",
    "            if word in word_freq:\n",
    "                word_freq[word] += 1\n",
    "            else:\n",
    "                word_freq[word] = 1\n",
    "    return word_freq\n",
    "\n",
    "def calculate_sentence_lengths(df):\n",
    "    sentence_lengths = df['text'].apply(lambda x: len(x.split()))\n",
    "    return sentence_lengths\n",
    "\n",
    "def calculate_pos_distributions(df):\n",
    "    pos_counts = Counter()\n",
    "    for text in df['text']:\n",
    "        tokens = nltk.word_tokenize(text)\n",
    "        tags = nltk.pos_tag(tokens)\n",
    "        pos_counts.update([tag for _, tag in tags])\n",
    "    return pos_counts\n"
   ],
   "metadata": {
    "collapsed": false,
    "ExecuteTime": {
     "end_time": "2024-02-01T10:48:50.719544Z",
     "start_time": "2024-02-01T10:48:50.708593Z"
    }
   },
   "id": "a76efbefca5cec23"
  },
  {
   "cell_type": "code",
   "execution_count": 7,
   "outputs": [
    {
     "name": "stderr",
     "output_type": "stream",
     "text": [
      "Calculating features: 100%|██████████| 51/51 [01:27<00:00,  1.71s/it]\n"
     ]
    }
   ],
   "source": [
    "# compute features for each dataset\n",
    "# use tqdm to show progress bar\n",
    "\n",
    "for filename, content in tqdm(datasets.items(), desc='Calculating features'):\n",
    "    df = content['data']\n",
    "\n",
    "    word_frequencies = calculate_word_frequencies(df)\n",
    "    sentence_lengths = calculate_sentence_lengths(df)\n",
    "    pos_distributions = calculate_pos_distributions(df)\n",
    "\n",
    "    datasets[filename]['word_freq'] = word_frequencies\n",
    "    datasets[filename]['sentence_lengths'] = sentence_lengths\n",
    "    datasets[filename]['pos_distributions'] = pos_distributions\n"
   ],
   "metadata": {
    "collapsed": false,
    "ExecuteTime": {
     "end_time": "2024-02-01T10:50:20.240498Z",
     "start_time": "2024-02-01T10:48:53.026955Z"
    }
   },
   "id": "7e2170bef82e86e8"
  },
  {
   "cell_type": "markdown",
   "source": [
    "### Visualize distribution shift\n",
    "\n",
    "#### Sentence Lengths"
   ],
   "metadata": {
    "collapsed": false
   },
   "id": "26b6fb0b8ead115b"
  },
  {
   "cell_type": "code",
   "execution_count": 25,
   "outputs": [],
   "source": [
    "zero_noise_mean = datasets['test_psr000_ppr000_pri000_prs000_prd000.csv']['sentence_lengths'].mean()"
   ],
   "metadata": {
    "collapsed": false,
    "ExecuteTime": {
     "end_time": "2024-02-01T11:01:35.370842Z",
     "start_time": "2024-02-01T11:01:35.360756Z"
    }
   },
   "id": "47c18334da3836e9"
  },
  {
   "cell_type": "code",
   "execution_count": 40,
   "outputs": [],
   "source": [
    "def get_average_sentence_lengths(datasets, noise_type=None):\n",
    "    \"\"\"\n",
    "    Get average sentence lengths for all datasets/noise types or for a specific noise type.\n",
    "    :param datasets: Dictionary of datasets\n",
    "    :param noise_type: Optional; specific noise type to filter by\n",
    "    :return: Dictionary of average sentence lengths\n",
    "    \"\"\"\n",
    "    avg_sentence_lengths = {}\n",
    "\n",
    "    for filename, data in datasets.items():\n",
    "        if noise_type is None:\n",
    "            # Calculate for all noise types\n",
    "            for n_type, n_level in data['noises'].items():\n",
    "                if n_type not in avg_sentence_lengths:\n",
    "                    avg_sentence_lengths[n_type] = {}\n",
    "                if n_level == 0:  # For noise level of zero, match specific dataset value\n",
    "                    if filename == 'test_psr000_ppr000_pri000_prs000_prd000.csv':\n",
    "                        avg_sentence_lengths[n_type][n_level] = data['sentence_lengths'].mean()\n",
    "                else:\n",
    "                    avg_sentence_lengths[n_type][n_level] = data['sentence_lengths'].mean()\n",
    "        else:\n",
    "            # Calculate for a specific noise type\n",
    "            if noise_type in data['noises']:\n",
    "                noise_levels = data['noises'][noise_type]\n",
    "                for n_level in noise_levels:\n",
    "                    if n_level == 0 and filename == 'test_psr000_ppr000_pri000_prs000_prd000.csv':\n",
    "                        avg_sentence_lengths[n_level] = data['sentence_lengths'].mean()\n",
    "                    elif n_level not in avg_sentence_lengths:\n",
    "                        avg_sentence_lengths[n_level] = data['sentence_lengths'].mean()\n",
    "\n",
    "    return avg_sentence_lengths\n"
   ],
   "metadata": {
    "collapsed": false,
    "ExecuteTime": {
     "end_time": "2024-02-01T11:08:16.512792Z",
     "start_time": "2024-02-01T11:08:16.496320Z"
    }
   },
   "id": "2c650db7fc36ebd9"
  },
  {
   "cell_type": "code",
   "execution_count": 41,
   "outputs": [],
   "source": [
    "avg_sentence_lengths = get_average_sentence_lengths(datasets)"
   ],
   "metadata": {
    "collapsed": false,
    "ExecuteTime": {
     "end_time": "2024-02-01T11:08:17.118637Z",
     "start_time": "2024-02-01T11:08:17.111414Z"
    }
   },
   "id": "e29051a6efb3a8c0"
  },
  {
   "cell_type": "code",
   "execution_count": 42,
   "outputs": [
    {
     "data": {
      "text/plain": "{'psr': {0.35: 15.414201183431953,\n  0.3: 15.262237762237762,\n  0.05: 14.454545454545455,\n  0.4: 15.57396449704142,\n  0.0: 14.285906401291017,\n  0.45: 15.693383539537386,\n  0.2: 14.9228079612695,\n  0.25: 15.103550295857989,\n  0.1: 14.605433028509951,\n  0.15: 14.766541151156536,\n  0.5: 15.907746100053792},\n 'ppr': {0.2: 14.330016137708446,\n  0.5: 14.330016137708446,\n  0.05: 14.330016137708446,\n  0.0: 14.285906401291017,\n  0.25: 14.330016137708446,\n  0.35: 14.330016137708446,\n  0.1: 14.330016137708446,\n  0.45: 14.330016137708446,\n  0.15: 14.330016137708446,\n  0.4: 14.330016137708446,\n  0.3: 14.330016137708446},\n 'pri': {0.5: 16.821947283485745,\n  0.05: 14.79908552985476,\n  0.0: 14.285906401291017,\n  0.3: 16.345346960731575,\n  0.35: 16.3986013986014,\n  0.2: 15.905594405594405,\n  0.25: 16.08660570199032,\n  0.15: 15.5771920387305,\n  0.1: 15.222162452931684,\n  0.45: 16.78348574502421,\n  0.4: 16.64873587950511},\n 'prs': {0.35: 14.285906401291017,\n  0.3: 14.285906401291017,\n  0.0: 14.285906401291017,\n  0.5: 14.285906401291017,\n  0.05: 14.285906401291017,\n  0.2: 14.285906401291017,\n  0.25: 14.285906401291017,\n  0.15: 14.285906401291017,\n  0.4: 14.285906401291017,\n  0.1: 14.285906401291017,\n  0.45: 14.285906401291017},\n 'prd': {0.0: 14.285906401291017,\n  0.15: 12.14550833781603,\n  0.05: 13.569392146315224,\n  0.1: 12.870360408821947,\n  0.35: 9.270306616460463,\n  0.2: 11.489779451317913,\n  0.3: 9.984400215169446,\n  0.25: 10.712748789671867,\n  0.4: 8.594136632598172,\n  0.5: 7.157073695535234,\n  0.45: 7.887305002689618}}"
     },
     "execution_count": 42,
     "metadata": {},
     "output_type": "execute_result"
    }
   ],
   "source": [
    "avg_sentence_lengths"
   ],
   "metadata": {
    "collapsed": false,
    "ExecuteTime": {
     "end_time": "2024-02-01T11:08:17.689721Z",
     "start_time": "2024-02-01T11:08:17.687100Z"
    }
   },
   "id": "88b5f72becbf34b6"
  },
  {
   "cell_type": "code",
   "execution_count": 57,
   "outputs": [],
   "source": [
    "def map_noise_type(noise_type):\n",
    "    mapping = {\n",
    "        'psr': 'Synonym Replacement',\n",
    "        'ppr': 'POS-Tag Replacement',\n",
    "        'pri': 'Random Insertion',\n",
    "        'prs': 'Random Swap',\n",
    "        'prd': 'Random Deletion'\n",
    "    }\n",
    "    return mapping[noise_type]"
   ],
   "metadata": {
    "collapsed": false,
    "ExecuteTime": {
     "end_time": "2024-02-01T11:18:40.042985Z",
     "start_time": "2024-02-01T11:18:40.032130Z"
    }
   },
   "id": "2c8e5ff86666c781"
  },
  {
   "cell_type": "code",
   "execution_count": 61,
   "outputs": [],
   "source": [
    "def plot_sentence_length_distribution(zero_noise_mean, avg_sentence_lengths):\n",
    "    \"\"\"\n",
    "    Plot sentence length distribution for all datasets / noise types or for a specific noise type.\n",
    "    :param zero_noise_mean: The average sentence length for the unperturbed test set.\n",
    "    :param avg_sentence_lengths: \n",
    "    :return: \n",
    "    \"\"\"\n",
    "    plt.figure(figsize=(10, 10))\n",
    "    plt.ylim(0,18)\n",
    "    plt.xlabel('Noise Level')\n",
    "    plt.ylabel('Average Sentence Length (Tokens)')\n",
    "    plt.title(f'Average Sequence Length per Noise Level')\n",
    "        \n",
    "    for noise_type, noise_levels in avg_sentence_lengths.items():\n",
    "        noise_levels_filtered = {k: v for k, v in noise_levels.items() if k != 0}\n",
    "        plt.scatter(list(noise_levels_filtered.keys()), list(noise_levels_filtered.values()), label=map_noise_type(noise_type))\n",
    "        \n",
    "    plt.axhline(y=zero_noise_mean, alpha=0.6, linestyle='--', label='Unperturbed Dataset')\n",
    "    plt.xlim(0, 0.55)\n",
    "    \n",
    "    plt.legend()"
   ],
   "metadata": {
    "collapsed": false,
    "ExecuteTime": {
     "end_time": "2024-02-01T11:19:00.347272Z",
     "start_time": "2024-02-01T11:19:00.336102Z"
    }
   },
   "id": "88c78ffb32882c61"
  },
  {
   "cell_type": "code",
   "execution_count": 62,
   "outputs": [
    {
     "data": {
      "text/plain": "<Figure size 720x720 with 1 Axes>",
      "image/png": "[encoded data removed]"
     },
     "metadata": {
      "needs_background": "light"
     },
     "output_type": "display_data"
    }
   ],
   "source": [
    "plot_sentence_length_distribution(zero_noise_mean, avg_sentence_lengths)\n",
    "# shouldn't the average sentence length be the same for all noise types for noise level = 0?"
   ],
   "metadata": {
    "collapsed": false,
    "ExecuteTime": {
     "end_time": "2024-02-01T11:19:00.764894Z",
     "start_time": "2024-02-01T11:19:00.674121Z"
    }
   },
   "id": "fa1bed259f12f705"
  },
  {
   "cell_type": "markdown",
   "source": [
    "#### Word Frequencies"
   ],
   "metadata": {
    "collapsed": false
   },
   "id": "5580fba3bb00696"
  },
  {
   "cell_type": "code",
   "execution_count": 52,
   "outputs": [],
   "source": [
    "def get_word_frequencies(datasets: Dict, noise_type=None):\n",
    "    \"\"\"\n",
    "    Get word frequencies for all datasets / noise types or for a specific noise type.\n",
    "    :param datasets: \n",
    "    :param noise_type: \n",
    "    :return: word_frequencies\n",
    "    \"\"\"\n",
    "    word_frequencies = {}\n",
    "\n",
    "    if noise_type is None:\n",
    "        # get word frequencies for all datasets / noise types\n",
    "        for filename, data in datasets.items():\n",
    "            for noise_type, noise_level in data['noises'].items():\n",
    "                if noise_type not in word_frequencies:\n",
    "                    word_frequencies[noise_type] = {}\n",
    "                word_frequencies[noise_type][noise_level] = data['word_freq']\n",
    "    else:\n",
    "        # get word frequencies for a specific noise type\n",
    "        for filename, data in datasets.items():\n",
    "            if noise_type in data['noises']:\n",
    "                noise_level = data['noises'][noise_type]\n",
    "                word_frequencies[noise_level] = data['word_freq']\n",
    "    \n",
    "    return word_frequencies"
   ],
   "metadata": {
    "collapsed": false,
    "ExecuteTime": {
     "end_time": "2023-12-01T19:10:06.633940Z",
     "start_time": "2023-12-01T19:10:06.615255Z"
    }
   },
   "id": "ec5a82667a21378a"
  },
  {
   "cell_type": "code",
   "execution_count": 53,
   "outputs": [],
   "source": [
    "word_frequencies = get_word_frequencies(datasets)"
   ],
   "metadata": {
    "collapsed": false,
    "ExecuteTime": {
     "end_time": "2023-12-01T19:10:16.246939Z",
     "start_time": "2023-12-01T19:10:16.243074Z"
    }
   },
   "id": "3118d43245490f98"
  },
  {
   "cell_type": "code",
   "execution_count": 76,
   "outputs": [],
   "source": [
    "from collections import defaultdict\n",
    "\n",
    "aggregated_word_freq = defaultdict(int)\n",
    "\n",
    "for filename, content in datasets.items():\n",
    "    for word, freq in content['word_freq'].items():\n",
    "        aggregated_word_freq[word] += freq\n",
    "\n",
    "sorted_word_freq = sorted(aggregated_word_freq.items(), key=lambda x: x[1], reverse=True)\n",
    "\n",
    "top_n = 10\n",
    "top_n_words = sorted_word_freq[:top_n]"
   ],
   "metadata": {
    "collapsed": false,
    "ExecuteTime": {
     "end_time": "2023-12-01T19:22:23.447421Z",
     "start_time": "2023-12-01T19:22:23.380435Z"
    }
   },
   "id": "9560cd3fa6b1f7e2"
  },
  {
   "cell_type": "code",
   "execution_count": 77,
   "outputs": [
    {
     "data": {
      "text/plain": "[('user', 133376),\n ('a', 66609),\n ('emoji', 58999),\n ('bitch', 57546),\n ('rt', 52636),\n ('i', 51695),\n ('the', 51224),\n ('you', 45127),\n ('to', 36767),\n ('and', 30217)]"
     },
     "execution_count": 77,
     "metadata": {},
     "output_type": "execute_result"
    }
   ],
   "source": [
    "top_n_words"
   ],
   "metadata": {
    "collapsed": false,
    "ExecuteTime": {
     "end_time": "2023-12-01T19:22:28.349924Z",
     "start_time": "2023-12-01T19:22:28.333194Z"
    }
   },
   "id": "2ae4138c230c75f9"
  },
  {
   "cell_type": "markdown",
   "source": [
    "#### POS Tag Distributions"
   ],
   "metadata": {
    "collapsed": false
   },
   "id": "7f7b3c3255296cf"
  },
  {
   "cell_type": "code",
   "execution_count": 83,
   "outputs": [],
   "source": [
    "from src.experiments.robustness_study.noise import WordDistributionByPOSTag"
   ],
   "metadata": {
    "collapsed": false,
    "ExecuteTime": {
     "end_time": "2023-12-01T19:25:32.809801Z",
     "start_time": "2023-12-01T19:25:32.801380Z"
    }
   },
   "id": "1a6dda698b92ac0b"
  },
  {
   "cell_type": "code",
   "execution_count": 78,
   "outputs": [],
   "source": [
    "def get_pos_distributions(datasets: Dict, noise_type=None):\n",
    "    \"\"\"\n",
    "    Get POS tag distributions for all datasets / noise types or for a specific noise type.\n",
    "    :param datasets: \n",
    "    :param noise_type: \n",
    "    :return: pos_distributions\n",
    "    \"\"\"\n",
    "    pos_distributions = {}\n",
    "\n",
    "    if noise_type is None:\n",
    "        # get POS tag distributions for all datasets / noise types\n",
    "        for filename, data in datasets.items():\n",
    "            for noise_type, noise_level in data['noises'].items():\n",
    "                if noise_type not in pos_distributions:\n",
    "                    pos_distributions[noise_type] = {}\n",
    "                pos_distributions[noise_type][noise_level] = data['pos_distributions']\n",
    "    else:\n",
    "        # get POS tag distributions for a specific noise type\n",
    "        for filename, data in datasets.items():\n",
    "            if noise_type in data['noises']:\n",
    "                noise_level = data['noises'][noise_type]\n",
    "                pos_distributions[noise_level] = data['pos_distributions']\n",
    "    \n",
    "    return pos_distributions"
   ],
   "metadata": {
    "collapsed": false,
    "ExecuteTime": {
     "end_time": "2023-12-01T19:23:07.966438Z",
     "start_time": "2023-12-01T19:23:07.946848Z"
    }
   },
   "id": "40f3178843e3f055"
  },
  {
   "cell_type": "code",
   "execution_count": 79,
   "outputs": [],
   "source": [
    "pos_distributions = get_pos_distributions(datasets)"
   ],
   "metadata": {
    "collapsed": false,
    "ExecuteTime": {
     "end_time": "2023-12-01T19:23:09.435367Z",
     "start_time": "2023-12-01T19:23:09.416261Z"
    }
   },
   "id": "26ecd707e2bc281f"
  },
  {
   "cell_type": "code",
   "execution_count": 101,
   "outputs": [],
   "source": [
    "# pick out noise type, remap pos tags using WordDistributionByPOSTag.nltk_to_wordnet_pos, plot chart for increasing noise level\n",
    "def plot_pos_distribution(pos_distributions, noise_type='psr'):\n",
    "    # Assuming pos_distributions is a dict with noise levels as keys\n",
    "    # and Counter objects with POS tags as values\n",
    "    plt.figure(figsize=(10, 6))\n",
    "    \n",
    "    pos_counts = pos_distributions[noise_type]  \n",
    "    \n",
    "    for level, pos_counter in sorted(pos_counts.items()):\n",
    "        print(level, pos_counter)\n",
    "        # Select a few top POS tags for clarity in the plot\n",
    "        top_tags = [tag for tag, count in pos_counter.most_common(5)]\n",
    "        values = [pos_counter[tag] for tag in top_tags]\n",
    "        plt.plot(top_tags, values, label=f'Noise Level {level}')\n",
    "    \n",
    "    plt.xlabel('POS Tags')\n",
    "    plt.ylabel('Frequency')\n",
    "    plt.title('POS Tag Distribution for Noise Type: ' + noise_type)\n",
    "    plt.legend()\n",
    "    plt.show()"
   ],
   "metadata": {
    "collapsed": false,
    "ExecuteTime": {
     "end_time": "2023-12-01T19:34:34.543923Z",
     "start_time": "2023-12-01T19:34:34.542015Z"
    }
   },
   "id": "3f2ea2f2c130a710"
  },
  {
   "cell_type": "code",
   "execution_count": 102,
   "outputs": [
    {
     "name": "stdout",
     "output_type": "stream",
     "text": [
      "0.0 {'n': 53, 'a': 43, 'v': 302, 'r': 7, None: 4}\n"
     ]
    },
    {
     "ename": "AttributeError",
     "evalue": "'dict' object has no attribute 'most_common'",
     "output_type": "error",
     "traceback": [
      "\u001B[0;31m---------------------------------------------------------------------------\u001B[0m",
      "\u001B[0;31mAttributeError\u001B[0m                            Traceback (most recent call last)",
      "Input \u001B[0;32mIn [102]\u001B[0m, in \u001B[0;36m<cell line: 1>\u001B[0;34m()\u001B[0m\n\u001B[0;32m----> 1\u001B[0m \u001B[43mplot_pos_distribution\u001B[49m\u001B[43m(\u001B[49m\u001B[43mpos_distributions\u001B[49m\u001B[43m)\u001B[49m\n",
      "Input \u001B[0;32mIn [101]\u001B[0m, in \u001B[0;36mplot_pos_distribution\u001B[0;34m(pos_distributions, noise_type)\u001B[0m\n\u001B[1;32m     10\u001B[0m \u001B[38;5;28mprint\u001B[39m(level, pos_counter)\n\u001B[1;32m     11\u001B[0m \u001B[38;5;66;03m# Select a few top POS tags for clarity in the plot\u001B[39;00m\n\u001B[0;32m---> 12\u001B[0m top_tags \u001B[38;5;241m=\u001B[39m [tag \u001B[38;5;28;01mfor\u001B[39;00m tag, count \u001B[38;5;129;01min\u001B[39;00m \u001B[43mpos_counter\u001B[49m\u001B[38;5;241;43m.\u001B[39;49m\u001B[43mmost_common\u001B[49m(\u001B[38;5;241m5\u001B[39m)]\n\u001B[1;32m     13\u001B[0m values \u001B[38;5;241m=\u001B[39m [pos_counter[tag] \u001B[38;5;28;01mfor\u001B[39;00m tag \u001B[38;5;129;01min\u001B[39;00m top_tags]\n\u001B[1;32m     14\u001B[0m plt\u001B[38;5;241m.\u001B[39mplot(top_tags, values, label\u001B[38;5;241m=\u001B[39m\u001B[38;5;124mf\u001B[39m\u001B[38;5;124m'\u001B[39m\u001B[38;5;124mNoise Level \u001B[39m\u001B[38;5;132;01m{\u001B[39;00mlevel\u001B[38;5;132;01m}\u001B[39;00m\u001B[38;5;124m'\u001B[39m)\n",
      "\u001B[0;31mAttributeError\u001B[0m: 'dict' object has no attribute 'most_common'"
     ]
    },
    {
     "data": {
      "text/plain": "<Figure size 720x432 with 0 Axes>"
     },
     "metadata": {},
     "output_type": "display_data"
    }
   ],
   "source": [
    "plot_pos_distribution(pos_distributions)"
   ],
   "metadata": {
    "collapsed": false,
    "ExecuteTime": {
     "end_time": "2023-12-01T19:34:34.913665Z",
     "start_time": "2023-12-01T19:34:34.908882Z"
    }
   },
   "id": "c0f14ddeedddc02f"
  },
  {
   "cell_type": "code",
   "execution_count": 110,
   "outputs": [
    {
     "data": {
      "text/plain": "Counter({'NN': 17975,\n         'VBP': 2877,\n         'JJ': 5714,\n         'NNS': 2792,\n         'RP': 455,\n         'TO': 826,\n         'VB': 2598,\n         'IN': 4107,\n         'MD': 335,\n         'VBZ': 1201,\n         'DT': 3740,\n         'VBG': 940,\n         'VBD': 1360,\n         'RB': 2793,\n         'PRP': 2395,\n         'VBN': 561,\n         'CC': 961,\n         'PRP$': 1224,\n         'CD': 146,\n         \"''\": 93,\n         'WRB': 396,\n         'WDT': 158,\n         'WP': 237,\n         'PDT': 68,\n         'RBR': 82,\n         'EX': 21,\n         'JJR': 98,\n         'NNP': 163,\n         'FW': 44,\n         'JJS': 74,\n         'UH': 15,\n         'RBS': 14,\n         'WP$': 3,\n         'NNPS': 1})"
     },
     "execution_count": 110,
     "metadata": {},
     "output_type": "execute_result"
    }
   ],
   "source": [
    "pos_distributions['psr'][0.1]"
   ],
   "metadata": {
    "collapsed": false,
    "ExecuteTime": {
     "end_time": "2023-12-01T19:35:34.168033Z",
     "start_time": "2023-12-01T19:35:34.164520Z"
    }
   },
   "id": "b832eaad0fb1bf57"
  },
  {
   "cell_type": "markdown",
   "source": [
    "### Further Illustration\n",
    "\n",
    "Pick out a single sequence from unperturbed test set, show how it changes for increasing noise level for each noise type"
   ],
   "metadata": {
    "collapsed": false
   },
   "id": "4c4edbffd3b2f9ed"
  },
  {
   "cell_type": "code",
   "execution_count": 117,
   "outputs": [],
   "source": [
    "def get_sequence(datasets: Dict, noise_type, noise_level, index):\n",
    "    \"\"\"\n",
    "    Get a single sequence from a dataset for a specific noise type and noise level.\n",
    "    :param datasets: \n",
    "    :param noise_type: \n",
    "    :param noise_level: \n",
    "    :param index: \n",
    "    :return: sequence\n",
    "    \"\"\"\n",
    "    p_sr = 0.0\n",
    "    p_pr = 0.0\n",
    "    p_ri = 0.0\n",
    "    p_rs = 0.0\n",
    "    p_rd = 0.0\n",
    "\n",
    "    if noise_type == 'psr':\n",
    "        p_sr = noise_level\n",
    "    elif noise_type == 'ppr':\n",
    "        p_pr = noise_level\n",
    "    elif noise_type == 'pri':\n",
    "        p_ri = noise_level\n",
    "    elif noise_type == 'prs':\n",
    "        p_rs = noise_level\n",
    "    elif noise_type == 'prd':\n",
    "        p_rd = noise_level\n",
    "    else:\n",
    "        raise ValueError(f'Invalid noise type: {noise_type}')\n",
    "        \n",
    "    format_params = f\"_psr{int(p_sr * 100):03d}_ppr{int(p_pr * 100):03d}_pri{int(p_ri * 100):03d}_prs{int(p_rs * 100):03d}_prd{int(p_rd * 100):03d}\"\n",
    "\n",
    "    sequence = datasets['test' + format_params + '.csv']['data']['text'][index]\n",
    "    return sequence"
   ],
   "metadata": {
    "collapsed": false,
    "ExecuteTime": {
     "end_time": "2023-12-01T19:42:35.377515Z",
     "start_time": "2023-12-01T19:42:35.370799Z"
    }
   },
   "id": "3f638aa769e270d"
  },
  {
   "cell_type": "code",
   "execution_count": 135,
   "outputs": [
    {
     "name": "stdout",
     "output_type": "stream",
     "text": [
      "user wanted me to let everyone know he downloaded the whole acoustic justin bieber album hashtag fag\n",
      "exploiter need maine to let everyone know he download the entirely acoustical justin bieber album hashtag fag\n",
      "user goes me to let everyone know he downloaded the whole acoustic justin bieber shit hashtag ass\n",
      "user wanted me to let everyone know he downloaded the whole acoustic justin bieber album hashtag fag\n",
      "let bieber whole know hashtag acoustic the he wanted downloaded me to justin everyone album user fag\n",
      "user wanted to let whole acoustic album fag\n"
     ]
    }
   ],
   "source": [
    "example_index = 71\n",
    "print(get_sequence(datasets, 'psr', 0.0, example_index))\n",
    "print(get_sequence(datasets, 'psr', 0.5, example_index))\n",
    "print(get_sequence(datasets, 'ppr', 0.5, example_index))\n",
    "print(get_sequence(datasets, 'pri', 0.5, example_index))\n",
    "print(get_sequence(datasets, 'prs', 0.5, example_index))\n",
    "print(get_sequence(datasets, 'prd', 0.5, example_index))"
   ],
   "metadata": {
    "collapsed": false,
    "ExecuteTime": {
     "end_time": "2023-12-01T19:46:56.765634Z",
     "start_time": "2023-12-01T19:46:56.762800Z"
    }
   },
   "id": "948a50cc23254285"
  },
  {
   "cell_type": "code",
   "execution_count": null,
   "outputs": [],
   "source": [],
   "metadata": {
    "collapsed": false
   },
   "id": "2f31fe873cd3396b"
  }
 ],
 "metadata": {
  "kernelspec": {
   "display_name": "Python 3",
   "language": "python",
   "name": "python3"
  },
  "language_info": {
   "codemirror_mode": {
    "name": "ipython",
    "version": 2
   },
   "file_extension": ".py",
   "mimetype": "text/x-python",
   "name": "python",
   "nbconvert_exporter": "python",
   "pygments_lexer": "ipython2",
   "version": "2.7.6"
  }
 },
 "nbformat": 4,
 "nbformat_minor": 5
}
